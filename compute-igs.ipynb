{
 "cells": [
  {
   "cell_type": "code",
   "execution_count": 43,
   "id": "8fb9e4ab",
   "metadata": {
    "execution": {
     "iopub.execute_input": "2022-08-23T13:18:54.784622Z",
     "iopub.status.busy": "2022-08-23T13:18:54.784269Z",
     "iopub.status.idle": "2022-08-23T13:18:54.791178Z",
     "shell.execute_reply": "2022-08-23T13:18:54.790547Z"
    }
   },
   "outputs": [],
   "source": [
    "import os\n",
    "import nibabel as nib\n",
    "import numpy as np\n",
    "import nilearn\n",
    "from nilearn import image\n",
    "import pandas as pd\n",
    "from hampel import hampel\n",
    "import scipy.stats as stats\n",
    "import matplotlib.pyplot as plt"
   ]
  },
  {
   "cell_type": "code",
   "execution_count": 44,
   "id": "b8a13595",
   "metadata": {
    "execution": {
     "iopub.execute_input": "2022-08-23T13:18:54.794275Z",
     "iopub.status.busy": "2022-08-23T13:18:54.793980Z",
     "iopub.status.idle": "2022-08-23T13:18:54.797314Z",
     "shell.execute_reply": "2022-08-23T13:18:54.796753Z"
    }
   },
   "outputs": [],
   "source": [
    "# data_dir = '/arc/project/st-ipor-1/mkhademi/BOLD5000_2.0/'\n",
    "# output_dir = '/scratch/st-ipor-1/mkhademi/'\n",
    "output_dir = 'C:\\\\Users\\\\mahkh\\\\Documents\\\\'\n",
    "roi_dir = output_dir + 'image_data\\\\parcels\\\\'\n",
    "subjs = ['CSI1', 'CSI2', 'CSI3', 'CSI4']\n",
    "roi_names =['lFFA','rFFA','lOFA','rOFA','lSTS','rSTS','lLOC','rLOC','lPPA','rPPA','lRSC','rRSC','lTOS','rTOS','lEBA','rEBA']\n",
    "roi_voxels = {'lFFA': 531, 'rFFA': 1019, 'lOFA': 211, 'rOFA': 790, 'lSTS': 844, 'rSTS': 2505, 'lLOC': 4971, 'rLOC': 5085,\n",
    "             'lPPA': 732, 'rPPA': 553, 'lRSC': 1063, 'rRSC': 1741, 'lTOS': 133, 'rTOS': 251, 'lEBA': 2155, 'rEBA': 2413}"
   ]
  },
  {
   "cell_type": "code",
   "execution_count": 45,
   "id": "ae4427be",
   "metadata": {},
   "outputs": [
    {
     "name": "stderr",
     "output_type": "stream",
     "text": [
      "C:\\Users\\mahkh\\anaconda3\\lib\\site-packages\\numpy\\lib\\nanfunctions.py:1119: RuntimeWarning: All-NaN slice encountered\n",
      "  r, k = function_base._ureduce(a, func=_nanmedian, axis=axis, out=out,\n"
     ]
    }
   ],
   "source": [
    "sub = subjs[0]\n",
    "#sub = 'all'\n",
    "j = 90 # face\n",
    "dif = nib.load(output_dir + 'image_data/vis/dif-' + sub + '-c' + str(j) + '.nii.gz') \n",
    "dif = nilearn.image.resample_img(dif, target_shape=(79, 95, 69), target_affine=dif.affine)\n",
    "dif = np.array(dif.dataobj)\n",
    "#dif = dif[6:91-6, 7:109-7, 11:91-11]\n",
    "dif_rois = []\n",
    "no_roi = np.ones((79, 95, 69), dtype=np.uint8)\n",
    "for roi_name in roi_names:\n",
    "    roi = nib.load(roi_dir + roi_name + '.img')\n",
    "    roi = np.array(roi.dataobj)\n",
    "    no_roi[np.nonzero(roi)] = 0\n",
    "    tmp = dif[np.nonzero(roi)]\n",
    "    tmp[tmp == 0.0] = np.nan\n",
    "    dif_rois.append(np.nanmedian(tmp))"
   ]
  },
  {
   "cell_type": "code",
   "execution_count": 46,
   "id": "9ab1f068",
   "metadata": {},
   "outputs": [
    {
     "name": "stdout",
     "output_type": "stream",
     "text": [
      "rest: -0.00079246\n",
      "lFFA: 0.00139239\n",
      "rFFA: -0.00160833\n",
      "lOFA: 0.0025602\n",
      "rOFA: 0.00271917\n",
      "lSTS: -0.00198917\n",
      "rSTS: -0.00497076\n",
      "lLOC: -0.00032066\n",
      "rLOC: -0.00072202\n",
      "lPPA: 0.00039756\n",
      "rPPA: 0.00025593\n",
      "lRSC: 2.883e-05\n",
      "rRSC: -0.001782\n",
      "lTOS: -0.00177655\n",
      "rTOS: nan\n",
      "lEBA: 0.00049257\n",
      "rEBA: 0.01279607\n"
     ]
    }
   ],
   "source": [
    "dif_rois = np.array(dif_rois)\n",
    "tmp = dif[np.nonzero(no_roi)]\n",
    "tmp[tmp == 0.0] = np.nan\n",
    "print('rest' + ':', np.round(np.nanmedian(tmp), 8)) \n",
    "for i, roi_name in enumerate(roi_names): \n",
    "    print(roi_name + ':', np.round(dif_rois[i], 8))"
   ]
  },
  {
   "cell_type": "code",
   "execution_count": 47,
   "id": "f5c3c337",
   "metadata": {},
   "outputs": [
    {
     "name": "stdout",
     "output_type": "stream",
     "text": [
      "p_pos 0.0003862810146529228\n",
      "p_neg -0.0003916417830623686\n"
     ]
    }
   ],
   "source": [
    "sub = subjs[0]\n",
    "#sub = 'all'\n",
    "j = 90\n",
    "igs = nib.load(output_dir + 'image_data/vis/igs-' + sub + '-c' + str(j) + '.nii.gz') \n",
    "igs = nilearn.image.resample_img(igs, target_shape=(79, 95, 69), target_affine=igs.affine)\n",
    "igs = np.array(igs.dataobj)\n",
    "#igs = igs[6:91-6, 7:109-7, 11:91-11]\n",
    "\n",
    "tmp = igs.reshape(-1)\n",
    "tmp[tmp == 0.0] = np.nan\n",
    "tmp = tmp[~np.isnan(tmp)]\n",
    "p_pos = np.nanpercentile(tmp, 90)\n",
    "print(\"p_pos\", p_pos)\n",
    "p_neg = np.nanpercentile(tmp, 10)\n",
    "print(\"p_neg\", p_neg)\n",
    "\n",
    "igs_rois = []\n",
    "all_prop_pos = []\n",
    "all_prop_neg = []\n",
    "no_roi = np.ones((79, 95, 69), dtype=np.uint8)\n",
    "for roi_name in roi_names:\n",
    "    roi = nib.load(roi_dir + roi_name + '.img')\n",
    "    roi = np.array(roi.dataobj)\n",
    "    no_roi[np.nonzero(roi)] = 0\n",
    "    tmp = igs[np.nonzero(roi)]\n",
    "    tmp[tmp == 0.0] = np.nan\n",
    "    tmp = tmp[~np.isnan(tmp)]\n",
    "    igs_rois.append(np.nanmedian(tmp))\n",
    "    prop = 0.0\n",
    "    for x in tmp:\n",
    "        if x > p_pos:\n",
    "            prop += 1\n",
    "    all_prop_pos.append(prop/len(tmp))\n",
    "    prop = 0.0\n",
    "    for x in tmp:\n",
    "        if x < p_neg:\n",
    "            prop += 1\n",
    "    all_prop_neg.append(prop/len(tmp))"
   ]
  },
  {
   "cell_type": "code",
   "execution_count": 48,
   "id": "184c2639",
   "metadata": {},
   "outputs": [
    {
     "name": "stdout",
     "output_type": "stream",
     "text": [
      "\n",
      "\n",
      "\n",
      "Median IGs:\n",
      "rest: 0.0\n",
      "lFFA: 0.0001569\n",
      "rFFA: -0.0\n",
      "lOFA: 1.48e-06\n",
      "rOFA: -0.0\n",
      "lSTS: -0.00017752\n",
      "rSTS: -0.0\n",
      "lLOC: 8e-08\n",
      "rLOC: -0.0\n",
      "lPPA: -3.513e-05\n",
      "rPPA: -1.258e-05\n",
      "lRSC: -4.423e-05\n",
      "rRSC: 6.489e-05\n",
      "lTOS: -1.82e-06\n",
      "rTOS: -0.0\n",
      "lEBA: -3.82e-06\n",
      "rEBA: -0.0\n"
     ]
    }
   ],
   "source": [
    "igs_rois = np.array(igs_rois)   \n",
    "tmp = igs[np.nonzero(no_roi)]\n",
    "tmp[tmp == 0.0] = np.nan\n",
    "##\n",
    "prop = 0.0\n",
    "for x in tmp:\n",
    "    if x > p_pos:\n",
    "        prop += 1\n",
    "all_prop_pos.append(prop/len(tmp))\n",
    "##\n",
    "print('\\n')\n",
    "##\n",
    "prop = 0.0\n",
    "for x in tmp:\n",
    "    if x < p_neg:\n",
    "        prop += 1\n",
    "all_prop_neg.append(prop/len(tmp))\n",
    "##\n",
    "print('\\nMedian IGs:')   \n",
    "print('rest' + ':', np.round(np.nanmedian(tmp), 8))\n",
    "for i, roi_name in enumerate(roi_names): \n",
    "    print(roi_name + ':', np.round(igs_rois[i], 8))"
   ]
  },
  {
   "cell_type": "code",
   "execution_count": 49,
   "id": "d8ab90fa",
   "metadata": {},
   "outputs": [
    {
     "data": {
      "image/png": "[encoded data removed]",
      "text/plain": [
       "<Figure size 864x432 with 1 Axes>"
      ]
     },
     "metadata": {
      "needs_background": "light"
     },
     "output_type": "display_data"
    }
   ],
   "source": [
    "fig = plt.figure()\n",
    "fig.set_size_inches(12, 6)\n",
    "plt.rc('font', size=15)\n",
    "ax = fig.add_axes([0,0,1,1])\n",
    "ax.set_ylabel('Proportion: Greater Than 90th Percentile')\n",
    "ax.set_xlabel('Brain ROIs')\n",
    "ax.set_title('Subject 1: Face')\n",
    "ax.bar(roi_names+['rest'],all_prop_pos)\n",
    "plt.show()"
   ]
  },
  {
   "cell_type": "code",
   "execution_count": 50,
   "id": "2a5d276a",
   "metadata": {},
   "outputs": [
    {
     "data": {
      "image/png": "[encoded data removed]",
      "text/plain": [
       "<Figure size 864x432 with 1 Axes>"
      ]
     },
     "metadata": {
      "needs_background": "light"
     },
     "output_type": "display_data"
    }
   ],
   "source": [
    "fig = plt.figure()\n",
    "fig.set_size_inches(12, 6)\n",
    "plt.rc('font', size=15)\n",
    "ax = fig.add_axes([0,0,1,1])\n",
    "ax.set_ylabel('Proportion: Less Than 10th Percentile')\n",
    "ax.set_xlabel('Brain ROIs')\n",
    "ax.set_title('Subject 1: Face')\n",
    "ax.bar(roi_names+['rest'],all_prop_neg)\n",
    "plt.show()"
   ]
  },
  {
   "cell_type": "code",
   "execution_count": null,
   "id": "08153933",
   "metadata": {},
   "outputs": [],
   "source": []
  }
 ],
 "metadata": {
  "kernelspec": {
   "display_name": "Python 3 (ipykernel)",
   "language": "python",
   "name": "python3"
  },
  "language_info": {
   "codemirror_mode": {
    "name": "ipython",
    "version": 3
   },
   "file_extension": ".py",
   "mimetype": "text/x-python",
   "name": "python",
   "nbconvert_exporter": "python",
   "pygments_lexer": "ipython3",
   "version": "3.9.12"
  }
 },
 "nbformat": 4,
 "nbformat_minor": 5
}
