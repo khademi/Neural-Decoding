{
 "cells": [
  {
   "cell_type": "code",
   "execution_count": 9,
   "id": "8fb9e4ab",
   "metadata": {
    "execution": {
     "iopub.execute_input": "2022-08-23T13:18:54.784622Z",
     "iopub.status.busy": "2022-08-23T13:18:54.784269Z",
     "iopub.status.idle": "2022-08-23T13:18:54.791178Z",
     "shell.execute_reply": "2022-08-23T13:18:54.790547Z"
    }
   },
   "outputs": [],
   "source": [
    "import os\n",
    "import nibabel as nib\n",
    "import numpy as np\n",
    "import nilearn\n",
    "from nilearn import image\n",
    "import pandas as pd\n",
    "from hampel import hampel\n",
    "import scipy.stats as stats\n",
    "import matplotlib.pyplot as plt"
   ]
  },
  {
   "cell_type": "code",
   "execution_count": 10,
   "id": "b8a13595",
   "metadata": {
    "execution": {
     "iopub.execute_input": "2022-08-23T13:18:54.794275Z",
     "iopub.status.busy": "2022-08-23T13:18:54.793980Z",
     "iopub.status.idle": "2022-08-23T13:18:54.797314Z",
     "shell.execute_reply": "2022-08-23T13:18:54.796753Z"
    }
   },
   "outputs": [],
   "source": [
    "# data_dir = '/arc/project/st-ipor-1/mkhademi/BOLD5000_2.0/'\n",
    "# output_dir = '/scratch/st-ipor-1/mkhademi/'\n",
    "output_dir = 'C:\\\\Users\\\\mahkh\\\\Documents\\\\'\n",
    "roi_dir = output_dir + 'image_data\\\\parcels\\\\'\n",
    "subjs = ['CSI1', 'CSI2', 'CSI3', 'CSI4']\n",
    "roi_names =['lFFA','lOFA','lSTS','lLOC','lPPA','lRSC','lTOS','lEBA','rFFA','rOFA','rSTS','rLOC','rPPA','rRSC','rTOS','rEBA']\n",
    "roi_voxels = {'lFFA': 531, 'rFFA': 1019, 'lOFA': 211, 'rOFA': 790, 'lSTS': 844, 'rSTS': 2505, 'lLOC': 4971, 'rLOC': 5085,\n",
    "             'lPPA': 732, 'rPPA': 553, 'lRSC': 1063, 'rRSC': 1741, 'lTOS': 133, 'rTOS': 251, 'lEBA': 2155, 'rEBA': 2413}"
   ]
  },
  {
   "cell_type": "code",
   "execution_count": 11,
   "id": "ae4427be",
   "metadata": {},
   "outputs": [],
   "source": [
    "sub = subjs[1]\n",
    "#sub = 'all'\n",
    "j = 92 # outdoor\n",
    "dif = nib.load(output_dir + 'image_data\\\\vis\\\\dif-' + sub + '-c' + str(j) + '.nii.gz') \n",
    "dif = nilearn.image.resample_img(dif, target_shape=(79, 95, 69), target_affine=dif.affine)\n",
    "dif = np.array(dif.dataobj)\n",
    "#dif = dif[6:91-6, 7:109-7, 11:91-11]\n",
    "dif_rois = []\n",
    "no_roi = np.ones((79, 95, 69), dtype=np.uint8)\n",
    "for roi_name in roi_names:\n",
    "    roi = nib.load(roi_dir + roi_name + '.img')\n",
    "    roi = np.array(roi.dataobj)\n",
    "    no_roi[np.nonzero(roi)] = 0\n",
    "    tmp = dif[np.nonzero(roi)]\n",
    "    tmp[tmp == 0.0] = np.nan\n",
    "    dif_rois.append(np.nanmedian(tmp))"
   ]
  },
  {
   "cell_type": "code",
   "execution_count": 12,
   "id": "9ab1f068",
   "metadata": {},
   "outputs": [
    {
     "name": "stdout",
     "output_type": "stream",
     "text": [
      "rest: -0.00073171\n",
      "lFFA: -0.00194044\n",
      "lOFA: 0.00572116\n",
      "lSTS: -0.00429346\n",
      "lLOC: -0.00121902\n",
      "lPPA: -0.00099996\n",
      "lRSC: -0.0012622\n",
      "lTOS: -0.00175958\n",
      "lEBA: -0.00366916\n",
      "rFFA: -0.00262164\n",
      "rOFA: nan\n",
      "rSTS: -0.00103646\n",
      "rLOC: -0.00328889\n",
      "rPPA: -0.00277596\n",
      "rRSC: 0.00014217\n",
      "rTOS: nan\n",
      "rEBA: -0.0006107\n"
     ]
    }
   ],
   "source": [
    "dif_rois = np.array(dif_rois)\n",
    "tmp = dif[np.nonzero(no_roi)]\n",
    "tmp[tmp == 0.0] = np.nan\n",
    "print('rest' + ':', np.round(np.nanmedian(tmp), 8)) \n",
    "for i, roi_name in enumerate(roi_names): \n",
    "    print(roi_name + ':', np.round(dif_rois[i], 8))"
   ]
  },
  {
   "cell_type": "code",
   "execution_count": 13,
   "id": "f5c3c337",
   "metadata": {},
   "outputs": [],
   "source": [
    "def get_prop(ig_type):\n",
    "    igs = nib.load(output_dir + 'image_data\\\\vis\\\\' + ig_type + '-' + sub + '-c' + str(j) + '.nii.gz') \n",
    "    igs = nilearn.image.resample_img(igs, target_shape=(79, 95, 69), target_affine=igs.affine)\n",
    "    igs = np.array(igs.dataobj)\n",
    "    #igs = igs[6:91-6, 7:109-7, 11:91-11]\n",
    "\n",
    "    tmp = igs.reshape(-1)\n",
    "    tmp[tmp == 0.0] = np.nan\n",
    "    tmp = tmp[~np.isnan(tmp)]\n",
    "    p_pos = np.nanpercentile(tmp, 90)\n",
    "    print(\"p_90\", p_pos)\n",
    "    n_p_pos = 0\n",
    "    for x in tmp:\n",
    "        if x > p_pos:\n",
    "            n_p_pos += 1\n",
    "    p_neg = np.nanpercentile(tmp, 10)\n",
    "    print(\"p_10\", p_neg)\n",
    "    n_p_neg = 0\n",
    "    for x in tmp:\n",
    "        if x < p_neg:\n",
    "            n_p_neg += 1\n",
    "\n",
    "    igs_rois = []\n",
    "    all_prop_pos = []\n",
    "    all_prop_neg = []\n",
    "    no_roi = np.ones((79, 95, 69), dtype=np.uint8)\n",
    "    for roi_name in roi_names:\n",
    "        roi = nib.load(roi_dir + roi_name + '.img')\n",
    "        roi = np.array(roi.dataobj)\n",
    "        no_roi[np.nonzero(roi)] = 0\n",
    "        tmp = igs[np.nonzero(roi)].copy()\n",
    "        tmp[tmp == 0.0] = np.nan\n",
    "        tmp = tmp[~np.isnan(tmp)]\n",
    "        igs_rois.append(np.nanmedian(tmp))\n",
    "        prop = 0.0\n",
    "        for x in tmp:\n",
    "            if x >= p_pos:\n",
    "                prop += 1\n",
    "        if len(tmp) > 0:\n",
    "            # all_prop_pos.append(prop/len(tmp))\n",
    "            all_prop_pos.append(prop/n_p_pos)\n",
    "        else:\n",
    "            all_prop_pos.append(0.0)\n",
    "        prop = 0.0\n",
    "        for x in tmp:\n",
    "            if x <= p_neg:\n",
    "                prop += 1\n",
    "        if len(tmp) > 0:\n",
    "            # all_prop_neg.append(prop/len(tmp))\n",
    "            all_prop_neg.append(prop/n_p_neg)\n",
    "        else: \n",
    "            all_prop_neg.append(0.0)\n",
    "    igs_rois = np.array(igs_rois)   \n",
    "    tmp = igs[np.nonzero(no_roi)].copy()\n",
    "    tmp[tmp == 0.0] = np.nan\n",
    "    ##\n",
    "    prop = 0.0\n",
    "    for x in tmp:\n",
    "        if x > p_pos:\n",
    "            prop += 1\n",
    "    # all_prop_pos.append(prop/len(tmp))\n",
    "    all_prop_pos.append(prop/n_p_pos)\n",
    "    ##\n",
    "    print('\\n')\n",
    "    ##\n",
    "    prop = 0.0\n",
    "    for x in tmp:\n",
    "        if x < p_neg:\n",
    "            prop += 1\n",
    "    #all_prop_neg.append(prop/len(tmp))\n",
    "    all_prop_neg.append(prop/n_p_neg)\n",
    "    ##\n",
    "    print('\\nMedian IGs:')   \n",
    "    print('rest' + ':', np.round(np.nanmedian(tmp), 8))\n",
    "    for i, roi_name in enumerate(roi_names): \n",
    "        print(roi_name + ':', np.round(igs_rois[i], 8))\n",
    "    return all_prop_pos, all_prop_neg"
   ]
  },
  {
   "cell_type": "code",
   "execution_count": 14,
   "id": "ea6fb93a",
   "metadata": {},
   "outputs": [
    {
     "data": {
      "image/png": "[encoded data removed]",
      "text/plain": [
       "<Figure size 720x504 with 1 Axes>"
      ]
     },
     "metadata": {
      "needs_background": "light"
     },
     "output_type": "display_data"
    }
   ],
   "source": [
    "igs = nib.load(output_dir + 'image_data/vis/igs-' + sub + '-c' + str(j) + '.nii.gz') \n",
    "igs = nilearn.image.resample_img(igs, target_shape=(79, 95, 69), target_affine=igs.affine)\n",
    "igs = np.array(igs.dataobj)\n",
    "#igs = igs[6:91-6, 7:109-7, 11:91-11]\n",
    "\n",
    "tmp = igs.reshape(-1)\n",
    "tmp[tmp == 0.0] = np.nan\n",
    "tmp = tmp[~np.isnan(tmp)]\n",
    "fig, axs = plt.subplots(1, 1, figsize =(10, 7), tight_layout = True)\n",
    "axs.hist(tmp, bins=200)\n",
    "# Show plot\n",
    "plt.show()"
   ]
  },
  {
   "cell_type": "code",
   "execution_count": 15,
   "id": "d8ab90fa",
   "metadata": {},
   "outputs": [],
   "source": [
    "def plot_igs(x_yes, x_no, t, y):\n",
    "    fig = plt.figure()\n",
    "    fig.set_size_inches(10, 4)\n",
    "    plt.rc('font', size=10)\n",
    "    ax = fig.add_axes([0,0,1,1])\n",
    "    ax.set_ylabel(y)\n",
    "    ax.set_xlabel('Brain ROIs')\n",
    "    ax.set_title(sub + ': Outdoor ' + t)\n",
    "    x_pos = np.arange(len(roi_names)+1)*5\n",
    "    ax.bar(x_pos, x_yes, align='center', color='blue', alpha=0.8, ecolor='black', capsize=10, width=2)\n",
    "    ax.bar(x_pos+2, x_no, align='center', color='red', alpha=0.8, ecolor='black', capsize=10, width=2)\n",
    "    ax.set_xticks(x_pos+1)\n",
    "    ax.set_xticklabels(roi_names +['Rest'])\n",
    "    plt.show()"
   ]
  },
  {
   "cell_type": "code",
   "execution_count": 16,
   "id": "2a5d276a",
   "metadata": {},
   "outputs": [
    {
     "name": "stdout",
     "output_type": "stream",
     "text": [
      "p_90 3.491927054710686e-05\n",
      "p_10 -3.078583176829852e-05\n",
      "\n",
      "\n",
      "\n",
      "Median IGs:\n",
      "rest: 0.0\n",
      "lFFA: 8.3e-07\n",
      "lOFA: 3e-08\n",
      "lSTS: -1.8e-06\n",
      "lLOC: 2e-08\n",
      "lPPA: 3.75e-06\n",
      "lRSC: 5.03e-06\n",
      "lTOS: 1.23e-06\n",
      "lEBA: -7e-08\n",
      "rFFA: -0.0\n",
      "rOFA: -0.0\n",
      "rSTS: -0.0\n",
      "rLOC: 0.0\n",
      "rPPA: 1.38e-06\n",
      "rRSC: -8.9e-07\n",
      "rTOS: 0.0\n",
      "rEBA: -0.0\n",
      "p_90 5.4296224789141e-06\n",
      "p_10 -5.8319926665717495e-06\n",
      "\n",
      "\n",
      "\n",
      "Median IGs:\n",
      "rest: -0.0\n",
      "lFFA: -5.2e-07\n",
      "lOFA: -3e-08\n",
      "lSTS: -7.8e-07\n",
      "lLOC: -0.0\n",
      "lPPA: 6.2e-07\n",
      "lRSC: 5.2e-07\n",
      "lTOS: -3.2e-07\n",
      "lEBA: -2e-08\n",
      "rFFA: -0.0\n",
      "rOFA: -0.0\n",
      "rSTS: -0.0\n",
      "rLOC: 0.0\n",
      "rPPA: 4e-08\n",
      "rRSC: -4.6e-07\n",
      "rTOS: -0.0\n",
      "rEBA: -0.0\n"
     ]
    },
    {
     "data": {
      "image/png": "[encoded data removed]",
      "text/plain": [
       "<Figure size 720x288 with 1 Axes>"
      ]
     },
     "metadata": {
      "needs_background": "light"
     },
     "output_type": "display_data"
    },
    {
     "data": {
      "image/png": "[encoded data removed]",
      "text/plain": [
       "<Figure size 720x288 with 1 Axes>"
      ]
     },
     "metadata": {
      "needs_background": "light"
     },
     "output_type": "display_data"
    },
    {
     "data": {
      "image/png": "[encoded data removed]",
      "text/plain": [
       "<Figure size 720x288 with 1 Axes>"
      ]
     },
     "metadata": {
      "needs_background": "light"
     },
     "output_type": "display_data"
    }
   ],
   "source": [
    "#all_prop_pos, all_prop_neg = get_prop(ig_type='igs')\n",
    "#plot_igs(all_prop_pos, '(Correct IGs - ALL)', 'Proportion: Greater Than 90th Percentile')\n",
    "#plot_igs(all_prop_neg, '(All Correct IGs)', 'Proportion: Less Than 10th Percentile')\n",
    "\n",
    "all_prop_pos_yes, all_prop_neg_yes = get_prop(ig_type='igs-p')\n",
    "all_prop_pos_no, all_prop_neg_no = get_prop(ig_type='igs-n')\n",
    "plot_igs(all_prop_pos_yes, all_prop_pos_no, '(Correct IGs)', 'Proportion: Greater Than 90th Percentile')\n",
    "plot_igs(-np.array(all_prop_neg_yes), -np.array(all_prop_neg_no), '(Correct IGs)', 'Proportion: Less Than 10th Percentile')\n",
    "arg1 = np.array(all_prop_pos_yes)-np.array(all_prop_neg_yes)\n",
    "arg2 = np.array(all_prop_pos_no)-np.array(all_prop_neg_no)\n",
    "plot_igs(arg1, arg2, '(Correct IGs)', 'Proportion: Greater Than 90th Percentile - Less Than 10th Percentile')\n"
   ]
  },
  {
   "cell_type": "code",
   "execution_count": null,
   "id": "c133699b",
   "metadata": {},
   "outputs": [],
   "source": []
  }
 ],
 "metadata": {
  "kernelspec": {
   "display_name": "Python 3 (ipykernel)",
   "language": "python",
   "name": "python3"
  },
  "language_info": {
   "codemirror_mode": {
    "name": "ipython",
    "version": 3
   },
   "file_extension": ".py",
   "mimetype": "text/x-python",
   "name": "python",
   "nbconvert_exporter": "python",
   "pygments_lexer": "ipython3",
   "version": "3.9.12"
  }
 },
 "nbformat": 4,
 "nbformat_minor": 5
}
