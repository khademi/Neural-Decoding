{
 "cells": [
  {
   "cell_type": "code",
   "execution_count": 1,
   "id": "e72b703f",
   "metadata": {
    "execution": {
     "iopub.execute_input": "2022-05-15T13:44:28.717407Z",
     "iopub.status.busy": "2022-05-15T13:44:28.717038Z",
     "iopub.status.idle": "2022-05-15T13:44:39.483078Z",
     "shell.execute_reply": "2022-05-15T13:44:39.482575Z"
    }
   },
   "outputs": [
    {
     "name": "stderr",
     "output_type": "stream",
     "text": [
      "<frozen importlib._bootstrap>:219: RuntimeWarning: scipy._lib.messagestream.MessageStream size changed, may indicate binary incompatibility. Expected 56 from C header, got 64 from PyObject\n",
      "Matplotlib created a temporary config/cache directory at /tmp/pbs.3744058.pbsha.ib.sockeye/matplotlib-f21rowhw because the default path (/home/mkhademi/.config/matplotlib) is not a writable directory; it is highly recommended to set the MPLCONFIGDIR environment variable to a writable directory, in particular to speed up the import of Matplotlib and to better support multiprocessing.\n"
     ]
    }
   ],
   "source": [
    "import tensorflow as tf\n",
    "import os\n",
    "import time\n",
    "from tensorflow import keras\n",
    "from tensorflow.keras import layers\n",
    "import numpy as np\n",
    "from nilearn import image\n",
    "from nilearn import plotting\n",
    "import nibabel as nib\n",
    "from nilearn.plotting import plot_stat_map, plot_anat, plot_img\n",
    "from nilearn.image import concat_imgs, mean_img"
   ]
  },
  {
   "cell_type": "code",
   "execution_count": 2,
   "id": "b91a029b",
   "metadata": {
    "execution": {
     "iopub.execute_input": "2022-05-15T13:44:39.485942Z",
     "iopub.status.busy": "2022-05-15T13:44:39.485728Z",
     "iopub.status.idle": "2022-05-15T13:44:39.510565Z",
     "shell.execute_reply": "2022-05-15T13:44:39.510156Z"
    }
   },
   "outputs": [
    {
     "name": "stdout",
     "output_type": "stream",
     "text": [
      "[[[0. 0. 0. ... 0. 0. 0.]\n",
      "  [0. 0. 0. ... 0. 0. 0.]\n",
      "  [0. 0. 0. ... 0. 0. 0.]\n",
      "  ...\n",
      "  [0. 0. 0. ... 0. 0. 0.]\n",
      "  [0. 0. 0. ... 0. 0. 0.]\n",
      "  [0. 0. 0. ... 0. 0. 0.]]\n",
      "\n",
      " [[0. 0. 0. ... 0. 0. 0.]\n",
      "  [0. 0. 0. ... 0. 0. 0.]\n",
      "  [0. 0. 0. ... 0. 0. 0.]\n",
      "  ...\n",
      "  [0. 0. 0. ... 0. 0. 0.]\n",
      "  [0. 0. 0. ... 0. 0. 0.]\n",
      "  [0. 0. 0. ... 0. 0. 0.]]\n",
      "\n",
      " [[0. 0. 0. ... 0. 0. 0.]\n",
      "  [0. 0. 0. ... 0. 0. 0.]\n",
      "  [0. 0. 0. ... 0. 0. 0.]\n",
      "  ...\n",
      "  [0. 0. 0. ... 0. 0. 0.]\n",
      "  [0. 0. 0. ... 0. 0. 0.]\n",
      "  [0. 0. 0. ... 0. 0. 0.]]\n",
      "\n",
      " ...\n",
      "\n",
      " [[0. 0. 0. ... 0. 0. 0.]\n",
      "  [0. 0. 0. ... 0. 0. 0.]\n",
      "  [0. 0. 0. ... 0. 0. 0.]\n",
      "  ...\n",
      "  [0. 0. 0. ... 0. 0. 0.]\n",
      "  [0. 0. 0. ... 0. 0. 0.]\n",
      "  [0. 0. 0. ... 0. 0. 0.]]\n",
      "\n",
      " [[0. 0. 0. ... 0. 0. 0.]\n",
      "  [0. 0. 0. ... 0. 0. 0.]\n",
      "  [0. 0. 0. ... 0. 0. 0.]\n",
      "  ...\n",
      "  [0. 0. 0. ... 0. 0. 0.]\n",
      "  [0. 0. 0. ... 0. 0. 0.]\n",
      "  [0. 0. 0. ... 0. 0. 0.]]\n",
      "\n",
      " [[0. 0. 0. ... 0. 0. 0.]\n",
      "  [0. 0. 0. ... 0. 0. 0.]\n",
      "  [0. 0. 0. ... 0. 0. 0.]\n",
      "  ...\n",
      "  [0. 0. 0. ... 0. 0. 0.]\n",
      "  [0. 0. 0. ... 0. 0. 0.]\n",
      "  [0. 0. 0. ... 0. 0. 0.]]]\n",
      "(71, 89, 72)\n"
     ]
    }
   ],
   "source": [
    "data_dir = '/arc/project/st-ipor-1/mkhademi/BOLD5000_2.0/'\n",
    "roi_dir = data_dir + 'BOLD5000_GLMsingle_ROI_betas/py/'\n",
    "subjs = ['CSI1', 'CSI2', 'CSI3', 'CSI4']\n",
    "sub = subjs[0]  \n",
    "brain_mask = nib.load(data_dir + sub + '_brainmask.nii.gz')\n",
    "# brain_mask = image.load_img(data_dir + sub + '_brainmask.nii.gz')\n",
    "data = brain_mask.get_fdata()\n",
    "print(data)\n",
    "print(data.shape)"
   ]
  },
  {
   "cell_type": "code",
   "execution_count": 3,
   "id": "ff4456fc",
   "metadata": {
    "execution": {
     "iopub.execute_input": "2022-05-15T13:44:39.512945Z",
     "iopub.status.busy": "2022-05-15T13:44:39.512690Z",
     "iopub.status.idle": "2022-05-15T13:44:43.991464Z",
     "shell.execute_reply": "2022-05-15T13:44:43.991014Z"
    }
   },
   "outputs": [
    {
     "data": {
      "text/plain": [
       "<nilearn.plotting.displays._slicers.OrthoSlicer at 0x2aab4ecc5610>"
      ]
     },
     "execution_count": 3,
     "metadata": {},
     "output_type": "execute_result"
    },
    {
     "data": {
      "image/png": "[encoded data removed]",
      "text/plain": [
       "<Figure size 475.2x187.2 with 4 Axes>"
      ]
     },
     "metadata": {},
     "output_type": "display_data"
    },
    {
     "data": {
      "image/png": "[encoded data removed]",
      "text/plain": [
       "<Figure size 475.2x187.2 with 4 Axes>"
      ]
     },
     "metadata": {},
     "output_type": "display_data"
    },
    {
     "data": {
      "image/png": "[encoded data removed]",
      "text/plain": [
       "<Figure size 475.2x187.2 with 4 Axes>"
      ]
     },
     "metadata": {},
     "output_type": "display_data"
    },
    {
     "data": {
      "image/png": "[encoded data removed]",
      "text/plain": [
       "<Figure size 475.2x187.2 with 4 Axes>"
      ]
     },
     "metadata": {},
     "output_type": "display_data"
    }
   ],
   "source": [
    "roi_name = 'LHEarlyVis'\n",
    "mask_filename = data_dir + 'spm/sub-' + sub + '/sub-' + sub + '_mask-' + roi_name + '.nii.gz'\n",
    "plotting.plot_roi(mask_filename, bg_img=brain_mask, cmap='Paired')\n",
    "plotting.plot_roi(mask_filename, bg_img=brain_mask)\n",
    "brain_mask = image.load_img(data_dir + sub + '_brainmask.nii.gz')\n",
    "plotting.plot_roi(mask_filename, bg_img=brain_mask, cmap='Paired')\n",
    "plotting.plot_roi(mask_filename, bg_img=brain_mask)"
   ]
  },
  {
   "cell_type": "code",
   "execution_count": 4,
   "id": "9c8f3d0c",
   "metadata": {
    "execution": {
     "iopub.execute_input": "2022-05-15T13:44:43.993714Z",
     "iopub.status.busy": "2022-05-15T13:44:43.993511Z",
     "iopub.status.idle": "2022-05-15T13:44:44.216475Z",
     "shell.execute_reply": "2022-05-15T13:44:44.216022Z"
    }
   },
   "outputs": [
    {
     "name": "stdout",
     "output_type": "stream",
     "text": [
      "WARNING:tensorflow:From /tmp/pbs.3744058.pbsha.ib.sockeye/ipykernel_131096/2773141869.py:1: is_gpu_available (from tensorflow.python.framework.test_util) is deprecated and will be removed in a future version.\n",
      "Instructions for updating:\n",
      "Use `tf.config.list_physical_devices('GPU')` instead.\n",
      "True\n"
     ]
    },
    {
     "name": "stderr",
     "output_type": "stream",
     "text": [
      "2022-05-15 06:44:43.995656: I tensorflow/core/platform/cpu_feature_guard.cc:143] Your CPU supports instructions that this TensorFlow binary was not compiled to use: AVX2 AVX512F FMA\n",
      "2022-05-15 06:44:44.004602: I tensorflow/core/platform/profile_utils/cpu_utils.cc:102] CPU Frequency: 2200000000 Hz\n",
      "2022-05-15 06:44:44.004802: I tensorflow/compiler/xla/service/service.cc:168] XLA service 0x55555ac83e60 initialized for platform Host (this does not guarantee that XLA will be used). Devices:\n",
      "2022-05-15 06:44:44.004814: I tensorflow/compiler/xla/service/service.cc:176]   StreamExecutor device (0): Host, Default Version\n",
      "2022-05-15 06:44:44.007692: I tensorflow/stream_executor/platform/default/dso_loader.cc:44] Successfully opened dynamic library libcuda.so.1\n",
      "2022-05-15 06:44:44.183541: I tensorflow/compiler/xla/service/service.cc:168] XLA service 0x55555ac97bd0 initialized for platform CUDA (this does not guarantee that XLA will be used). Devices:\n",
      "2022-05-15 06:44:44.183561: I tensorflow/compiler/xla/service/service.cc:176]   StreamExecutor device (0): Tesla V100-SXM2-32GB, Compute Capability 7.0\n",
      "2022-05-15 06:44:44.184899: I tensorflow/core/common_runtime/gpu/gpu_device.cc:1561] Found device 0 with properties: \n",
      "pciBusID: 0000:86:00.0 name: Tesla V100-SXM2-32GB computeCapability: 7.0\n",
      "coreClock: 1.53GHz coreCount: 80 deviceMemorySize: 31.75GiB deviceMemoryBandwidth: 836.37GiB/s\n",
      "2022-05-15 06:44:44.186825: I tensorflow/stream_executor/platform/default/dso_loader.cc:44] Successfully opened dynamic library libcudart.so.10.1\n",
      "2022-05-15 06:44:44.191143: I tensorflow/stream_executor/platform/default/dso_loader.cc:44] Successfully opened dynamic library libcublas.so.10\n",
      "2022-05-15 06:44:44.194520: I tensorflow/stream_executor/platform/default/dso_loader.cc:44] Successfully opened dynamic library libcufft.so.10\n",
      "2022-05-15 06:44:44.196231: I tensorflow/stream_executor/platform/default/dso_loader.cc:44] Successfully opened dynamic library libcurand.so.10\n",
      "2022-05-15 06:44:44.199524: I tensorflow/stream_executor/platform/default/dso_loader.cc:44] Successfully opened dynamic library libcusolver.so.10\n",
      "2022-05-15 06:44:44.201745: I tensorflow/stream_executor/platform/default/dso_loader.cc:44] Successfully opened dynamic library libcusparse.so.10\n",
      "2022-05-15 06:44:44.206792: I tensorflow/stream_executor/platform/default/dso_loader.cc:44] Successfully opened dynamic library libcudnn.so.7\n",
      "2022-05-15 06:44:44.209019: I tensorflow/core/common_runtime/gpu/gpu_device.cc:1703] Adding visible gpu devices: 0\n",
      "2022-05-15 06:44:44.209052: I tensorflow/stream_executor/platform/default/dso_loader.cc:44] Successfully opened dynamic library libcudart.so.10.1\n",
      "2022-05-15 06:44:44.211128: I tensorflow/core/common_runtime/gpu/gpu_device.cc:1102] Device interconnect StreamExecutor with strength 1 edge matrix:\n",
      "2022-05-15 06:44:44.211137: I tensorflow/core/common_runtime/gpu/gpu_device.cc:1108]      0 \n",
      "2022-05-15 06:44:44.211143: I tensorflow/core/common_runtime/gpu/gpu_device.cc:1121] 0:   N \n",
      "2022-05-15 06:44:44.213384: I tensorflow/core/common_runtime/gpu/gpu_device.cc:1247] Created TensorFlow device (/device:GPU:0 with 30271 MB memory) -> physical GPU (device: 0, name: Tesla V100-SXM2-32GB, pci bus id: 0000:86:00.0, compute capability: 7.0)\n"
     ]
    }
   ],
   "source": [
    "print(tf.test.is_gpu_available())"
   ]
  }
 ],
 "metadata": {
  "kernelspec": {
   "display_name": "Python 3 (ipykernel)",
   "language": "python",
   "name": "python3"
  },
  "language_info": {
   "codemirror_mode": {
    "name": "ipython",
    "version": 3
   },
   "file_extension": ".py",
   "mimetype": "text/x-python",
   "name": "python",
   "nbconvert_exporter": "python",
   "pygments_lexer": "ipython3",
   "version": "3.9.7"
  }
 },
 "nbformat": 4,
 "nbformat_minor": 5
}
