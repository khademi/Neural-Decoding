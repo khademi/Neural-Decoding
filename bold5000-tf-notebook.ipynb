{
 "cells": [
  {
   "cell_type": "code",
   "execution_count": 1,
   "id": "77466e95",
   "metadata": {
    "execution": {
     "iopub.execute_input": "2022-02-24T13:23:03.453849Z",
     "iopub.status.busy": "2022-02-24T13:23:03.452998Z",
     "iopub.status.idle": "2022-02-24T13:23:05.813699Z",
     "shell.execute_reply": "2022-02-24T13:23:05.812565Z"
    }
   },
   "outputs": [],
   "source": [
    "import nilearn\n",
    "from nilearn import image\n",
    "import tensorflow as tf\n",
    "from keras.applications.nasnet import preprocess_input\n",
    "from keras.applications.nasnet import NASNetLarge\n",
    "from keras.applications.nasnet import decode_predictions\n",
    "from keras.preprocessing.image import load_img\n",
    "from keras.preprocessing.image import img_to_array\n",
    "import numpy as np\n",
    "import pandas as pd\n",
    "import nibabel as nib\n",
    "import json, pickle\n",
    "import os\n",
    "import matplotlib.pyplot as plt"
   ]
  },
  {
   "cell_type": "code",
   "execution_count": 2,
   "id": "8fb9e4ab",
   "metadata": {
    "execution": {
     "iopub.execute_input": "2022-02-24T13:23:05.819049Z",
     "iopub.status.busy": "2022-02-24T13:23:05.817953Z",
     "iopub.status.idle": "2022-02-24T13:23:19.360617Z",
     "shell.execute_reply": "2022-02-24T13:23:19.359458Z"
    }
   },
   "outputs": [],
   "source": [
    "data_dir = '/local-scratch/localhome/mkhademi/BOLD5000_2.0/'\n",
    "with open(data_dir + 'image_data/MSCOCO/annotations/' + 'instances_train2014.json') as json_data:\n",
    "    coco_anns = json.load(json_data)\n",
    "    json_data.close()"
   ]
  },
  {
   "cell_type": "code",
   "execution_count": 3,
   "id": "74c97c2c",
   "metadata": {
    "execution": {
     "iopub.execute_input": "2022-02-24T13:23:19.366473Z",
     "iopub.status.busy": "2022-02-24T13:23:19.365376Z",
     "iopub.status.idle": "2022-02-24T13:23:20.033130Z",
     "shell.execute_reply": "2022-02-24T13:23:20.034002Z"
    }
   },
   "outputs": [],
   "source": [
    "imagenet_anns = pd.read_csv(data_dir + 'image_data/LOC_train_solution.csv', sep = ',')\n",
    "f = open(data_dir + 'image_data/LOC_synset_mapping.txt', 'r')\n",
    "imagenet_categories = []\n",
    "for x in f:\n",
    "    imagenet_categories.append(x.split()[0])\n",
    "f.close()"
   ]
  },
  {
   "cell_type": "code",
   "execution_count": 4,
   "id": "bce647bc",
   "metadata": {
    "execution": {
     "iopub.execute_input": "2022-02-24T13:23:20.039384Z",
     "iopub.status.busy": "2022-02-24T13:23:20.038276Z",
     "iopub.status.idle": "2022-02-24T13:23:20.051058Z",
     "shell.execute_reply": "2022-02-24T13:23:20.052040Z"
    }
   },
   "outputs": [],
   "source": [
    "with open(data_dir + 'image_data/extra_annotations.pickle', 'rb') as f:\n",
    "    extra_annotations = pickle.load(f)"
   ]
  },
  {
   "cell_type": "code",
   "execution_count": 5,
   "id": "d8547010",
   "metadata": {
    "execution": {
     "iopub.execute_input": "2022-02-24T13:23:20.071543Z",
     "iopub.status.busy": "2022-02-24T13:23:20.070399Z",
     "iopub.status.idle": "2022-02-24T13:23:20.072747Z",
     "shell.execute_reply": "2022-02-24T13:23:20.073640Z"
    }
   },
   "outputs": [],
   "source": [
    "cat_convert = {0: [], 1: [444], 2: [705, 751, 817, 829], 3: [], 4: [403], 5: [779, 654], 6: [], 7: [555, 569, 717, 864], \n",
    "               8: [449, 554, 625, 833, 814], 9: [920], 10: [], 11: [919], 12: [], 13: [704], 14: [703], \n",
    "               15: [134] + [i for i in range(7, 25)], 16: [i for i in range(281, 286)], 17: [i for i in range(151, 269)], \n",
    "               18: [], 19: [349], 20: [], 21: [385, 386], 22: [388], 23: [340], 24: [], 25: [515], 26: [414], 27: [879], \n",
    "               28: [770], 29: [], 30: [], 31: [457], 32: [], 33: [], 34: [795], 35: [], 36: [805, 852, 522, 574, 722, 768],\n",
    "               37: [], 38: [], 39: [], 40: [], 41: [], 42: [], 43: [898, 907, 440], 44: [923], 45: [], 46: [968], 47: [],\n",
    "               48: [623], 49: [910], 50: [659, 809], 51: [954], 52: [], 53: [], 54: [950], 55: [937], 56: [], 57: [934],\n",
    "               58: [963], 59: [], 60: [], 61: [423, 559, 765], 62: [831], 63: [], 64: [], 65: [], 66: [532], 67: [904],\n",
    "               68: [526], 69: [861], 70: [799], 71: [851], 72: [620], 73: [673], 74: [761], 75: [878], 76: [487], 77: [651],\n",
    "               78: [], 79: [859], 80: [], 81: [760], 82: [], 83: [917], 84: [409, 530, 892], 85: [883], 86: [], 87: [850],\n",
    "               88: [589], 89: [], 90: []}\n",
    "cat_conv_rev = {}\n",
    "for key, val in cat_convert.items():\n",
    "    for x in val:\n",
    "        cat_conv_rev[x] = key\n",
    "super_cat = {0: [0], 1: [i for i in range(1, 9)], 2: [i for i in range(9, 15)], 3: [i for i in range(15, 25)],\n",
    "             4: [i for i in range(25, 33)], 5: [i for i in range(33, 43)], 6: [i for i in range(43, 51)],\n",
    "             7: [i for i in range(51, 61)], 8: [i for i in range(61, 71)], 9: [i for i in range(71, 77)],\n",
    "             10: [i for i in range(77, 83)], 11: [i for i in range(83, 91)]}\n",
    "tool = [27, 30, 38, 39, 42, 47, 48, 49, 73, 74, 76, 86, 88, 89] \n",
    "super_cat_rev = {}\n",
    "for key, val in super_cat.items():\n",
    "    for x in val:\n",
    "        super_cat_rev[x] = key"
   ]
  },
  {
   "cell_type": "code",
   "execution_count": 6,
   "id": "2359499b",
   "metadata": {
    "execution": {
     "iopub.execute_input": "2022-02-24T13:23:20.079583Z",
     "iopub.status.busy": "2022-02-24T13:23:20.078463Z",
     "iopub.status.idle": "2022-02-24T13:23:20.089997Z",
     "shell.execute_reply": "2022-02-24T13:23:20.090903Z"
    }
   },
   "outputs": [],
   "source": [
    "subjs = ['CSI1', 'CSI2', 'CSI3', 'CSI4']\n",
    "seses = ['ses-01', 'ses-02', 'ses-03', 'ses-04', 'ses-05', 'ses-06', 'ses-07', 'ses-08',\n",
    "         'ses-09', 'ses-10', 'ses-11', 'ses-12', 'ses-13', 'ses-14', 'ses-15']  \n",
    "sub = subjs[0]\n",
    "imgnames = []\n",
    "f = open(data_dir + sub + '_imgnames.txt', 'r')\n",
    "for imgname in f:\n",
    "    imgnames.append(imgname[:-1])\n",
    "f.close()"
   ]
  },
  {
   "cell_type": "code",
   "execution_count": 7,
   "id": "76ce5b93",
   "metadata": {
    "execution": {
     "iopub.execute_input": "2022-02-24T13:23:20.148918Z",
     "iopub.status.busy": "2022-02-24T13:23:20.116510Z",
     "iopub.status.idle": "2022-02-24T13:34:43.648010Z",
     "shell.execute_reply": "2022-02-24T13:34:43.648911Z"
    }
   },
   "outputs": [],
   "source": [
    "img_dict = {}\n",
    "img_dict_super = {}\n",
    "coco_category_count = {}\n",
    "coco_super_count = {}\n",
    "coco_category_count_trials = {}\n",
    "coco_super_count_trials = {}\n",
    "imagenet_category_count = {}\n",
    "imagenet_super_count = {}\n",
    "imagenet_category_count_trials = {}\n",
    "imagenet_super_count_trials = {}\n",
    "f_coco = open(data_dir + 'image_data/coco_cat.txt', 'w')\n",
    "f_imagenet = open(data_dir + 'image_data/imagenet_cat.txt', 'w')\n",
    "coco_total = 0\n",
    "imagenet_total = 0\n",
    "coco_total_trials = 0\n",
    "imagenet_total_trials = 0\n",
    "\n",
    "for imgname in imgnames:\n",
    "    if imgname[0]  == 'C': \n",
    "        # os.system('cp ' + data_dir + 'image_data/MSCOCO/images/train2014/' + imgname + ' ' + data_dir + 'image_data/drop_box_coco/')\n",
    "        img_id = int(imgname[15:27]) \n",
    "        \n",
    "        tmp_set = set()\n",
    "        super_tmp_set = set() \n",
    "        coco_total_trials += 1 \n",
    "        if extra_annotations[imgname] == 'face':\n",
    "            if 's_0' in coco_super_count_trials:\n",
    "                coco_super_count_trials['s_0'] += 1\n",
    "            else:\n",
    "                coco_super_count_trials['s_0'] = 1\n",
    "        for i in range(len(coco_anns['annotations'])):\n",
    "            if coco_anns['annotations'][i]['image_id'] == img_id:\n",
    "                category_id = coco_anns['annotations'][i]['category_id'] - 1\n",
    "                super_id = super_cat_rev[category_id]\n",
    "                if not 'c_' + str(category_id) in tmp_set:\n",
    "                    if 'c_' + str(category_id) in coco_category_count_trials:\n",
    "                        coco_category_count_trials['c_' + str(category_id)] += 1\n",
    "                    else:\n",
    "                        coco_category_count_trials['c_' + str(category_id)] = 1\n",
    "                    tmp_set.add('c_' + str(category_id))\n",
    "                if super_id > 0:    \n",
    "                    if not 's_' + str(super_id) in super_tmp_set:\n",
    "                        if 's_' + str(super_id) in coco_super_count_trials:\n",
    "                            coco_super_count_trials['s_' + str(super_id)] += 1\n",
    "                        else:\n",
    "                            coco_super_count_trials['s_' + str(super_id)] = 1\n",
    "                        super_tmp_set.add('s_' + str(super_id)) \n",
    "                    \n",
    "        tmp_set = set()\n",
    "        super_tmp_set = set()\n",
    "        if not imgname in img_dict:\n",
    "            f_coco.write(imgname +': ')  \n",
    "            img_dict[imgname] = np.zeros(90, dtype=np.int32)\n",
    "            img_dict_super[imgname] = np.zeros(12, dtype=np.int32)\n",
    "            coco_total += 1 \n",
    "            if extra_annotations[imgname] == 'face':\n",
    "                img_dict_super[imgname][0] = 1\n",
    "                if 's_0' in coco_super_count:\n",
    "                    coco_super_count['s_0'] += 1\n",
    "                else:\n",
    "                    coco_super_count['s_0'] = 1 \n",
    "            for i in range(len(coco_anns['annotations'])):\n",
    "                if coco_anns['annotations'][i]['image_id'] == img_id:\n",
    "                    category_id = coco_anns['annotations'][i]['category_id'] - 1\n",
    "                    img_dict[imgname][category_id] = 1\n",
    "                    super_id = super_cat_rev[category_id]\n",
    "                    if not 'c_' + str(category_id) in tmp_set:\n",
    "                        if 'c_' + str(category_id) in coco_category_count:\n",
    "                            coco_category_count['c_' + str(category_id)] += 1\n",
    "                        else:\n",
    "                            coco_category_count['c_' + str(category_id)] = 1\n",
    "                        tmp_set.add('c_' + str(category_id))\n",
    "                    if super_id > 0:   \n",
    "                        if not 's_' + str(super_id) in super_tmp_set:\n",
    "                            img_dict_super[imgname][super_id] = 1 \n",
    "                            if 's_' + str(super_id) in coco_super_count:\n",
    "                                coco_super_count['s_' + str(super_id)] += 1\n",
    "                            else:\n",
    "                                coco_super_count['s_' + str(super_id)] = 1\n",
    "                            super_tmp_set.add('s_' + str(super_id))    \n",
    "                    #if category_id == 0:\n",
    "                    # # # os.system('cp ' + data_dir + 'image_data/MSCOCO/images/train2014/' + imgname + ' ' + data_dir + 'image_data/person_coco/')\n",
    "                    f_coco.write('c_' + str(category_id) + ' ')\n",
    "            f_coco.write('\\n')\n",
    "    if imgname[0]  == 'n' and (imgname[1] == '0' or imgname[1] == '1'):\n",
    "        # os.system('cp ' + data_dir + 'image_data/ILSVRC/Data/CLS-LOC/train/' + imgname[0:9] + '/' + imgname + ' ' + data_dir + 'image_data/drop_box_imagenet/')\n",
    "        category_id = imagenet_categories.index(imgname[:9])\n",
    "        flag = False\n",
    "        if extra_annotations[imgname] == 'person_noface' or extra_annotations[imgname] == 'face':\n",
    "            imagenet_total_trials += 1\n",
    "            flag = True\n",
    "            if 'c_0' in imagenet_category_count_trials:\n",
    "                imagenet_category_count_trials['c_0'] += 1\n",
    "            else:\n",
    "                imagenet_category_count_trials['c_0'] = 1\n",
    "        if extra_annotations[imgname] == 'face':\n",
    "            if 's_0' in imagenet_super_count_trials:\n",
    "                imagenet_super_count_trials['s_0'] += 1\n",
    "            else:\n",
    "                imagenet_super_count_trials['s_0'] = 1\n",
    "        \n",
    "        if category_id in cat_conv_rev:\n",
    "            if not flag:\n",
    "                imagenet_total_trials += 1\n",
    "            \n",
    "            super_id = super_cat_rev[cat_conv_rev[category_id]]\n",
    "            if 'c_' + str(cat_conv_rev[category_id]) in imagenet_category_count_trials:\n",
    "                imagenet_category_count_trials['c_' + str(cat_conv_rev[category_id])] += 1\n",
    "            else:\n",
    "                imagenet_category_count_trials['c_' + str(cat_conv_rev[category_id])] = 1\n",
    "\n",
    "            if 's_' + str(super_id) in imagenet_super_count_trials:\n",
    "                imagenet_super_count_trials['s_' + str(super_id)] += 1\n",
    "            else:\n",
    "                imagenet_super_count_trials['s_' + str(super_id)] = 1\n",
    "        \n",
    "        if not imgname in img_dict:\n",
    "            img_dict_super[imgname] = np.zeros(12, dtype=np.int32)\n",
    "            flag = False\n",
    "            if extra_annotations[imgname] == 'person_noface' or extra_annotations[imgname] == 'face':\n",
    "                imagenet_total += 1\n",
    "                flag = True\n",
    "                if 'c_0' in imagenet_category_count:\n",
    "                    imagenet_category_count['c_0'] += 1\n",
    "                else:\n",
    "                    imagenet_category_count['c_0'] = 1\n",
    "            if extra_annotations[imgname] == 'face':\n",
    "                img_dict_super[imgname][0] = 1\n",
    "                if 's_0' in imagenet_super_count:\n",
    "                    imagenet_super_count['s_0'] += 1\n",
    "                else:\n",
    "                    imagenet_super_count['s_0'] = 1\n",
    "\n",
    "            f_imagenet.write(imgname +': ')\n",
    "            f_imagenet.write('c_' + str(category_id) + ' ')\n",
    "            f_imagenet.write('\\n')\n",
    "            if category_id in cat_conv_rev:\n",
    "                if not flag:\n",
    "                    imagenet_total += 1\n",
    "                if 'c_' + str(cat_conv_rev[category_id]) in imagenet_category_count:\n",
    "                    imagenet_category_count['c_' + str(cat_conv_rev[category_id])] += 1\n",
    "                else:\n",
    "                    imagenet_category_count['c_' + str(cat_conv_rev[category_id])] = 1\n",
    "                    \n",
    "                super_id = super_cat_rev[cat_conv_rev[category_id]] \n",
    "                img_dict_super[imgname][super_id] = 1\n",
    "                if 's_' + str(super_id) in imagenet_super_count:\n",
    "                    imagenet_super_count['s_' + str(super_id)] += 1\n",
    "                else:\n",
    "                    imagenet_super_count['s_' + str(super_id)] = 1\n",
    "                    \n",
    "            img_dict[imgname] = np.zeros(1000, dtype=np.int32)\n",
    "            img_dict[imgname][category_id] = 1\n",
    "\n",
    "f_coco.close()\n",
    "f_imagenet.close()"
   ]
  },
  {
   "cell_type": "code",
   "execution_count": 8,
   "id": "6d92e40e",
   "metadata": {
    "execution": {
     "iopub.execute_input": "2022-02-24T13:34:43.655146Z",
     "iopub.status.busy": "2022-02-24T13:34:43.654037Z",
     "iopub.status.idle": "2022-02-24T13:34:43.663832Z",
     "shell.execute_reply": "2022-02-24T13:34:43.664346Z"
    }
   },
   "outputs": [
    {
     "name": "stdout",
     "output_type": "stream",
     "text": [
      "(0, 297), (1, 2), (2, 8), (3, 0), (4, 2), (5, 4), (6, 0), (7, 8), (8, 10), (9, 2), (10, 0), (11, 2), (12, 0), (13, 2), (14, 2), (15, 38), (16, 10), (17, 236), (18, 0), (19, 2), (20, 0), (21, 4), (22, 2), (23, 2), (24, 0), (25, 2), (26, 2), (27, 2), (28, 2), (29, 0), (30, 0), (31, 2), (32, 0), (33, 0), (34, 2), (35, 0), (36, 12), (37, 0), (38, 0), (39, 0), (40, 0), (41, 0), (42, 0), (43, 6), (44, 2), (45, 0), (46, 2), (47, 0), (48, 2), (49, 2), (50, 4), (51, 2), (52, 0), (53, 0), (54, 2), (55, 2), (56, 0), (57, 2), (58, 2), (59, 0), (60, 0), (61, 6), (62, 2), (63, 0), (64, 0), (65, 0), (66, 2), (67, 2), (68, 2), (69, 2), (70, 2), (71, 2), (72, 2), (73, 2), (74, 2), (75, 2), (76, 2), (77, 2), (78, 0), (79, 2), (80, 0), (81, 2), (82, 0), (83, 2), (84, 6), (85, 2), (86, 0), (87, 2), (88, 2), (89, 0), (90, 0), "
     ]
    }
   ],
   "source": [
    "for i in range(91):\n",
    "    if 'c_'+ str(i) in imagenet_category_count:\n",
    "        print((i, imagenet_category_count['c_'+ str(i)]), end=', ')\n",
    "    else: \n",
    "        print((i, 0), end=', ')"
   ]
  },
  {
   "cell_type": "code",
   "execution_count": 9,
   "id": "6f77dca9",
   "metadata": {
    "execution": {
     "iopub.execute_input": "2022-02-24T13:34:43.669108Z",
     "iopub.status.busy": "2022-02-24T13:34:43.668421Z",
     "iopub.status.idle": "2022-02-24T13:34:43.677446Z",
     "shell.execute_reply": "2022-02-24T13:34:43.677966Z"
    }
   },
   "outputs": [
    {
     "name": "stdout",
     "output_type": "stream",
     "text": [
      "(0, 324), (1, 5), (2, 11), (3, 0), (4, 2), (5, 4), (6, 0), (7, 11), (8, 10), (9, 2), (10, 0), (11, 2), (12, 0), (13, 2), (14, 2), (15, 38), (16, 10), (17, 242), (18, 0), (19, 2), (20, 0), (21, 4), (22, 2), (23, 2), (24, 0), (25, 2), (26, 2), (27, 2), (28, 2), (29, 0), (30, 0), (31, 2), (32, 0), (33, 0), (34, 2), (35, 0), (36, 12), (37, 0), (38, 0), (39, 0), (40, 0), (41, 0), (42, 0), (43, 9), (44, 2), (45, 0), (46, 2), (47, 0), (48, 2), (49, 2), (50, 4), (51, 2), (52, 0), (53, 0), (54, 2), (55, 2), (56, 0), (57, 2), (58, 2), (59, 0), (60, 0), (61, 6), (62, 2), (63, 0), (64, 0), (65, 0), (66, 5), (67, 2), (68, 2), (69, 2), (70, 2), (71, 2), (72, 2), (73, 2), (74, 2), (75, 2), (76, 2), (77, 2), (78, 0), (79, 2), (80, 0), (81, 2), (82, 0), (83, 2), (84, 6), (85, 5), (86, 0), (87, 2), (88, 2), (89, 0), (90, 0), "
     ]
    }
   ],
   "source": [
    "for i in range(91):\n",
    "    if 'c_'+ str(i) in imagenet_category_count_trials:\n",
    "        print((i, imagenet_category_count_trials['c_'+ str(i)]), end=', ')\n",
    "    else:\n",
    "        print((i, 0), end=', ') "
   ]
  },
  {
   "cell_type": "code",
   "execution_count": 10,
   "id": "059c6310",
   "metadata": {
    "execution": {
     "iopub.execute_input": "2022-02-24T13:34:43.682450Z",
     "iopub.status.busy": "2022-02-24T13:34:43.681739Z",
     "iopub.status.idle": "2022-02-24T13:34:43.684987Z",
     "shell.execute_reply": "2022-02-24T13:34:43.685543Z"
    }
   },
   "outputs": [
    {
     "name": "stdout",
     "output_type": "stream",
     "text": [
      "(0, 215), (1, 34), (2, 8), (3, 294), (4, 10), (5, 14), (6, 18), (7, 10), (8, 18), (9, 12), (10, 6), (11, 14), "
     ]
    }
   ],
   "source": [
    "for i in range(12):\n",
    "    if 's_'+ str(i) in imagenet_super_count:\n",
    "        print((i, imagenet_super_count['s_'+ str(i)]), end=', ')\n",
    "    else:\n",
    "        print((i, 0), end=', ')"
   ]
  },
  {
   "cell_type": "code",
   "execution_count": 11,
   "id": "0d3ae1b3",
   "metadata": {
    "execution": {
     "iopub.execute_input": "2022-02-24T13:34:43.690243Z",
     "iopub.status.busy": "2022-02-24T13:34:43.689532Z",
     "iopub.status.idle": "2022-02-24T13:34:43.693054Z",
     "shell.execute_reply": "2022-02-24T13:34:43.693488Z"
    }
   },
   "outputs": [
    {
     "name": "stdout",
     "output_type": "stream",
     "text": [
      "(0, 233), (1, 43), (2, 8), (3, 300), (4, 10), (5, 14), (6, 21), (7, 10), (8, 21), (9, 12), (10, 6), (11, 17), "
     ]
    }
   ],
   "source": [
    "for i in range(12):\n",
    "    if 's_'+ str(i) in imagenet_super_count_trials:\n",
    "        print((i, imagenet_super_count_trials['s_'+ str(i)]), end=', ')\n",
    "    else:\n",
    "        print((i, 0), end=', ')"
   ]
  },
  {
   "cell_type": "code",
   "execution_count": 12,
   "id": "519e49d1",
   "metadata": {
    "execution": {
     "iopub.execute_input": "2022-02-24T13:34:43.699466Z",
     "iopub.status.busy": "2022-02-24T13:34:43.698029Z",
     "iopub.status.idle": "2022-02-24T13:34:43.710320Z",
     "shell.execute_reply": "2022-02-24T13:34:43.710756Z"
    }
   },
   "outputs": [
    {
     "name": "stdout",
     "output_type": "stream",
     "text": [
      "(0, 916), (1, 39), (2, 156), (3, 41), (4, 63), (5, 46), (6, 62), (7, 65), (8, 48), (9, 64), (10, 36), (11, 0), (12, 19), (13, 6), (14, 91), (15, 78), (16, 57), (17, 63), (18, 50), (19, 36), (20, 42), (21, 57), (22, 24), (23, 65), (24, 84), (25, 0), (26, 68), (27, 51), (28, 0), (29, 0), (30, 97), (31, 53), (32, 21), (33, 25), (34, 79), (35, 43), (36, 57), (37, 30), (38, 43), (39, 55), (40, 38), (41, 82), (42, 46), (43, 104), (44, 0), (45, 36), (46, 129), (47, 40), (48, 55), (49, 52), (50, 118), (51, 42), (52, 46), (53, 28), (54, 48), (55, 41), (56, 34), (57, 17), (58, 37), (59, 27), (60, 26), (61, 177), (62, 67), (63, 71), (64, 49), (65, 0), (66, 175), (67, 0), (68, 0), (69, 37), (70, 0), (71, 63), (72, 55), (73, 40), (74, 42), (75, 38), (76, 70), (77, 22), (78, 46), (79, 4), (80, 87), (81, 38), (82, 0), (83, 87), (84, 94), (85, 64), (86, 13), (87, 22), (88, 4), (89, 10), (90, 0), "
     ]
    }
   ],
   "source": [
    "for i in range(91):\n",
    "    if 'c_'+ str(i) in coco_category_count:\n",
    "        print((i, coco_category_count['c_'+ str(i)]), end=', ')\n",
    "    else: \n",
    "        print((i, 0), end=', ')"
   ]
  },
  {
   "cell_type": "code",
   "execution_count": 13,
   "id": "d64e0e40",
   "metadata": {
    "execution": {
     "iopub.execute_input": "2022-02-24T13:34:43.715790Z",
     "iopub.status.busy": "2022-02-24T13:34:43.714821Z",
     "iopub.status.idle": "2022-02-24T13:34:43.724487Z",
     "shell.execute_reply": "2022-02-24T13:34:43.725078Z"
    }
   },
   "outputs": [
    {
     "name": "stdout",
     "output_type": "stream",
     "text": [
      "(0, 916), (1, 39), (2, 156), (3, 41), (4, 63), (5, 46), (6, 62), (7, 65), (8, 48), (9, 64), (10, 36), (11, 0), (12, 19), (13, 6), (14, 91), (15, 78), (16, 57), (17, 63), (18, 50), (19, 36), (20, 42), (21, 57), (22, 24), (23, 65), (24, 84), (25, 0), (26, 68), (27, 51), (28, 0), (29, 0), (30, 97), (31, 53), (32, 21), (33, 25), (34, 79), (35, 43), (36, 57), (37, 30), (38, 43), (39, 55), (40, 38), (41, 82), (42, 46), (43, 104), (44, 0), (45, 36), (46, 129), (47, 40), (48, 55), (49, 52), (50, 118), (51, 42), (52, 46), (53, 28), (54, 48), (55, 41), (56, 34), (57, 17), (58, 37), (59, 27), (60, 26), (61, 177), (62, 67), (63, 71), (64, 49), (65, 0), (66, 175), (67, 0), (68, 0), (69, 37), (70, 0), (71, 63), (72, 55), (73, 40), (74, 42), (75, 38), (76, 70), (77, 22), (78, 46), (79, 4), (80, 87), (81, 38), (82, 0), (83, 87), (84, 94), (85, 64), (86, 13), (87, 22), (88, 4), (89, 10), (90, 0), "
     ]
    }
   ],
   "source": [
    "for i in range(91):\n",
    "    if 'c_'+ str(i) in coco_category_count:\n",
    "        print((i, coco_category_count['c_'+ str(i)]), end=', ')\n",
    "    else:\n",
    "        print((i, 0), end=', ')"
   ]
  },
  {
   "cell_type": "code",
   "execution_count": 14,
   "id": "10751a97",
   "metadata": {
    "execution": {
     "iopub.execute_input": "2022-02-24T13:34:43.730786Z",
     "iopub.status.busy": "2022-02-24T13:34:43.729723Z",
     "iopub.status.idle": "2022-02-24T13:34:43.740578Z",
     "shell.execute_reply": "2022-02-24T13:34:43.741309Z"
    }
   },
   "outputs": [
    {
     "name": "stdout",
     "output_type": "stream",
     "text": [
      "(0, 973), (1, 42), (2, 168), (3, 47), (4, 69), (5, 52), (6, 71), (7, 74), (8, 51), (9, 70), (10, 39), (11, 0), (12, 22), (13, 9), (14, 97), (15, 81), (16, 63), (17, 66), (18, 53), (19, 39), (20, 45), (21, 66), (22, 27), (23, 65), (24, 87), (25, 0), (26, 71), (27, 51), (28, 0), (29, 0), (30, 100), (31, 53), (32, 21), (33, 28), (34, 82), (35, 43), (36, 57), (37, 36), (38, 46), (39, 58), (40, 38), (41, 88), (42, 46), (43, 119), (44, 0), (45, 45), (46, 138), (47, 46), (48, 64), (49, 61), (50, 127), (51, 42), (52, 46), (53, 37), (54, 57), (55, 41), (56, 34), (57, 20), (58, 40), (59, 33), (60, 26), (61, 183), (62, 67), (63, 74), (64, 49), (65, 0), (66, 193), (67, 0), (68, 0), (69, 40), (70, 0), (71, 63), (72, 58), (73, 43), (74, 42), (75, 38), (76, 70), (77, 22), (78, 46), (79, 4), (80, 93), (81, 38), (82, 0), (83, 90), (84, 100), (85, 67), (86, 13), (87, 22), (88, 4), (89, 10), (90, 0), "
     ]
    }
   ],
   "source": [
    "for i in range(91):\n",
    "    if 'c_'+ str(i) in coco_category_count_trials:\n",
    "        print((i, coco_category_count_trials['c_'+ str(i)]), end=', ')\n",
    "    else:\n",
    "        print((i, 0), end=', ')"
   ]
  },
  {
   "cell_type": "code",
   "execution_count": 15,
   "id": "0c83573c",
   "metadata": {
    "execution": {
     "iopub.execute_input": "2022-02-24T13:34:43.747504Z",
     "iopub.status.busy": "2022-02-24T13:34:43.746320Z",
     "iopub.status.idle": "2022-02-24T13:34:43.749773Z",
     "shell.execute_reply": "2022-02-24T13:34:43.750455Z"
    }
   },
   "outputs": [
    {
     "name": "stdout",
     "output_type": "stream",
     "text": [
      "(0, 536), (1, 400), (2, 195), (3, 527), (4, 228), (5, 396), (6, 291), (7, 250), (8, 390), (9, 178), (10, 120), (11, 265), "
     ]
    }
   ],
   "source": [
    "for i in range(12):\n",
    "    if 's_'+ str(i) in coco_super_count:\n",
    "        print((i, coco_super_count['s_'+ str(i)]), end=', ')\n",
    "    else:\n",
    "        print((i, 0), end=', ')"
   ]
  },
  {
   "cell_type": "code",
   "execution_count": 16,
   "id": "f40a1072",
   "metadata": {
    "execution": {
     "iopub.execute_input": "2022-02-24T13:34:43.756095Z",
     "iopub.status.busy": "2022-02-24T13:34:43.755102Z",
     "iopub.status.idle": "2022-02-24T13:34:43.758769Z",
     "shell.execute_reply": "2022-02-24T13:34:43.759286Z"
    }
   },
   "outputs": [
    {
     "name": "stdout",
     "output_type": "stream",
     "text": [
      "(0, 560), (1, 439), (2, 210), (3, 563), (4, 234), (5, 417), (6, 321), (7, 274), (8, 414), (9, 181), (10, 126), (11, 277), "
     ]
    }
   ],
   "source": [
    "for i in range(12):\n",
    "    if 's_'+ str(i) in coco_super_count_trials:\n",
    "        print((i, coco_super_count_trials['s_'+ str(i)]), end=', ')\n",
    "    else:\n",
    "        print((i, 0), end=', ')"
   ]
  },
  {
   "cell_type": "code",
   "execution_count": 17,
   "id": "cffd2b12",
   "metadata": {
    "execution": {
     "iopub.execute_input": "2022-02-24T13:34:43.785122Z",
     "iopub.status.busy": "2022-02-24T13:34:43.780475Z",
     "iopub.status.idle": "2022-02-24T13:46:52.811953Z",
     "shell.execute_reply": "2022-02-24T13:46:52.810784Z"
    }
   },
   "outputs": [],
   "source": [
    "nasnet = NASNetLarge() \n",
    "filename = data_dir + 'image_data/' + sub + 'bold5000_coco.tfrecords'\n",
    "writer_coco = tf.io.TFRecordWriter(filename)\n",
    "filename = data_dir + 'image_data/' + sub + 'bold5000_common.tfrecords'\n",
    "writer_common = tf.io.TFRecordWriter(filename) \n",
    "filename = data_dir + 'image_data/' + sub + 'bold5000_common_vehicle.tfrecords'\n",
    "writer_common_vehicle = tf.io.TFRecordWriter(filename)\n",
    "filename = data_dir + 'image_data/' + sub + 'bold5000_common_animal.tfrecords'\n",
    "writer_common_animal = tf.io.TFRecordWriter(filename) \n",
    "filename = data_dir + 'image_data/' + sub + 'bold5000_common_food.tfrecords'\n",
    "writer_common_food = tf.io.TFRecordWriter(filename)\n",
    "filename = data_dir + 'image_data/' + sub + 'bold5000_common_tool.tfrecords'\n",
    "writer_common_tool = tf.io.TFRecordWriter(filename)\n",
    "i = 0\n",
    "for ses in seses:\n",
    "    img4d = nib.load(data_dir + sub + '_GLMbetas-TYPED-FITHRF-GLMDENOISE-RR_' + ses + '.nii.gz')\n",
    "    selected_volumes = nilearn.image.index_img(img4d, slice(0, img4d.shape[3]))\n",
    "    for x in nilearn.image.iter_img(selected_volumes):\n",
    "        if sub != subjs[0]:\n",
    "            x = nilearn.image.resample_img(x, target_shape=(71, 89, 72), target_affine=x.affine)\n",
    "        x = np.array(x.dataobj)\n",
    "        x = np.nan_to_num(x, nan = 0.0)\n",
    "        x = np.reshape(x, (-1))\n",
    "        imgname = imgnames[i]\n",
    "        i += 1\n",
    "        common = False\n",
    "        coco_label = np.zeros(90, dtype=np.int32)\n",
    "        imagenet_label = np.zeros(1000, dtype=np.int32) \n",
    "        if imgname[0] == 'C':\n",
    "            img_path =  data_dir + 'image_data/MSCOCO/images/train2014/' + imgname \n",
    "            coco_label = img_dict[imgname]\n",
    "            super_label = img_dict_super[imgname]\n",
    "            tool_label = 0\n",
    "            for idx in tool:\n",
    "                if coco_label[idx] == 1:\n",
    "                    tool_label = 1\n",
    "                    break       \n",
    "            common_label = np.concatenate((coco_label, super_label, np.array([tool_label], dtype=np.int32)), axis=0)\n",
    "            common = True  \n",
    "        if  imgname[0]  == 'n' and (imgname[1] == '0' or imgname[1] == '1') and imgname in img_dict:\n",
    "            img_path = data_dir + '/image_data/ILSVRC/Data/CLS-LOC/train/' + imgname[:9] + '/' + imgname\n",
    "            imagenet_label = img_dict[imgname]\n",
    "            category_id = imagenet_categories.index(imgname[:9])\n",
    "            if category_id in cat_conv_rev:\n",
    "                coco_label[cat_conv_rev[category_id]] = 1\n",
    "                common = True\n",
    "            if extra_annotations[imgname] == 'face':\n",
    "                common = True\n",
    "                coco_label[0] = 1\n",
    "            if extra_annotations[imgname] == 'person_noface':\n",
    "                common = True\n",
    "                coco_label[0] = 1\n",
    "            super_label = img_dict_super[imgname]\n",
    "            tool_label = 0\n",
    "            for idx in tool:\n",
    "                if coco_label[idx] == 1:\n",
    "                    tool_label = 1\n",
    "                    break \n",
    "            common_label = np.concatenate((coco_label, super_label, np.array([tool_label], dtype=np.int32)), axis=0)\n",
    "        if common:\n",
    "            image = load_img(img_path, target_size=(331, 331))\n",
    "            image = img_to_array(image)\n",
    "            image = image.reshape((1, image.shape[0], image.shape[1], image.shape[2]))\n",
    "            image = preprocess_input(image)  \n",
    "            yhat = nasnet.predict(image)\n",
    "            example = tf.train.Example(features=tf.train.Features(feature={\n",
    "                'x': tf.train.Feature(float_list=tf.train.FloatList(value=x)),\n",
    "                'yhat': tf.train.Feature(float_list=tf.train.FloatList(value=yhat[0])),\n",
    "                'y_coco': tf.train.Feature(int64_list=tf.train.Int64List(value=coco_label)),\n",
    "                'y_imagenet': tf.train.Feature(int64_list=tf.train.Int64List(value=imagenet_label)),\n",
    "                'y_super': tf.train.Feature(int64_list=tf.train.Int64List(value=super_label)),\n",
    "                'y_common': tf.train.Feature(int64_list=tf.train.Int64List(value=common_label))\n",
    "                }))\n",
    "            writer_common.write(example.SerializeToString())\n",
    "            if imgname[0] == 'C':\n",
    "                writer_coco.write(example.SerializeToString())\n",
    "            if common_label[2] or common_label[4] or common_label[6] or common_label[8]:\n",
    "                writer_common_vehicle.write(example.SerializeToString())\n",
    "            if common_label[15] or common_label[17] or common_label[18] or common_label[24]:\n",
    "                writer_common_animal.write(example.SerializeToString())\n",
    "            if common_label[51] or common_label[54] or common_label[55] or common_label[58]:\n",
    "                writer_common_food.write(example.SerializeToString())\n",
    "            if common_label[30] or common_label[38] or common_label[39] or common_label[42]:\n",
    "                writer_common_tool.write(example.SerializeToString())\n",
    "                \n",
    "writer_coco.close()\n",
    "writer_common.close()\n",
    "writer_common_vehicle.close()\n",
    "writer_common_animal.close()\n",
    "writer_common_food.close()\n",
    "writer_common_tool.close()\n",
    "# -4218170.5\n"
   ]
  }
 ],
 "metadata": {
  "kernelspec": {
   "display_name": "Python 3",
   "language": "python",
   "name": "python3"
  },
  "language_info": {
   "codemirror_mode": {
    "name": "ipython",
    "version": 3
   },
   "file_extension": ".py",
   "mimetype": "text/x-python",
   "name": "python",
   "nbconvert_exporter": "python",
   "pygments_lexer": "ipython3",
   "version": "3.8.8"
  }
 },
 "nbformat": 4,
 "nbformat_minor": 5
}
