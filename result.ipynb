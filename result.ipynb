{
 "cells": [
  {
   "cell_type": "code",
   "execution_count": 12,
   "id": "e205b869",
   "metadata": {},
   "outputs": [],
   "source": [
    "import matplotlib.pyplot as plt\n",
    "import numpy as np\n",
    "from scipy import stats\n",
    "from statsmodels.sandbox.stats.multicomp import multipletests"
   ]
  },
  {
   "cell_type": "code",
   "execution_count": 13,
   "id": "4d9cb682",
   "metadata": {},
   "outputs": [],
   "source": [
    "person = [0.7785934, 0.7902058, 0.8144967, 0.7993604, 0.6957953, 0.78516525, 0.81369853, 0.74844253]\n",
    "person_rand = [0.4997632, 0.53151315, 0.4953193, 0.48565182, 0.51492274, 0.50330985, 0.47631958, 0.5]\n",
    "face = [0.83686125, 0.8601667, 0.84533286, 0.8287057, 0.75272024, 0.88401073, 0.8057525, 0.8155809]\n",
    "face_rand = [0.50652635, 0.49794447, 0.6964292, 0.5, 0.57799053, 0.4734094, 0.5340897, 0.5132827]\n",
    "animal = [0.728, 0.778, 0.832, 0.724, 0.685, 0.763, 0.760, 0.822]\n",
    "animal_rand = [0.490, 0.518, 0.467, 0.506, 0.492, 0.492, 0.490, 0.460]\n",
    "vehicle = [0.63666004, 0.7749062, 0.70542634, 0.6765815, 0.5861905, 0.66044986, 0.637699, 0.72237015]\n",
    "vehicle_rand = [0.51243365, 0.46709448, 0.5088834, 0.5, 0.4573095, 0.5398707, 0.5137987, 0.5396303]\n",
    "outdoor = [0.6075605, 0.595832, 0.58580244, 0.61947834, 0.48774514, 0.68280077, 0.64264286, 0.64079547]\n",
    "outdoor_rand = [0.4352548, 0.47683832, 0.54090405, 0.4749565, 0.50131303, 0.49639726, 0.45271426, 0.3698519]\n",
    "sports = [0.67907643, 0.8179509, 0.8033872, 0.7283197, 0.6249999, 0.7426069, 0.67639476, 0.7721769]\n",
    "sports_rand = [0.4761905, 0.5304762, 0.50676864, 0.5143444, 0.50541246, 0.5006824, 0.4957806, 0.49680126]\n",
    "food = [0.83188015, 0.7146096, 0.78497267, 0.7598106, 0.7156991, 0.71799564, 0.777656, 0.76861054]\n",
    "food_rand = [0.4390853, 0.54637724, 0.5690207, 0.49045455, 0.5523299, 0.5573561, 0.48547196, 0.44132835]\n",
    "furniture = [0.74236554, 0.63419354, 0.67153484, 0.56088924, 0.6056729, 0.6840717, 0.6891775, 0.6668134]\n",
    "furniture_rand = [0.5313172, 0.49489248, 0.47832003, 0.49440512, 0.42427492, 0.56255865, 0.52089465, 0.49288598]\n"
   ]
  },
  {
   "cell_type": "code",
   "execution_count": 14,
   "id": "0c55f487",
   "metadata": {},
   "outputs": [],
   "source": [
    "categories = [face, animal, person, furniture, vehicle, sports, food, outdoor]\n",
    "categories_rand = [face_rand, animal_rand, person_rand, furniture_rand, vehicle_rand, sports_rand, food_rand, outdoor_rand]\n",
    "CTEs = [np.mean(c) for c in categories]\n",
    "CTEs_rand = [np.mean(c) for c in categories_rand]\n",
    "error = [np.std(c) for c in categories]\n",
    "error_rand = [np.std(c) for c in categories_rand]"
   ]
  },
  {
   "cell_type": "code",
   "execution_count": 15,
   "id": "8ee0a4a6",
   "metadata": {},
   "outputs": [],
   "source": [
    "x_pos = np.arange(len(categories))*5\n",
    "names = ['face', 'animal', 'person', 'furniture', 'vehicle', 'sports', 'food', 'outdoor']"
   ]
  },
  {
   "cell_type": "code",
   "execution_count": 16,
   "id": "3ba2b756",
   "metadata": {},
   "outputs": [
    {
     "data": {
      "image/png": "[encoded data removed]",
      "text/plain": [
       "<Figure size 864x576 with 1 Axes>"
      ]
     },
     "metadata": {
      "needs_background": "light"
     },
     "output_type": "display_data"
    }
   ],
   "source": [
    "# Build the plot\n",
    "plt.rc('font', size=15)\n",
    "fig, ax = plt.subplots()\n",
    "fig.set_size_inches(12, 8)\n",
    "plt.yticks(np.arange(0, 1, 0.1))\n",
    "ax.bar(x_pos, CTEs, yerr=error, align='center', color='blue', alpha=0.5, ecolor='black', capsize=14, width=2)\n",
    "ax.bar(x_pos+2, CTEs_rand, yerr=error_rand, align='center', color='red', alpha=0.5, ecolor='black', capsize=14, width=2)\n",
    "ax.set_ylabel('AUC')\n",
    "ax.set_xticks(x_pos+1)\n",
    "ax.set_xticklabels(names)\n",
    "ax.set_title('AUC of Different Categories')\n",
    "ax.yaxis.grid(True)\n",
    "ax.legend(['Model', 'Random'])\n",
    "# Save the figure and show\n",
    "# plt.tight_layout()\n",
    "# plt.savefig('bar_plot_with_error_bars.png')\n",
    "plt.show()"
   ]
  },
  {
   "cell_type": "code",
   "execution_count": 20,
   "id": "07befc0a",
   "metadata": {},
   "outputs": [
    {
     "name": "stdout",
     "output_type": "stream",
     "text": [
      "face :\n",
      "t-statistic: 10.11598979645343 p-value: 4.048212655325941e-08\n",
      "animal :\n",
      "t-statistic: 14.485996688747932 p-value: 4.0327720375866824e-10\n",
      "person :\n",
      "t-statistic: 18.272385980721282 p-value: 1.8229482953080907e-11\n",
      "furniture :\n",
      "t-statistic: 6.424601156575583 p-value: 7.940906584404202e-06\n",
      "vehicle :\n",
      "t-statistic: 7.301613495177112 p-value: 1.9499300348921045e-06\n",
      "sports :\n",
      "t-statistic: 9.325960202953269 p-value: 1.1007113032725453e-07\n",
      "food :\n",
      "t-statistic: 10.48336492617673 p-value: 2.5948253991602724e-08\n",
      "outdoor :\n",
      "t-statistic: 5.123433637760139 p-value: 7.743513102378257e-05\n",
      "Bonferroni:\n",
      "\n",
      "Reject: [ True  True  True  True  True  True  True  True]\n",
      "pvals corrected: [3.23857012e-07 3.22621763e-09 1.45835864e-10 6.35272527e-05\n",
      " 1.55994403e-05 8.80569043e-07 2.07586032e-07 6.19481048e-04]\n",
      "Benjamini/Hochberg:\n",
      "\n",
      "Reject: [ True  True  True  True  True  True  True  True]\n",
      "pvals corrected: [8.09642531e-08 1.61310882e-09 1.45835864e-10 9.07532181e-06\n",
      " 2.59990671e-06 1.76113809e-07 6.91953440e-08 7.74351310e-05]\n"
     ]
    }
   ],
   "source": [
    "pvals = []\n",
    "for r, u, v in zip(names, categories,categories_rand):\n",
    "    print(r,':')\n",
    "    t_stat = stats.ttest_ind(u, v).statistic\n",
    "    pval = stats.ttest_ind(u, v).pvalue / 2\n",
    "    print('t-statistic:', t_stat, 'p-value:', pval)\n",
    "    pvals.append(pval)\n",
    "# Create a list of the adjusted p-values\n",
    "reject, pvals_corrected, alphacSidak, alphacBonf = multipletests(pvals, alpha=0.05, method='bonferroni') \n",
    "print(\"Bonferroni:\\n\")\n",
    "print(\"Reject:\", reject)\n",
    "print(\"pvals corrected:\", pvals_corrected)\n",
    "reject, pvals_corrected, alphacSidak, alphacBonf = multipletests(pvals, alpha=0.05, method='fdr_bh') # Benjamini/Hochberg\n",
    "print(\"Benjamini/Hochberg:\\n\")\n",
    "print(\"Reject:\", reject)\n",
    "print(\"pvals corrected:\", pvals_corrected)"
   ]
  },
  {
   "cell_type": "code",
   "execution_count": null,
   "id": "1ac49f13",
   "metadata": {},
   "outputs": [],
   "source": []
  }
 ],
 "metadata": {
  "kernelspec": {
   "display_name": "Python 3",
   "language": "python",
   "name": "python3"
  },
  "language_info": {
   "codemirror_mode": {
    "name": "ipython",
    "version": 3
   },
   "file_extension": ".py",
   "mimetype": "text/x-python",
   "name": "python",
   "nbconvert_exporter": "python",
   "pygments_lexer": "ipython3",
   "version": "3.8.8"
  }
 },
 "nbformat": 4,
 "nbformat_minor": 5
}
