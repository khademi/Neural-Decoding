{
 "cells": [
  {
   "cell_type": "code",
   "execution_count": 1,
   "id": "e205b869",
   "metadata": {},
   "outputs": [],
   "source": [
    "import matplotlib.pyplot as plt\n",
    "import numpy as np\n",
    "from scipy import stats"
   ]
  },
  {
   "cell_type": "code",
   "execution_count": 6,
   "id": "4d9cb682",
   "metadata": {},
   "outputs": [],
   "source": [
    "face = [0.876, 0.857, 0.818, 0.803, 0.810, 0.840, 0.812, 0.874]\n",
    "face_rand = [0.538, 0.514, 0.507, 0.550, 0.499, 0.511, 0.494, 0.498]\n",
    "animal = [0.728, 0.778, 0.832, 0.724, 0.685, 0.763, 0.760, 0.822]\n",
    "animal_rand = [0.490, 0.518, 0.467, 0.506, 0.492, 0.492, 0.490, 0.460]\n",
    "person = [0.806, 0.784, 0.830, 0.793, 0.665, 0.766, 0.730, 0.764]\n",
    "person_rand = [0.491, 0.523, 0.501, 0.467, 0.509, 0.495, 0.502, 0.504]\n",
    "furniture = [0.718, 0.636, 0.673, 0.659, 0.632, 0.630, 0.749, 0.675]\n",
    "furniture_rand = [0.431, 0.501, 0.512, 0.463, 0.476, 0.505, 0.498, 0.476]\n",
    "vehicle = [0.644, 0.738, 0.502, 0.683, 0.605, 0.662, 0.674, 0.716]\n",
    "vehicle_rand = [0.477, 0.438, 0.440, 0.472, 0.477, 0.416, 0.528, 0.511]\n",
    "sports = [0.794, 0.822, 0.891, 0.833, 0.805, 0.861, 0.827, 0.847]\n",
    "sports_rand = [0.483, 0.499, 0.508, 0.514, 0.525, 0.484, 0.512, 0.506]\n",
    "food = [0.720, 0.690, 0.771, 0.682, 0.729, 0.802, 0.686, 0.797]\n",
    "food_rand = [0.482, 0.491, 0.476, 0.512, 0.535, 0.471, 0.494, 0.512]\n",
    "outdoor = [0.594, 0.621, 0.600, 0.622, 0.515, 0.688, 0.614, 0.581]\n",
    "outdoor_rand = [0.489, 0.462, 0.521, 0.528, 0.495, 0.516, 0.530, 0.477]"
   ]
  },
  {
   "cell_type": "code",
   "execution_count": 7,
   "id": "0c55f487",
   "metadata": {},
   "outputs": [],
   "source": [
    "categories = [face, animal, person, furniture, vehicle, sports, food, outdoor]\n",
    "categories_rand = [face_rand, animal_rand, person_rand, furniture_rand, vehicle_rand, sports_rand, food_rand, outdoor_rand]\n",
    "CTEs = [np.mean(c) for c in categories]\n",
    "CTEs_rand = [np.mean(c) for c in categories_rand]\n",
    "error = [np.std(c) for c in categories]\n",
    "error_rand = [np.std(c) for c in categories_rand]"
   ]
  },
  {
   "cell_type": "code",
   "execution_count": 8,
   "id": "8ee0a4a6",
   "metadata": {},
   "outputs": [],
   "source": [
    "x_pos = np.arange(len(categories))*5\n",
    "names = ['face', 'animal', 'person', 'furniture', 'vehicle', 'sports', 'food', 'outdoor']"
   ]
  },
  {
   "cell_type": "code",
   "execution_count": 18,
   "id": "3ba2b756",
   "metadata": {},
   "outputs": [
    {
     "data": {
      "text/plain": [
       "<matplotlib.legend.Legend at 0x212243038e0>"
      ]
     },
     "execution_count": 18,
     "metadata": {},
     "output_type": "execute_result"
    },
    {
     "data": {
      "image/png": "[encoded data removed]",
      "text/plain": [
       "<Figure size 864x576 with 1 Axes>"
      ]
     },
     "metadata": {
      "needs_background": "light"
     },
     "output_type": "display_data"
    }
   ],
   "source": [
    "# Build the plot\n",
    "plt.rc('font', size=15)\n",
    "fig, ax = plt.subplots()\n",
    "fig.set_size_inches(12, 8)\n",
    "plt.yticks(np.arange(0, 1, 0.1))\n",
    "ax.bar(x_pos, CTEs, yerr=error, align='center', color='blue', alpha=0.5, ecolor='black', capsize=14, width=2)\n",
    "ax.bar(x_pos+2, CTEs_rand, yerr=error_rand, align='center', color='red', alpha=0.5, ecolor='black', capsize=14, width=2)\n",
    "ax.set_ylabel('AUC')\n",
    "ax.set_xticks(x_pos+1)\n",
    "ax.set_xticklabels(names)\n",
    "ax.set_title('AUC of Different Categories')\n",
    "ax.yaxis.grid(True)\n",
    "ax.legend(['Model', 'Random'])"
   ]
  },
  {
   "cell_type": "code",
   "execution_count": 86,
   "id": "5edad8a7",
   "metadata": {},
   "outputs": [],
   "source": [
    "# Save the figure and show\n",
    "# plt.tight_layout()\n",
    "# plt.savefig('bar_plot_with_error_bars.png')\n",
    "plt.show()"
   ]
  },
  {
   "cell_type": "code",
   "execution_count": 72,
   "id": "07befc0a",
   "metadata": {},
   "outputs": [
    {
     "name": "stdout",
     "output_type": "stream",
     "text": [
      "face :\n",
      "t statistic: 25.462724721146714 p-value: 1.9926627507513852e-13\n",
      "animal :\n",
      "t statistic: 14.485996688747932 p-value: 4.0327720375866824e-10\n",
      "person :\n",
      "t statistic: 14.174801871719954 p-value: 5.367075095824169e-10\n",
      "furniture :\n",
      "t statistic: 10.54042290921523 p-value: 2.424307426463143e-08\n",
      "vehicle :\n",
      "t statistic: 6.268710989740641 p-value: 1.0304375005096625e-05\n",
      "sports :\n",
      "t statistic: 27.25635895132498 p-value: 7.820442103423368e-14\n",
      "food :\n",
      "t statistic: 12.468550647662447 p-value: 2.855922648558299e-09\n",
      "outdoor :\n",
      "t statistic: 5.29985014631524 p-value: 5.610000939022911e-05\n"
     ]
    }
   ],
   "source": [
    "for r, u, v in zip(names, categories,categories_rand):\n",
    "    print(r,':')\n",
    "    print('t statistic:', stats.ttest_ind(u, v).statistic, 'p-value:', stats.ttest_ind(u, v).pvalue / 2)"
   ]
  },
  {
   "cell_type": "code",
   "execution_count": null,
   "id": "1ac49f13",
   "metadata": {},
   "outputs": [],
   "source": []
  },
  {
   "cell_type": "code",
   "execution_count": null,
   "id": "1f72ac8b",
   "metadata": {},
   "outputs": [],
   "source": []
  }
 ],
 "metadata": {
  "kernelspec": {
   "display_name": "Python 3",
   "language": "python",
   "name": "python3"
  },
  "language_info": {
   "codemirror_mode": {
    "name": "ipython",
    "version": 3
   },
   "file_extension": ".py",
   "mimetype": "text/x-python",
   "name": "python",
   "nbconvert_exporter": "python",
   "pygments_lexer": "ipython3",
   "version": "3.8.8"
  }
 },
 "nbformat": 4,
 "nbformat_minor": 5
}
