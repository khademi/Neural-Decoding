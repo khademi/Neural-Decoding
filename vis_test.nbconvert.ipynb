{
 "cells": [
  {
   "cell_type": "code",
   "execution_count": 1,
   "id": "566f45e0",
   "metadata": {
    "execution": {
     "iopub.execute_input": "2022-05-06T17:26:01.769291Z",
     "iopub.status.busy": "2022-05-06T17:26:01.769063Z",
     "iopub.status.idle": "2022-05-06T17:26:16.701533Z",
     "shell.execute_reply": "2022-05-06T17:26:16.700661Z"
    }
   },
   "outputs": [
    {
     "name": "stderr",
     "output_type": "stream",
     "text": [
      "Matplotlib created a temporary config/cache directory at /tmp/pbs.3722132.pbsha.ib.sockeye/matplotlib-3sugmc3i because the default path (/home/mkhademi/.config/matplotlib) is not a writable directory; it is highly recommended to set the MPLCONFIGDIR environment variable to a writable directory, in particular to speed up the import of Matplotlib and to better support multiprocessing.\n"
     ]
    }
   ],
   "source": [
    "import tensorflow as tf\n",
    "import os\n",
    "import time\n",
    "from tensorflow import keras\n",
    "from tensorflow.keras import layers\n",
    "import numpy as np\n",
    "from nilearn import image\n",
    "from nilearn import plotting\n",
    "import nibabel as nib\n",
    "from nilearn.plotting import plot_stat_map, plot_anat, plot_img\n",
    "from nilearn.image import concat_imgs, mean_img\n",
    "import nibabel as nib"
   ]
  },
  {
   "cell_type": "code",
   "execution_count": 2,
   "id": "3b4c6359",
   "metadata": {
    "execution": {
     "iopub.execute_input": "2022-05-06T17:26:16.704822Z",
     "iopub.status.busy": "2022-05-06T17:26:16.704582Z",
     "iopub.status.idle": "2022-05-06T17:26:16.771699Z",
     "shell.execute_reply": "2022-05-06T17:26:16.771189Z"
    }
   },
   "outputs": [
    {
     "name": "stdout",
     "output_type": "stream",
     "text": [
      "[[[0. 0. 0. ... 0. 0. 0.]\n",
      "  [0. 0. 0. ... 0. 0. 0.]\n",
      "  [0. 0. 0. ... 0. 0. 0.]\n",
      "  ...\n",
      "  [0. 0. 0. ... 0. 0. 0.]\n",
      "  [0. 0. 0. ... 0. 0. 0.]\n",
      "  [0. 0. 0. ... 0. 0. 0.]]\n",
      "\n",
      " [[0. 0. 0. ... 0. 0. 0.]\n",
      "  [0. 0. 0. ... 0. 0. 0.]\n",
      "  [0. 0. 0. ... 0. 0. 0.]\n",
      "  ...\n",
      "  [0. 0. 0. ... 0. 0. 0.]\n",
      "  [0. 0. 0. ... 0. 0. 0.]\n",
      "  [0. 0. 0. ... 0. 0. 0.]]\n",
      "\n",
      " [[0. 0. 0. ... 0. 0. 0.]\n",
      "  [0. 0. 0. ... 0. 0. 0.]\n",
      "  [0. 0. 0. ... 0. 0. 0.]\n",
      "  ...\n",
      "  [0. 0. 0. ... 0. 0. 0.]\n",
      "  [0. 0. 0. ... 0. 0. 0.]\n",
      "  [0. 0. 0. ... 0. 0. 0.]]\n",
      "\n",
      " ...\n",
      "\n",
      " [[0. 0. 0. ... 0. 0. 0.]\n",
      "  [0. 0. 0. ... 0. 0. 0.]\n",
      "  [0. 0. 0. ... 0. 0. 0.]\n",
      "  ...\n",
      "  [0. 0. 0. ... 0. 0. 0.]\n",
      "  [0. 0. 0. ... 0. 0. 0.]\n",
      "  [0. 0. 0. ... 0. 0. 0.]]\n",
      "\n",
      " [[0. 0. 0. ... 0. 0. 0.]\n",
      "  [0. 0. 0. ... 0. 0. 0.]\n",
      "  [0. 0. 0. ... 0. 0. 0.]\n",
      "  ...\n",
      "  [0. 0. 0. ... 0. 0. 0.]\n",
      "  [0. 0. 0. ... 0. 0. 0.]\n",
      "  [0. 0. 0. ... 0. 0. 0.]]\n",
      "\n",
      " [[0. 0. 0. ... 0. 0. 0.]\n",
      "  [0. 0. 0. ... 0. 0. 0.]\n",
      "  [0. 0. 0. ... 0. 0. 0.]\n",
      "  ...\n",
      "  [0. 0. 0. ... 0. 0. 0.]\n",
      "  [0. 0. 0. ... 0. 0. 0.]\n",
      "  [0. 0. 0. ... 0. 0. 0.]]]\n",
      "(71, 89, 72)\n"
     ]
    }
   ],
   "source": [
    "data_dir = '/arc/project/st-ipor-1/mkhademi/BOLD5000_2.0/'\n",
    "img = nib.load(data_dir + 'CSI1_brainmask.nii.gz')\n",
    "data = img.get_fdata()\n",
    "print(data)\n",
    "print(data.shape)"
   ]
  },
  {
   "cell_type": "code",
   "execution_count": 3,
   "id": "5e2fa2af",
   "metadata": {
    "execution": {
     "iopub.execute_input": "2022-05-06T17:26:16.774364Z",
     "iopub.status.busy": "2022-05-06T17:26:16.774138Z",
     "iopub.status.idle": "2022-05-06T17:26:16.810412Z",
     "shell.execute_reply": "2022-05-06T17:26:16.809915Z"
    }
   },
   "outputs": [
    {
     "name": "stdout",
     "output_type": "stream",
     "text": [
      "[[ 0.16727145  1.1733775  -0.48282975 ...  0.65440243  1.2773808\n",
      "   0.7152166 ]\n",
      " [ 1.2589841   0.74470425  0.26411656 ...  1.5145518   0.74498016\n",
      "   0.88225025]\n",
      " [ 0.27966648 -0.16489185 -0.55047363 ... -0.11178026 -1.3599519\n",
      "  -1.125909  ]\n",
      " ...\n",
      " [-2.380134   -0.41993752 -0.15568627 ...  0.8511743   1.0023801\n",
      "   0.6667326 ]\n",
      " [-1.4258239  -0.01796909 -0.5075829  ...  0.6927651   1.0405765\n",
      "   1.0964348 ]\n",
      " [-2.3990953   0.37309152  0.5922054  ...  0.6982572   0.04399459\n",
      "  -0.03115825]]\n",
      "(5254, 210)\n",
      "(5254, 152)\n",
      "(5254, 101)\n"
     ]
    }
   ],
   "source": [
    "file_name = data_dir + 'BOLD5000_GLMsingle_ROI_betas/py/' + 'CSI1_GLMbetas-TYPED-FITHRF-GLMDENOISE-RR_allses_LHEarlyVis.npy'\n",
    "roi_LHEarlyVis = np.load(file_name)\n",
    "print(roi_LHEarlyVis)\n",
    "print(roi_LHEarlyVis.shape)\n",
    "file_name = data_dir + 'BOLD5000_GLMsingle_ROI_betas/py/' + 'CSI1_GLMbetas-TYPED-FITHRF-GLMDENOISE-RR_allses_LHLOC.npy'\n",
    "roi_LHLOC = np.load(file_name)\n",
    "print(roi_LHLOC.shape)\n",
    "file_name = data_dir + 'BOLD5000_GLMsingle_ROI_betas/py/' + 'CSI1_GLMbetas-TYPED-FITHRF-GLMDENOISE-RR_allses_LHOPA.npy'\n",
    "roi_LHOPA = np.load(file_name)\n",
    "print(roi_LHOPA.shape)"
   ]
  }
 ],
 "metadata": {
  "kernelspec": {
   "display_name": "Python 3 (ipykernel)",
   "language": "python",
   "name": "python3"
  },
  "language_info": {
   "codemirror_mode": {
    "name": "ipython",
    "version": 3
   },
   "file_extension": ".py",
   "mimetype": "text/x-python",
   "name": "python",
   "nbconvert_exporter": "python",
   "pygments_lexer": "ipython3",
   "version": "3.7.11"
  }
 },
 "nbformat": 4,
 "nbformat_minor": 5
}
