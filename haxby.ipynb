{
 "cells": [
  {
   "cell_type": "code",
   "execution_count": 10,
   "id": "3cca3aba",
   "metadata": {},
   "outputs": [
    {
     "name": "stdout",
     "output_type": "stream",
     "text": [
      "First subject anatomical nifti image (3D) located is at: C:\\Users\\mahmo/nilearn_data\\haxby2001\\subj2\\anat.nii.gz\n",
      "First subject functional nifti image (4D) is located at: C:\\Users\\mahmo/nilearn_data\\haxby2001\\subj2\\bold.nii.gz\n"
     ]
    }
   ],
   "source": [
    "# We start by loading data using nilearn dataset fetcher\n",
    "from nilearn import datasets\n",
    "from nilearn.image import get_data\n",
    "# by default 2nd subject data will be fetched\n",
    "haxby_dataset = datasets.fetch_haxby()\n",
    "\n",
    "# print basic information on the dataset\n",
    "print('First subject anatomical nifti image (3D) located is at: %s' %\n",
    "      haxby_dataset.anat[0])\n",
    "print('First subject functional nifti image (4D) is located at: %s' %\n",
    "      haxby_dataset.func[0])\n",
    "\n",
    "# load labels\n",
    "import numpy as np\n",
    "import pandas as pd\n",
    "labels = pd.read_csv(haxby_dataset.session_target[0], sep=\" \")\n",
    "stimuli = labels['labels']\n",
    "\n",
    "# identify resting state (baseline) labels in order to be able to remove them\n",
    "resting_state = (stimuli == 'rest')\n",
    "\n",
    "# extract the indices of the images corresponding to some condition or task\n",
    "task_mask = np.logical_not(resting_state)\n",
    "\n",
    "# find names of remaining active labels\n",
    "categories = stimuli[task_mask].unique()\n",
    "\n",
    "# extract tags indicating to which acquisition run a tag belongs\n",
    "session_labels = labels['chunks'][task_mask]\n",
    "\n",
    "# Load the fMRI data\n",
    "# For decoding, standardizing is often very important\n",
    "mask_filename = haxby_dataset.mask_vt[0]\n",
    "func_filename = haxby_dataset.func[0]\n",
    "\n",
    "# Because the data is in one single large 4D image, we need to use\n",
    "# index_img to do the split easily.\n",
    "from nilearn.image import index_img\n",
    "fmri_niimgs = index_img(func_filename, task_mask)\n",
    "classification_target = stimuli[task_mask]"
   ]
  },
  {
   "cell_type": "code",
   "execution_count": 11,
   "id": "465f58e8",
   "metadata": {},
   "outputs": [
    {
     "name": "stdout",
     "output_type": "stream",
     "text": [
      "______________________________________________________________________\n",
      "logistic_l1: 24.25s\n",
      "          scissors vs all -- AUC: 0.92 +- 0.05\n",
      "              face vs all -- AUC: 0.98 +- 0.02\n",
      "               cat vs all -- AUC: 0.96 +- 0.04\n",
      "              shoe vs all -- AUC: 0.92 +- 0.08\n",
      "             house vs all -- AUC: 1.00 +- 0.00\n",
      "      scrambledpix vs all -- AUC: 0.99 +- 0.01\n",
      "            bottle vs all -- AUC: 0.90 +- 0.08\n",
      "             chair vs all -- AUC: 0.91 +- 0.06\n",
      "______________________________________________________________________\n",
      "logistic_l2: 69.34s\n",
      "          scissors vs all -- AUC: 0.91 +- 0.08\n",
      "              face vs all -- AUC: 0.97 +- 0.04\n",
      "               cat vs all -- AUC: 0.97 +- 0.03\n",
      "              shoe vs all -- AUC: 0.92 +- 0.09\n",
      "             house vs all -- AUC: 1.00 +- 0.00\n",
      "      scrambledpix vs all -- AUC: 0.96 +- 0.11\n",
      "            bottle vs all -- AUC: 0.82 +- 0.18\n",
      "             chair vs all -- AUC: 0.89 +- 0.18\n",
      "______________________________________________________________________\n",
      "ridge_classifier: 26.51s\n",
      "          scissors vs all -- AUC: 0.91 +- 0.08\n",
      "              face vs all -- AUC: 0.96 +- 0.03\n",
      "               cat vs all -- AUC: 0.91 +- 0.07\n",
      "              shoe vs all -- AUC: 0.91 +- 0.07\n",
      "             house vs all -- AUC: 1.00 +- 0.00\n",
      "      scrambledpix vs all -- AUC: 0.99 +- 0.01\n",
      "            bottle vs all -- AUC: 0.85 +- 0.10\n",
      "             chair vs all -- AUC: 0.91 +- 0.06\n",
      "______________________________________________________________________\n",
      "    svc_l1: 79.88s\n",
      "          scissors vs all -- AUC: 0.92 +- 0.05\n",
      "              face vs all -- AUC: 0.98 +- 0.03\n",
      "               cat vs all -- AUC: 0.96 +- 0.04\n",
      "              shoe vs all -- AUC: 0.92 +- 0.07\n",
      "             house vs all -- AUC: 1.00 +- 0.00\n",
      "      scrambledpix vs all -- AUC: 0.99 +- 0.01\n",
      "            bottle vs all -- AUC: 0.89 +- 0.08\n",
      "             chair vs all -- AUC: 0.93 +- 0.04\n",
      "______________________________________________________________________\n",
      "    svc_l2: 129.49s\n",
      "          scissors vs all -- AUC: 0.90 +- 0.09\n",
      "              face vs all -- AUC: 0.96 +- 0.05\n",
      "               cat vs all -- AUC: 0.96 +- 0.04\n",
      "              shoe vs all -- AUC: 0.91 +- 0.08\n",
      "             house vs all -- AUC: 1.00 +- 0.00\n",
      "      scrambledpix vs all -- AUC: 0.96 +- 0.10\n",
      "            bottle vs all -- AUC: 0.82 +- 0.17\n",
      "             chair vs all -- AUC: 0.87 +- 0.16\n"
     ]
    }
   ],
   "source": [
    "# Then we define the various classifiers that we use\n",
    "classifiers = ['svc_l2', 'svc_l1', 'logistic_l1',\n",
    "               'logistic_l2', 'ridge_classifier']\n",
    "\n",
    "# Here we compute prediction scores and run time for all these\n",
    "# classifiers\n",
    "import time\n",
    "from nilearn.decoding import Decoder\n",
    "from sklearn.model_selection import LeaveOneGroupOut\n",
    "\n",
    "cv = LeaveOneGroupOut()\n",
    "classifiers_data = {}\n",
    "\n",
    "for classifier_name in sorted(classifiers):\n",
    "    print(70 * '_')\n",
    "\n",
    "    # The decoder has as default score the `roc_auc`\n",
    "    decoder = Decoder(estimator=classifier_name, mask=mask_filename,\n",
    "                      standardize=True, cv=cv)\n",
    "    t0 = time.time()\n",
    "    decoder.fit(fmri_niimgs, classification_target, groups=session_labels)\n",
    "\n",
    "    classifiers_data[classifier_name] = {}\n",
    "    classifiers_data[classifier_name]['score'] = decoder.cv_scores_\n",
    "\n",
    "    print(\"%10s: %.2fs\" % (classifier_name, time.time() - t0))\n",
    "    for category in categories:\n",
    "        print(\"    %14s vs all -- AUC: %1.2f +- %1.2f\" % (\n",
    "            category,\n",
    "            np.mean(classifiers_data[classifier_name]['score'][category]),\n",
    "            np.std(classifiers_data[classifier_name]['score'][category]))\n",
    "        )\n",
    "\n",
    "    # Adding the average performance per estimator\n",
    "    scores = classifiers_data[classifier_name]['score']\n",
    "    scores['AVERAGE'] = np.mean(list(scores.values()), axis=0)\n",
    "    classifiers_data[classifier_name]['score'] = scores"
   ]
  },
  {
   "cell_type": "code",
   "execution_count": 12,
   "id": "bcf5a9e1",
   "metadata": {},
   "outputs": [
    {
     "data": {
      "image/png": "[encoded data removed]",
      "text/plain": [
       "<Figure size 432x432 with 1 Axes>"
      ]
     },
     "metadata": {
      "needs_background": "light"
     },
     "output_type": "display_data"
    }
   ],
   "source": [
    "# Then we make a rudimentary diagram\n",
    "import matplotlib.pyplot as plt\n",
    "plt.figure(figsize=(6, 6))\n",
    "\n",
    "all_categories = np.sort(np.hstack([categories, 'AVERAGE']))\n",
    "tick_position = np.arange(len(all_categories))\n",
    "plt.yticks(tick_position + 0.25, all_categories)\n",
    "height = 0.1\n",
    "\n",
    "for i, (color, classifier_name) in enumerate(zip(['b', 'm', 'k', 'r', 'g'],\n",
    "                                                 classifiers)):\n",
    "    score_means = [\n",
    "        np.mean(classifiers_data[classifier_name]['score'][category])\n",
    "        for category in all_categories\n",
    "    ]\n",
    "\n",
    "    plt.barh(tick_position, score_means,\n",
    "             label=classifier_name.replace('_', ' '),\n",
    "             height=height, color=color)\n",
    "    tick_position = tick_position + height\n",
    "\n",
    "plt.xlabel('Classification accuracy (AUC score)')\n",
    "plt.ylabel('Visual stimuli category')\n",
    "plt.xlim(xmin=0.5)\n",
    "plt.legend(loc='lower left', ncol=1)\n",
    "plt.title(\n",
    "    'Category-specific classification accuracy for different classifiers')\n",
    "plt.tight_layout()"
   ]
  },
  {
   "cell_type": "code",
   "execution_count": null,
   "id": "d359e503",
   "metadata": {},
   "outputs": [],
   "source": []
  }
 ],
 "metadata": {
  "kernelspec": {
   "display_name": "Python 3",
   "language": "python",
   "name": "python3"
  },
  "language_info": {
   "codemirror_mode": {
    "name": "ipython",
    "version": 3
   },
   "file_extension": ".py",
   "mimetype": "text/x-python",
   "name": "python",
   "nbconvert_exporter": "python",
   "pygments_lexer": "ipython3",
   "version": "3.8.8"
  }
 },
 "nbformat": 4,
 "nbformat_minor": 5
}
