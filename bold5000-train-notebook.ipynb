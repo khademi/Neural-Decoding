{
 "cells": [
  {
   "cell_type": "code",
   "execution_count": 1,
   "id": "77466e95",
   "metadata": {
    "execution": {
     "iopub.execute_input": "2022-01-10T08:59:15.448018Z",
     "iopub.status.busy": "2022-01-10T08:59:15.447352Z",
     "iopub.status.idle": "2022-01-10T08:59:17.850705Z",
     "shell.execute_reply": "2022-01-10T08:59:17.851640Z"
    }
   },
   "outputs": [
    {
     "name": "stderr",
     "output_type": "stream",
     "text": [
      "/localhome/mkhademi/anaconda3/envs/tf/lib/python3.8/site-packages/nilearn/datasets/__init__.py:86: FutureWarning: Fetchers from the nilearn.datasets module will be updated in version 0.9 to return python strings instead of bytes and Pandas dataframes instead of Numpy arrays.\n",
      "  warn(\"Fetchers from the nilearn.datasets module will be \"\n"
     ]
    }
   ],
   "source": [
    "import tensorflow as tf\n",
    "import os\n",
    "import time\n",
    "from tensorflow import keras\n",
    "from tensorflow.keras import layers\n",
    "import tensorflow_datasets as tfds\n",
    "import numpy as np\n",
    "from nilearn import image\n",
    "from nilearn import plotting\n",
    "import nibabel as nib\n",
    "from nilearn.plotting import plot_stat_map, plot_anat, plot_img"
   ]
  },
  {
   "cell_type": "code",
   "execution_count": 2,
   "id": "afbc22e1",
   "metadata": {
    "execution": {
     "iopub.execute_input": "2022-01-10T08:59:18.970141Z",
     "iopub.status.busy": "2022-01-10T08:59:18.968955Z",
     "iopub.status.idle": "2022-01-10T08:59:18.990464Z",
     "shell.execute_reply": "2022-01-10T08:59:18.989469Z"
    }
   },
   "outputs": [],
   "source": [
    "data_dir = '/local-scratch/localhome/mkhademi/BOLD5000_2.0/'\n",
    "batch_size = 20\n",
    "dataset = tf.data.TFRecordDataset(filenames = [data_dir + 'image_data/bold5000_coco.tfrecords']).batch(batch_size)\n",
    "train_ds = dataset.take(1800//batch_size)\n",
    "test_ds = dataset.skip(1800//batch_size)\n",
    "test_ds = test_ds.take(200//batch_size)\n",
    "train_ds = train_ds.shuffle(1800)"
   ]
  },
  {
   "cell_type": "code",
   "execution_count": 3,
   "id": "8fb9e4ab",
   "metadata": {
    "execution": {
     "iopub.execute_input": "2022-01-10T08:59:19.000792Z",
     "iopub.status.busy": "2022-01-10T08:59:18.997615Z",
     "iopub.status.idle": "2022-01-10T08:59:19.089779Z",
     "shell.execute_reply": "2022-01-10T08:59:19.088824Z"
    }
   },
   "outputs": [],
   "source": [
    "def tf_parse(eg):\n",
    "    example = tf.io.parse_example(\n",
    "        eg, {\n",
    "            'x': tf.io.FixedLenFeature(shape=(71, 89, 72, 1), dtype=tf.float32),\n",
    "            'y': tf.io.FixedLenFeature(shape=(1000), dtype=tf.float32),\n",
    "            'y_coco': tf.io.FixedLenFeature(shape=(90), dtype=tf.int64),\n",
    "            'y_imagenet': tf.io.FixedLenFeature(shape=(1000), dtype=tf.int64),\n",
    "            'y_super': tf.io.FixedLenFeature(shape=(12), dtype=tf.int64),\n",
    "            'y_common': tf.io.FixedLenFeature(shape=(90+12), dtype=tf.int64),\n",
    "            'y_face': tf.io.FixedLenFeature(shape=(2), dtype=tf.int64),\n",
    "        })\n",
    "    return example['x'], example['y_face']\n",
    "    \n",
    "decoded = train_ds.map(tf_parse)\n",
    "decoded_test = test_ds.map(tf_parse)"
   ]
  },
  {
   "cell_type": "code",
   "execution_count": 4,
   "id": "74c97c2c",
   "metadata": {
    "execution": {
     "iopub.execute_input": "2022-01-10T08:59:19.095662Z",
     "iopub.status.busy": "2022-01-10T08:59:19.094491Z",
     "iopub.status.idle": "2022-01-10T08:59:22.569938Z",
     "shell.execute_reply": "2022-01-10T08:59:22.570536Z"
    }
   },
   "outputs": [
    {
     "name": "stdout",
     "output_type": "stream",
     "text": [
      "(20, 71, 89, 72, 1)\n",
      "(20, 2)\n",
      "[1 1 1 1 1 1 1 1 1 1 1 1 1 1 1 1 1 1 1 1]\n"
     ]
    }
   ],
   "source": [
    "raw_example = next(iter(test_ds))\n",
    "print(tf_parse(raw_example)[0].numpy().shape)\n",
    "print(tf_parse(raw_example)[1].numpy().shape)\n",
    "print(tf_parse(raw_example)[1].numpy().sum(axis=1))"
   ]
  },
  {
   "cell_type": "code",
   "execution_count": 5,
   "id": "bce647bc",
   "metadata": {
    "execution": {
     "iopub.execute_input": "2022-01-10T08:59:22.574929Z",
     "iopub.status.busy": "2022-01-10T08:59:22.574197Z",
     "iopub.status.idle": "2022-01-10T08:59:24.662835Z",
     "shell.execute_reply": "2022-01-10T08:59:24.663646Z"
    }
   },
   "outputs": [
    {
     "name": "stdout",
     "output_type": "stream",
     "text": [
      "(20, 71, 89, 72, 1) (20, 2)\n"
     ]
    }
   ],
   "source": [
    "for x_batch, y_batch in decoded_test.take(1):\n",
    "    print(x_batch.shape, y_batch.shape)"
   ]
  },
  {
   "cell_type": "code",
   "execution_count": 6,
   "id": "d8547010",
   "metadata": {
    "execution": {
     "iopub.execute_input": "2022-01-10T08:59:24.684208Z",
     "iopub.status.busy": "2022-01-10T08:59:24.672042Z",
     "iopub.status.idle": "2022-01-10T08:59:24.722600Z",
     "shell.execute_reply": "2022-01-10T08:59:24.723532Z"
    }
   },
   "outputs": [
    {
     "name": "stdout",
     "output_type": "stream",
     "text": [
      "Model: \"sequential\"\n",
      "_________________________________________________________________\n",
      "Layer (type)                 Output Shape              Param #   \n",
      "=================================================================\n",
      "conv1 (Conv3D)               (None, 71, 89, 72, 1)     28        \n",
      "_________________________________________________________________\n",
      "conv2 (Conv3D)               (None, 71, 89, 72, 2)     56        \n",
      "_________________________________________________________________\n",
      "max_pooling3d (MaxPooling3D) (None, 35, 44, 36, 2)     0         \n",
      "_________________________________________________________________\n",
      "conv3 (Conv3D)               (None, 35, 44, 36, 4)     220       \n",
      "_________________________________________________________________\n",
      "max_pooling3d_1 (MaxPooling3 (None, 17, 22, 18, 4)     0         \n",
      "_________________________________________________________________\n",
      "flatten (Flatten)            (None, 26928)             0         \n",
      "_________________________________________________________________\n",
      "dropout (Dropout)            (None, 26928)             0         \n",
      "_________________________________________________________________\n",
      "dense (Dense)                (None, 2)                 53858     \n",
      "=================================================================\n",
      "Total params: 54,162\n",
      "Trainable params: 54,162\n",
      "Non-trainable params: 0\n",
      "_________________________________________________________________\n"
     ]
    }
   ],
   "source": [
    "model = tf.keras.Sequential([\n",
    "    tf.keras.Input(shape=(71, 89, 72, 1)),\n",
    "    tf.keras.layers.Conv3D(1, 3, activation='relu', padding='same', name='conv1'),\n",
    "    # tf.keras.layers.MaxPooling3D(pool_size=(2, 2, 2)),\n",
    "    tf.keras.layers.Conv3D(2, 3, activation='relu', padding='same', name='conv2'),\n",
    "    tf.keras.layers.MaxPooling3D(pool_size=(2, 2, 2)),\n",
    "    tf.keras.layers.Conv3D(4, 3, padding='same', name='conv3'),\n",
    "    # tf.keras.layers.Conv3D(2, 3, activation='relu', padding='same', name='conv3'),\n",
    "    tf.keras.layers.MaxPooling3D(pool_size=(2, 2, 2)),\n",
    "    tf.keras.layers.Flatten(),\n",
    "    tf.keras.layers.Dropout(rate=0.5),\n",
    "    # tf.keras.layers.Dense(100, activation='sigmoid'),\n",
    "    tf.keras.layers.Dense(2),\n",
    "    # tf.keras.layers.Softmax()\n",
    "    ])\n",
    "\n",
    "model.summary()"
   ]
  },
  {
   "cell_type": "code",
   "execution_count": 7,
   "id": "2359499b",
   "metadata": {
    "execution": {
     "iopub.execute_input": "2022-01-10T08:59:24.730347Z",
     "iopub.status.busy": "2022-01-10T08:59:24.729223Z",
     "iopub.status.idle": "2022-01-10T09:14:07.220824Z",
     "shell.execute_reply": "2022-01-10T09:14:07.221453Z"
    }
   },
   "outputs": [
    {
     "name": "stdout",
     "output_type": "stream",
     "text": [
      "Epoch 1/60\n",
      "90/90 [==============================] - 17s 132ms/step - loss: 86.5314 - categorical_accuracy: 0.6106\n",
      "Epoch 2/60\n",
      "90/90 [==============================] - 14s 133ms/step - loss: 38.6935 - categorical_accuracy: 0.6422\n",
      "Epoch 3/60\n",
      "90/90 [==============================] - 14s 133ms/step - loss: 46.1836 - categorical_accuracy: 0.6539\n",
      "Epoch 4/60\n",
      "90/90 [==============================] - 15s 134ms/step - loss: 25.2683 - categorical_accuracy: 0.6617\n",
      "Epoch 5/60\n",
      "90/90 [==============================] - 14s 135ms/step - loss: 19.5934 - categorical_accuracy: 0.6828\n",
      "Epoch 6/60\n",
      "90/90 [==============================] - 15s 135ms/step - loss: 10.6856 - categorical_accuracy: 0.7028\n",
      "Epoch 7/60\n",
      "90/90 [==============================] - 14s 135ms/step - loss: 5.7977 - categorical_accuracy: 0.7222\n",
      "Epoch 8/60\n",
      "90/90 [==============================] - 15s 142ms/step - loss: 9.7151 - categorical_accuracy: 0.7161\n",
      "Epoch 9/60\n",
      "90/90 [==============================] - 15s 138ms/step - loss: 6.5766 - categorical_accuracy: 0.7489\n",
      "Epoch 10/60\n",
      "90/90 [==============================] - 15s 139ms/step - loss: 3.9753 - categorical_accuracy: 0.7528\n",
      "Epoch 11/60\n",
      "90/90 [==============================] - 15s 138ms/step - loss: 3.8188 - categorical_accuracy: 0.7450\n",
      "Epoch 12/60\n",
      "90/90 [==============================] - 15s 139ms/step - loss: 3.1347 - categorical_accuracy: 0.7472\n",
      "Epoch 13/60\n",
      "90/90 [==============================] - 15s 139ms/step - loss: 4.5945 - categorical_accuracy: 0.7600\n",
      "Epoch 14/60\n",
      "90/90 [==============================] - 15s 139ms/step - loss: 4.1845 - categorical_accuracy: 0.7744\n",
      "Epoch 15/60\n",
      "90/90 [==============================] - 15s 139ms/step - loss: 3.0502 - categorical_accuracy: 0.7839\n",
      "Epoch 16/60\n",
      "90/90 [==============================] - 15s 139ms/step - loss: 3.3338 - categorical_accuracy: 0.7939\n",
      "Epoch 17/60\n",
      "90/90 [==============================] - 15s 138ms/step - loss: 3.7910 - categorical_accuracy: 0.7872\n",
      "Epoch 18/60\n",
      "90/90 [==============================] - 15s 139ms/step - loss: 3.9727 - categorical_accuracy: 0.7822\n",
      "Epoch 19/60\n",
      "90/90 [==============================] - 15s 139ms/step - loss: 2.6545 - categorical_accuracy: 0.7933\n",
      "Epoch 20/60\n",
      "90/90 [==============================] - 15s 138ms/step - loss: 2.6412 - categorical_accuracy: 0.7961\n",
      "Epoch 21/60\n",
      "90/90 [==============================] - 15s 139ms/step - loss: 2.3556 - categorical_accuracy: 0.8189\n",
      "Epoch 22/60\n",
      "90/90 [==============================] - 15s 138ms/step - loss: 1.9925 - categorical_accuracy: 0.8322\n",
      "Epoch 23/60\n",
      "90/90 [==============================] - 15s 138ms/step - loss: 2.8041 - categorical_accuracy: 0.8250\n",
      "Epoch 24/60\n",
      "90/90 [==============================] - 15s 138ms/step - loss: 1.2195 - categorical_accuracy: 0.8356\n",
      "Epoch 25/60\n",
      "90/90 [==============================] - 15s 139ms/step - loss: 1.2627 - categorical_accuracy: 0.8467\n",
      "Epoch 26/60\n",
      "90/90 [==============================] - 15s 138ms/step - loss: 1.2326 - categorical_accuracy: 0.8622\n",
      "Epoch 27/60\n",
      "90/90 [==============================] - 15s 139ms/step - loss: 1.1566 - categorical_accuracy: 0.8533\n",
      "Epoch 28/60\n",
      "90/90 [==============================] - 15s 137ms/step - loss: 1.2975 - categorical_accuracy: 0.8489\n",
      "Epoch 29/60\n",
      "90/90 [==============================] - 15s 137ms/step - loss: 1.4051 - categorical_accuracy: 0.8650\n",
      "Epoch 30/60\n",
      "90/90 [==============================] - 15s 138ms/step - loss: 1.6263 - categorical_accuracy: 0.8589\n",
      "Epoch 31/60\n",
      "90/90 [==============================] - 15s 137ms/step - loss: 1.2120 - categorical_accuracy: 0.8761\n",
      "Epoch 32/60\n",
      "90/90 [==============================] - 14s 137ms/step - loss: 0.7724 - categorical_accuracy: 0.8667\n",
      "Epoch 33/60\n",
      "90/90 [==============================] - 15s 138ms/step - loss: 1.3947 - categorical_accuracy: 0.8822\n",
      "Epoch 34/60\n",
      "90/90 [==============================] - 15s 137ms/step - loss: 1.0727 - categorical_accuracy: 0.8461\n",
      "Epoch 35/60\n",
      "90/90 [==============================] - 15s 137ms/step - loss: 0.8546 - categorical_accuracy: 0.9044\n",
      "Epoch 36/60\n",
      "90/90 [==============================] - 15s 138ms/step - loss: 1.2039 - categorical_accuracy: 0.8772\n",
      "Epoch 37/60\n",
      "90/90 [==============================] - 15s 137ms/step - loss: 1.0055 - categorical_accuracy: 0.8839\n",
      "Epoch 38/60\n",
      "90/90 [==============================] - 15s 138ms/step - loss: 1.0810 - categorical_accuracy: 0.8933\n",
      "Epoch 39/60\n",
      "90/90 [==============================] - 15s 137ms/step - loss: 0.3979 - categorical_accuracy: 0.9039\n",
      "Epoch 40/60\n",
      "90/90 [==============================] - 15s 137ms/step - loss: 0.7894 - categorical_accuracy: 0.8994\n",
      "Epoch 41/60\n",
      "90/90 [==============================] - 15s 137ms/step - loss: 0.4828 - categorical_accuracy: 0.9239\n",
      "Epoch 42/60\n",
      "90/90 [==============================] - 15s 137ms/step - loss: 0.6040 - categorical_accuracy: 0.9139\n",
      "Epoch 43/60\n",
      "90/90 [==============================] - 15s 137ms/step - loss: 0.5552 - categorical_accuracy: 0.9189\n",
      "Epoch 44/60\n",
      "90/90 [==============================] - 15s 137ms/step - loss: 0.7860 - categorical_accuracy: 0.9244\n",
      "Epoch 45/60\n",
      "90/90 [==============================] - 15s 137ms/step - loss: 0.6290 - categorical_accuracy: 0.9233\n",
      "Epoch 46/60\n",
      "90/90 [==============================] - 14s 137ms/step - loss: 1.3013 - categorical_accuracy: 0.9122\n",
      "Epoch 47/60\n",
      "90/90 [==============================] - 15s 137ms/step - loss: 0.4735 - categorical_accuracy: 0.9183\n",
      "Epoch 48/60\n",
      "90/90 [==============================] - 15s 137ms/step - loss: 0.7379 - categorical_accuracy: 0.9250\n",
      "Epoch 49/60\n",
      "90/90 [==============================] - 15s 137ms/step - loss: 0.6748 - categorical_accuracy: 0.9339\n",
      "Epoch 50/60\n",
      "90/90 [==============================] - 15s 137ms/step - loss: 0.5308 - categorical_accuracy: 0.9200\n",
      "Epoch 51/60\n",
      "90/90 [==============================] - 14s 137ms/step - loss: 1.6180 - categorical_accuracy: 0.9133\n",
      "Epoch 52/60\n",
      "90/90 [==============================] - 15s 137ms/step - loss: 0.4052 - categorical_accuracy: 0.9139\n",
      "Epoch 53/60\n",
      "90/90 [==============================] - 15s 137ms/step - loss: 0.6686 - categorical_accuracy: 0.9256\n",
      "Epoch 54/60\n",
      "90/90 [==============================] - 15s 136ms/step - loss: 0.6500 - categorical_accuracy: 0.9244\n",
      "Epoch 55/60\n",
      "90/90 [==============================] - 15s 137ms/step - loss: 0.7178 - categorical_accuracy: 0.9289\n",
      "Epoch 56/60\n",
      "90/90 [==============================] - 15s 137ms/step - loss: 0.4299 - categorical_accuracy: 0.9344\n",
      "Epoch 57/60\n",
      "90/90 [==============================] - 15s 136ms/step - loss: 0.3449 - categorical_accuracy: 0.9389\n",
      "Epoch 58/60\n",
      "90/90 [==============================] - 15s 137ms/step - loss: 0.6457 - categorical_accuracy: 0.9344\n",
      "Epoch 59/60\n",
      "90/90 [==============================] - 15s 137ms/step - loss: 0.3713 - categorical_accuracy: 0.9350\n",
      "Epoch 60/60\n",
      "90/90 [==============================] - 15s 136ms/step - loss: 0.5850 - categorical_accuracy: 0.9361\n"
     ]
    },
    {
     "data": {
      "text/plain": [
       "<keras.callbacks.History at 0x7f4f8c488d90>"
      ]
     },
     "execution_count": 1,
     "metadata": {},
     "output_type": "execute_result"
    }
   ],
   "source": [
    "model.compile(\n",
    "    # loss='mse',\n",
    "    loss = tf.keras.losses.CategoricalCrossentropy(from_logits=True),\n",
    "    # loss = tf.keras.losses.BinaryCrossentropy(from_logits=False),\n",
    "    # optimizer=keras.optimizers.RMSprop(),\n",
    "    optimizer='adam',\n",
    "    # metrics=[tf.keras.metrics.MeanSquaredError()],\n",
    "    metrics=[tf.keras.metrics.CategoricalAccuracy()],\n",
    "    # metrics=[tf.keras.metrics.CategoricalCrossentropy(from_logits=True)]\n",
    ")\n",
    "model.fit(decoded, epochs=60)"
   ]
  },
  {
   "cell_type": "code",
   "execution_count": 8,
   "id": "61d10c3e",
   "metadata": {
    "execution": {
     "iopub.execute_input": "2022-01-10T09:14:07.228516Z",
     "iopub.status.busy": "2022-01-10T09:14:07.227566Z",
     "iopub.status.idle": "2022-01-10T09:14:11.033009Z",
     "shell.execute_reply": "2022-01-10T09:14:11.032632Z"
    }
   },
   "outputs": [
    {
     "name": "stderr",
     "output_type": "stream",
     "text": [
      "/localhome/mkhademi/anaconda3/envs/tf/lib/python3.8/site-packages/nilearn/_utils/niimg.py:61: UserWarning: Non-finite values detected. These values will be replaced with zeros.\n",
      "  warn(\n"
     ]
    },
    {
     "data": {
      "text/plain": [
       "<nilearn.plotting.displays.ZSlicer at 0x7f4f800b4340>"
      ]
     },
     "execution_count": 1,
     "metadata": {},
     "output_type": "execute_result"
    },
    {
     "data": {
      "image/png": "[encoded data removed]",
      "text/plain": [
       "<Figure size 684x165.6 with 6 Axes>"
      ]
     },
     "metadata": {},
     "output_type": "display_data"
    }
   ],
   "source": [
    "img4d = image.load_img(data_dir + 'CSI1_GLMbetas-TYPED-FITHRF-GLMDENOISE-RR_ses-01.nii.gz');\n",
    "selected_volumes = image.index_img(img4d, slice(200, 201))\n",
    "imgs = [img for img in image.iter_img(selected_volumes)]\n",
    "img = imgs[0]\n",
    "mask = np.zeros(img.shape) * image.get_data(img)\n",
    "plot_stat_map(img, threshold='auto', display_mode=\"z\", cut_coords=4, bg_img=None)"
   ]
  },
  {
   "cell_type": "code",
   "execution_count": 9,
   "id": "18e130b0",
   "metadata": {
    "execution": {
     "iopub.execute_input": "2022-01-10T09:14:11.036919Z",
     "iopub.status.busy": "2022-01-10T09:14:11.036224Z",
     "iopub.status.idle": "2022-01-10T09:14:13.499785Z",
     "shell.execute_reply": "2022-01-10T09:14:13.499367Z"
    }
   },
   "outputs": [
    {
     "data": {
      "text/plain": [
       "<nilearn.plotting.displays.OrthoSlicer at 0x7f4f28567f40>"
      ]
     },
     "execution_count": 1,
     "metadata": {},
     "output_type": "execute_result"
    },
    {
     "data": {
      "image/png": "[encoded data removed]",
      "text/plain": [
       "<Figure size 475.2x187.2 with 4 Axes>"
      ]
     },
     "metadata": {},
     "output_type": "display_data"
    },
    {
     "data": {
      "image/png": "[encoded data removed]",
      "text/plain": [
       "<Figure size 475.2x187.2 with 4 Axes>"
      ]
     },
     "metadata": {},
     "output_type": "display_data"
    }
   ],
   "source": [
    "anat = '/local-scratch/localhome/mkhademi/ds001499/derivatives/fmriprep/sub-CSI1/anat/sub-CSI1_T1w_brainmask.nii.gz'   \n",
    "plot_anat(anat, title='original', display_mode='ortho', dim=-1, draw_cross=False, annotate=False)\n",
    "plot_img(anat)"
   ]
  },
  {
   "cell_type": "code",
   "execution_count": 10,
   "id": "f101b0e0",
   "metadata": {
    "execution": {
     "iopub.execute_input": "2022-01-10T09:14:13.504030Z",
     "iopub.status.busy": "2022-01-10T09:14:13.503277Z",
     "iopub.status.idle": "2022-01-10T09:14:16.598342Z",
     "shell.execute_reply": "2022-01-10T09:14:16.597970Z"
    }
   },
   "outputs": [
    {
     "name": "stdout",
     "output_type": "stream",
     "text": [
      "Datasets are stored in: ['/localhome/mkhademi/nilearn_data']\n"
     ]
    },
    {
     "data": {
      "text/plain": [
       "<nilearn.plotting.displays.OrthoSlicer at 0x7f4f2837dcd0>"
      ]
     },
     "execution_count": 1,
     "metadata": {},
     "output_type": "execute_result"
    },
    {
     "data": {
      "image/png": "[encoded data removed]",
      "text/plain": [
       "<Figure size 525.6x187.2 with 5 Axes>"
      ]
     },
     "metadata": {},
     "output_type": "display_data"
    },
    {
     "data": {
      "image/png": "[encoded data removed]",
      "text/plain": [
       "<Figure size 525.6x187.2 with 5 Axes>"
      ]
     },
     "metadata": {},
     "output_type": "display_data"
    }
   ],
   "source": [
    "from nilearn import datasets\n",
    "print('Datasets are stored in: %r' % datasets.get_data_dirs())\n",
    "motor_images = datasets.fetch_neurovault_motor_task()\n",
    "motor_images.images\n",
    "tmap_filename = motor_images.images[0]\n",
    "plot_stat_map(tmap_filename)\n",
    "plot_stat_map(tmap_filename, threshold=3)"
   ]
  },
  {
   "cell_type": "code",
   "execution_count": 11,
   "id": "3240dc09",
   "metadata": {
    "execution": {
     "iopub.execute_input": "2022-01-10T09:14:16.601803Z",
     "iopub.status.busy": "2022-01-10T09:14:16.601277Z",
     "iopub.status.idle": "2022-01-10T09:14:16.604932Z",
     "shell.execute_reply": "2022-01-10T09:14:16.604522Z"
    }
   },
   "outputs": [
    {
     "name": "stdout",
     "output_type": "stream",
     "text": [
      "9611.976\n",
      "-12267.824\n"
     ]
    }
   ],
   "source": [
    "img = np.array(img.dataobj)\n",
    "print(np.max(img))\n",
    "print(np.min(img))"
   ]
  },
  {
   "cell_type": "code",
   "execution_count": 12,
   "id": "5548f26f",
   "metadata": {
    "execution": {
     "iopub.execute_input": "2022-01-10T09:14:16.611589Z",
     "iopub.status.busy": "2022-01-10T09:14:16.610830Z",
     "iopub.status.idle": "2022-01-10T09:14:36.150772Z",
     "shell.execute_reply": "2022-01-10T09:14:36.151695Z"
    }
   },
   "outputs": [
    {
     "name": "stdout",
     "output_type": "stream",
     "text": [
      "(None, 71, 89, 72, 2)\n",
      "470\n",
      "1330\n",
      "236.0170819048552\n",
      "0.0\n"
     ]
    }
   ],
   "source": [
    "vis_output = model.get_layer('conv2').output\n",
    "print(vis_output.shape)\n",
    "vis_model = tf.keras.models.Model(inputs=model.input, outputs=vis_output)\n",
    "vis_face = np.zeros(vis_output.shape[1:4])\n",
    "vis_noface = np.zeros(vis_output.shape[1:4])\n",
    "count_face = 0\n",
    "count_noface = 0\n",
    "for x_batch, y_batch in decoded:\n",
    "    output = vis_model.predict(x_batch)\n",
    "    for i in range(y_batch.shape[0]):\n",
    "        if y_batch[i][0] == 1:\n",
    "            vis_face += output[i][:,:,:,0] \n",
    "            count_face += 1\n",
    "        else:\n",
    "            vis_noface += output[i][:,:,:,0]\n",
    "            count_noface += 1\n",
    "                      \n",
    "print(count_face)\n",
    "print(count_noface)\n",
    "vis_face = vis_face/count_face \n",
    "vis_noface = vis_noface/count_noface \n",
    "# print(vis_face) \n",
    "print(np.max(vis_face))\n",
    "print(np.min(vis_face))"
   ]
  },
  {
   "cell_type": "code",
   "execution_count": 13,
   "id": "057dceb2",
   "metadata": {
    "execution": {
     "iopub.execute_input": "2022-01-10T09:14:36.158224Z",
     "iopub.status.busy": "2022-01-10T09:14:36.157083Z",
     "iopub.status.idle": "2022-01-10T09:14:37.168822Z",
     "shell.execute_reply": "2022-01-10T09:14:37.167715Z"
    }
   },
   "outputs": [
    {
     "data": {
      "text/plain": [
       "<nilearn.plotting.displays.ZSlicer at 0x7f4f282202e0>"
      ]
     },
     "execution_count": 1,
     "metadata": {},
     "output_type": "execute_result"
    },
    {
     "data": {
      "image/png": "[encoded data removed]",
      "text/plain": [
       "<Figure size 684x165.6 with 6 Axes>"
      ]
     },
     "metadata": {},
     "output_type": "display_data"
    }
   ],
   "source": [
    "vis_face += mask\n",
    "vis_noface += mask\n",
    "nifti_file = nib.nifti1.Nifti1Image(dataobj=vis_face, affine=8*np.eye(4), header=None, extra=None, file_map=None)\n",
    "plot_stat_map(nifti_file, threshold='auto', display_mode=\"z\", cut_coords=4, bg_img=None)"
   ]
  },
  {
   "cell_type": "code",
   "execution_count": 14,
   "id": "76ce5b93",
   "metadata": {
    "execution": {
     "iopub.execute_input": "2022-01-10T09:14:37.173942Z",
     "iopub.status.busy": "2022-01-10T09:14:37.172861Z",
     "iopub.status.idle": "2022-01-10T09:14:39.463099Z",
     "shell.execute_reply": "2022-01-10T09:14:39.464103Z"
    }
   },
   "outputs": [
    {
     "name": "stdout",
     "output_type": "stream",
     "text": [
      "10/10 [==============================] - 2s 49ms/step - loss: 0.5021 - categorical_accuracy: 0.8050\n"
     ]
    }
   ],
   "source": [
    "loss, accuracy = model.evaluate(decoded_test)"
   ]
  },
  {
   "cell_type": "code",
   "execution_count": 15,
   "id": "6cf02705",
   "metadata": {
    "execution": {
     "iopub.execute_input": "2022-01-10T09:14:39.474214Z",
     "iopub.status.busy": "2022-01-10T09:14:39.473268Z",
     "iopub.status.idle": "2022-01-10T09:14:45.286800Z",
     "shell.execute_reply": "2022-01-10T09:14:45.287200Z"
    }
   },
   "outputs": [
    {
     "name": "stdout",
     "output_type": "stream",
     "text": [
      "tf.Tensor(\n",
      "[[0.07201896 0.927981  ]\n",
      " [0.25673762 0.7432624 ]\n",
      " [0.46825814 0.53174186]\n",
      " [0.13749994 0.8625    ]\n",
      " [0.00492187 0.9950781 ]\n",
      " [0.04051205 0.9594879 ]\n",
      " [0.18128838 0.81871164]\n",
      " [0.08591151 0.9140884 ]\n",
      " [0.6977952  0.30220476]\n",
      " [0.23283644 0.7671635 ]\n",
      " [0.15664876 0.84335124]\n",
      " [0.95482594 0.04517409]\n",
      " [0.16977261 0.83022743]\n",
      " [0.7225768  0.2774232 ]\n",
      " [0.00177293 0.99822706]\n",
      " [0.46490145 0.5350986 ]\n",
      " [0.5715559  0.42844412]\n",
      " [0.01713209 0.98286796]\n",
      " [0.96277815 0.03722188]\n",
      " [0.2526947  0.7473053 ]], shape=(20, 2), dtype=float32)\n",
      "50\n",
      "150\n"
     ]
    }
   ],
   "source": [
    "model.add(tf.keras.layers.Softmax())\n",
    "for x_batch, y_batch in decoded_test.take(1):\n",
    "    print(model(x_batch))\n",
    "pos = 0\n",
    "neg = 0\n",
    "for x_batch, y_batch in decoded_test:\n",
    "    for i in range(y_batch.shape[0]):\n",
    "        if y_batch[i][0] == 1:\n",
    "            pos += 1\n",
    "        else:\n",
    "            neg += 1\n",
    "print(pos)\n",
    "print(neg)"
   ]
  },
  {
   "cell_type": "code",
   "execution_count": 16,
   "id": "bfac74a5",
   "metadata": {
    "execution": {
     "iopub.execute_input": "2022-01-10T09:14:45.294321Z",
     "iopub.status.busy": "2022-01-10T09:14:45.293839Z",
     "iopub.status.idle": "2022-01-10T09:14:45.305273Z",
     "shell.execute_reply": "2022-01-10T09:14:45.305779Z"
    }
   },
   "outputs": [],
   "source": [
    "batch_size = 20\n",
    "dataset = tf.data.TFRecordDataset(filenames = [data_dir + 'image_data/bold5000_common.tfrecords']).batch(batch_size)\n",
    "train_ds = dataset.take((2135+400)//batch_size)\n",
    "test_ds = dataset.skip((2135+400)//batch_size)\n",
    "test_ds = test_ds.take(329//batch_size)\n",
    "train_ds = train_ds.shuffle(2135+400)"
   ]
  },
  {
   "cell_type": "code",
   "execution_count": 17,
   "id": "fcc9d6fd",
   "metadata": {
    "execution": {
     "iopub.execute_input": "2022-01-10T09:14:45.312265Z",
     "iopub.status.busy": "2022-01-10T09:14:45.311390Z",
     "iopub.status.idle": "2022-01-10T09:14:45.394764Z",
     "shell.execute_reply": "2022-01-10T09:14:45.395519Z"
    }
   },
   "outputs": [],
   "source": [
    "def tf_parse(eg):\n",
    "    example = tf.io.parse_example(\n",
    "        eg, {\n",
    "            'x': tf.io.FixedLenFeature(shape=(71, 89, 72, 1), dtype=tf.float32),\n",
    "            'y': tf.io.FixedLenFeature(shape=(1000), dtype=tf.float32),\n",
    "            'y_coco': tf.io.FixedLenFeature(shape=(90), dtype=tf.int64),\n",
    "            'y_imagenet': tf.io.FixedLenFeature(shape=(1000), dtype=tf.int64),\n",
    "            'y_super': tf.io.FixedLenFeature(shape=(12), dtype=tf.int64),\n",
    "            'y_common': tf.io.FixedLenFeature(shape=(90+12), dtype=tf.int64),\n",
    "            'y_face': tf.io.FixedLenFeature(shape=(2), dtype=tf.int64),\n",
    "        })\n",
    "    return example['x'], example['y_super']\n",
    "    \n",
    "decoded = train_ds.map(tf_parse)\n",
    "decoded_test = test_ds.map(tf_parse)"
   ]
  },
  {
   "cell_type": "code",
   "execution_count": 18,
   "id": "a4a8b5e8",
   "metadata": {
    "execution": {
     "iopub.execute_input": "2022-01-10T09:14:45.400971Z",
     "iopub.status.busy": "2022-01-10T09:14:45.399931Z",
     "iopub.status.idle": "2022-01-10T09:14:50.183595Z",
     "shell.execute_reply": "2022-01-10T09:14:50.184195Z"
    }
   },
   "outputs": [
    {
     "name": "stdout",
     "output_type": "stream",
     "text": [
      "(20, 71, 89, 72, 1)\n",
      "(20, 12)\n",
      "[1 1 3 1 1 1 1 1 1 1 1 1 1 1 1 1 3 1 1 1]\n"
     ]
    }
   ],
   "source": [
    "raw_example = next(iter(test_ds))\n",
    "print(tf_parse(raw_example)[0].numpy().shape)\n",
    "print(tf_parse(raw_example)[1].numpy().shape)\n",
    "print(tf_parse(raw_example)[1].numpy().sum(axis=1))"
   ]
  },
  {
   "cell_type": "code",
   "execution_count": 19,
   "id": "48d87618",
   "metadata": {
    "execution": {
     "iopub.execute_input": "2022-01-10T09:14:50.188363Z",
     "iopub.status.busy": "2022-01-10T09:14:50.187616Z",
     "iopub.status.idle": "2022-01-10T09:14:52.727168Z",
     "shell.execute_reply": "2022-01-10T09:14:52.726219Z"
    }
   },
   "outputs": [
    {
     "name": "stdout",
     "output_type": "stream",
     "text": [
      "(20, 71, 89, 72, 1)\n"
     ]
    }
   ],
   "source": [
    "for x_batch, y_batch in decoded_test.take(1):\n",
    "    print(x_batch.shape)"
   ]
  },
  {
   "cell_type": "code",
   "execution_count": 20,
   "id": "f976896c",
   "metadata": {
    "execution": {
     "iopub.execute_input": "2022-01-10T09:14:52.743051Z",
     "iopub.status.busy": "2022-01-10T09:14:52.742162Z",
     "iopub.status.idle": "2022-01-10T09:14:52.778221Z",
     "shell.execute_reply": "2022-01-10T09:14:52.777119Z"
    }
   },
   "outputs": [
    {
     "name": "stdout",
     "output_type": "stream",
     "text": [
      "Model: \"sequential_1\"\n",
      "_________________________________________________________________\n",
      "Layer (type)                 Output Shape              Param #   \n",
      "=================================================================\n",
      "conv1 (Conv3D)               (None, 71, 89, 72, 1)     28        \n",
      "_________________________________________________________________\n",
      "conv2 (Conv3D)               (None, 71, 89, 72, 2)     56        \n",
      "_________________________________________________________________\n",
      "max_pooling3d_2 (MaxPooling3 (None, 35, 44, 36, 2)     0         \n",
      "_________________________________________________________________\n",
      "conv3 (Conv3D)               (None, 35, 44, 36, 4)     220       \n",
      "_________________________________________________________________\n",
      "max_pooling3d_3 (MaxPooling3 (None, 17, 22, 18, 4)     0         \n",
      "_________________________________________________________________\n",
      "flatten_1 (Flatten)          (None, 26928)             0         \n",
      "_________________________________________________________________\n",
      "dropout_1 (Dropout)          (None, 26928)             0         \n",
      "_________________________________________________________________\n",
      "dense_1 (Dense)              (None, 12)                323148    \n",
      "=================================================================\n",
      "Total params: 323,452\n",
      "Trainable params: 323,452\n",
      "Non-trainable params: 0\n",
      "_________________________________________________________________\n"
     ]
    }
   ],
   "source": [
    "model = tf.keras.Sequential([\n",
    "    tf.keras.Input(shape=(71, 89, 72, 1)),\n",
    "    tf.keras.layers.Conv3D(1, 3, activation='relu', padding='same', name='conv1'),\n",
    "    # tf.keras.layers.MaxPooling3D(pool_size=(2, 2, 2)),\n",
    "    tf.keras.layers.Conv3D(2, 3, padding='same', name='conv2'),\n",
    "    tf.keras.layers.MaxPooling3D(pool_size=(2, 2, 2)),\n",
    "    tf.keras.layers.Conv3D(4, 3, padding='same', name='conv3'),\n",
    "    # tf.keras.layers.Conv3D(2, 3, activation='relu', padding='same', name='conv3'),\n",
    "    tf.keras.layers.MaxPooling3D(pool_size=(2, 2, 2)),\n",
    "    tf.keras.layers.Flatten(),\n",
    "    tf.keras.layers.Dropout(rate=0.5),\n",
    "    tf.keras.layers.Dense(12, activation='sigmoid'),\n",
    "    # tf.keras.layers.Softmax()\n",
    "    ])\n",
    " \n",
    "model.summary()"
   ]
  },
  {
   "cell_type": "code",
   "execution_count": 21,
   "id": "d07385a3",
   "metadata": {
    "execution": {
     "iopub.execute_input": "2022-01-10T09:14:52.784548Z",
     "iopub.status.busy": "2022-01-10T09:14:52.783409Z",
     "iopub.status.idle": "2022-01-10T09:35:11.139188Z",
     "shell.execute_reply": "2022-01-10T09:35:11.140159Z"
    }
   },
   "outputs": [
    {
     "name": "stdout",
     "output_type": "stream",
     "text": [
      "Epoch 1/60\n",
      "126/126 [==============================] - 21s 133ms/step - loss: 29.6867 - binary_accuracy: 0.7701\n",
      "Epoch 2/60\n",
      "126/126 [==============================] - 20s 134ms/step - loss: 12.3584 - binary_accuracy: 0.7923\n",
      "Epoch 3/60\n",
      "126/126 [==============================] - 21s 143ms/step - loss: 5.7871 - binary_accuracy: 0.8021\n",
      "Epoch 4/60\n",
      "126/126 [==============================] - 21s 142ms/step - loss: 4.2063 - binary_accuracy: 0.8118\n",
      "Epoch 5/60\n",
      "126/126 [==============================] - 21s 140ms/step - loss: 2.5923 - binary_accuracy: 0.8223\n",
      "Epoch 6/60\n",
      "126/126 [==============================] - 21s 139ms/step - loss: 2.4690 - binary_accuracy: 0.8306\n",
      "Epoch 7/60\n",
      "126/126 [==============================] - 21s 139ms/step - loss: 1.8637 - binary_accuracy: 0.8401\n",
      "Epoch 8/60\n",
      "126/126 [==============================] - 21s 139ms/step - loss: 1.7309 - binary_accuracy: 0.8473\n",
      "Epoch 9/60\n",
      "126/126 [==============================] - 21s 138ms/step - loss: 1.4913 - binary_accuracy: 0.8544\n",
      "Epoch 10/60\n",
      "126/126 [==============================] - 21s 138ms/step - loss: 1.0633 - binary_accuracy: 0.8620\n",
      "Epoch 11/60\n",
      "126/126 [==============================] - 20s 137ms/step - loss: 0.9631 - binary_accuracy: 0.8705\n",
      "Epoch 12/60\n",
      "126/126 [==============================] - 20s 138ms/step - loss: 0.7481 - binary_accuracy: 0.8780\n",
      "Epoch 13/60\n",
      "126/126 [==============================] - 20s 137ms/step - loss: 0.7135 - binary_accuracy: 0.8796\n",
      "Epoch 14/60\n",
      "126/126 [==============================] - 20s 137ms/step - loss: 0.6476 - binary_accuracy: 0.8865\n",
      "Epoch 15/60\n",
      "126/126 [==============================] - 20s 137ms/step - loss: 0.6968 - binary_accuracy: 0.8894\n",
      "Epoch 16/60\n",
      "126/126 [==============================] - 20s 137ms/step - loss: 0.7674 - binary_accuracy: 0.8918\n",
      "Epoch 17/60\n",
      "126/126 [==============================] - 20s 136ms/step - loss: 0.5774 - binary_accuracy: 0.8986\n",
      "Epoch 18/60\n",
      "126/126 [==============================] - 20s 136ms/step - loss: 0.4268 - binary_accuracy: 0.9051\n",
      "Epoch 19/60\n",
      "126/126 [==============================] - 20s 137ms/step - loss: 0.5239 - binary_accuracy: 0.9015\n",
      "Epoch 20/60\n",
      "126/126 [==============================] - 20s 136ms/step - loss: 0.5489 - binary_accuracy: 0.9083\n",
      "Epoch 21/60\n",
      "126/126 [==============================] - 20s 137ms/step - loss: 0.6220 - binary_accuracy: 0.9017\n",
      "Epoch 22/60\n",
      "126/126 [==============================] - 20s 136ms/step - loss: 0.4781 - binary_accuracy: 0.9123\n",
      "Epoch 23/60\n",
      "126/126 [==============================] - 20s 137ms/step - loss: 0.4899 - binary_accuracy: 0.9102\n",
      "Epoch 24/60\n",
      "126/126 [==============================] - 20s 136ms/step - loss: 0.4238 - binary_accuracy: 0.9147\n",
      "Epoch 25/60\n",
      "126/126 [==============================] - 20s 135ms/step - loss: 0.4336 - binary_accuracy: 0.9146\n",
      "Epoch 26/60\n",
      "126/126 [==============================] - 20s 136ms/step - loss: 0.5805 - binary_accuracy: 0.9018\n",
      "Epoch 27/60\n",
      "126/126 [==============================] - 20s 137ms/step - loss: 0.5332 - binary_accuracy: 0.9050\n",
      "Epoch 28/60\n",
      "126/126 [==============================] - 20s 136ms/step - loss: 0.3811 - binary_accuracy: 0.9137\n",
      "Epoch 29/60\n",
      "126/126 [==============================] - 20s 136ms/step - loss: 0.3008 - binary_accuracy: 0.9246\n",
      "Epoch 30/60\n",
      "126/126 [==============================] - 20s 136ms/step - loss: 0.3142 - binary_accuracy: 0.9252\n",
      "Epoch 31/60\n",
      "126/126 [==============================] - 20s 136ms/step - loss: 0.2806 - binary_accuracy: 0.9298\n",
      "Epoch 32/60\n",
      "126/126 [==============================] - 20s 136ms/step - loss: 0.2470 - binary_accuracy: 0.9323\n",
      "Epoch 33/60\n",
      "126/126 [==============================] - 20s 136ms/step - loss: 0.2481 - binary_accuracy: 0.9368\n",
      "Epoch 34/60\n",
      "126/126 [==============================] - 20s 136ms/step - loss: 0.3514 - binary_accuracy: 0.9253\n",
      "Epoch 35/60\n",
      "126/126 [==============================] - 20s 135ms/step - loss: 0.3419 - binary_accuracy: 0.9256\n",
      "Epoch 36/60\n",
      "126/126 [==============================] - 20s 136ms/step - loss: 0.4089 - binary_accuracy: 0.9252\n",
      "Epoch 37/60\n",
      "126/126 [==============================] - 20s 135ms/step - loss: 0.3008 - binary_accuracy: 0.9309\n",
      "Epoch 38/60\n",
      "126/126 [==============================] - 20s 136ms/step - loss: 0.3382 - binary_accuracy: 0.9341\n",
      "Epoch 39/60\n",
      "126/126 [==============================] - 20s 135ms/step - loss: 0.4467 - binary_accuracy: 0.9202\n",
      "Epoch 40/60\n",
      "126/126 [==============================] - 20s 136ms/step - loss: 0.4169 - binary_accuracy: 0.9222\n",
      "Epoch 41/60\n",
      "126/126 [==============================] - 20s 135ms/step - loss: 0.3319 - binary_accuracy: 0.9350\n",
      "Epoch 42/60\n",
      "126/126 [==============================] - 20s 135ms/step - loss: 0.2383 - binary_accuracy: 0.9335\n",
      "Epoch 43/60\n",
      "126/126 [==============================] - 20s 135ms/step - loss: 0.2960 - binary_accuracy: 0.9335\n",
      "Epoch 44/60\n",
      "126/126 [==============================] - 20s 136ms/step - loss: 0.2630 - binary_accuracy: 0.9357\n",
      "Epoch 45/60\n",
      "126/126 [==============================] - 20s 135ms/step - loss: 0.2568 - binary_accuracy: 0.9413\n",
      "Epoch 46/60\n",
      "126/126 [==============================] - 20s 135ms/step - loss: 0.1994 - binary_accuracy: 0.9433\n",
      "Epoch 47/60\n",
      "126/126 [==============================] - 20s 136ms/step - loss: 0.1735 - binary_accuracy: 0.9500\n",
      "Epoch 48/60\n",
      "126/126 [==============================] - 20s 135ms/step - loss: 0.2277 - binary_accuracy: 0.9433\n",
      "Epoch 49/60\n",
      "126/126 [==============================] - 20s 136ms/step - loss: 0.2091 - binary_accuracy: 0.9472\n",
      "Epoch 50/60\n",
      "126/126 [==============================] - 20s 135ms/step - loss: 0.2500 - binary_accuracy: 0.9410\n",
      "Epoch 51/60\n",
      "126/126 [==============================] - 20s 136ms/step - loss: 0.2027 - binary_accuracy: 0.9460\n",
      "Epoch 52/60\n",
      "126/126 [==============================] - 20s 135ms/step - loss: 0.1695 - binary_accuracy: 0.9492\n",
      "Epoch 53/60\n",
      "126/126 [==============================] - 20s 136ms/step - loss: 0.1406 - binary_accuracy: 0.9579\n",
      "Epoch 54/60\n",
      "126/126 [==============================] - 20s 135ms/step - loss: 0.1323 - binary_accuracy: 0.9571\n",
      "Epoch 55/60\n",
      "126/126 [==============================] - 20s 136ms/step - loss: 0.1445 - binary_accuracy: 0.9569\n",
      "Epoch 56/60\n",
      "126/126 [==============================] - 20s 136ms/step - loss: 0.4315 - binary_accuracy: 0.9352\n",
      "Epoch 57/60\n",
      "126/126 [==============================] - 20s 136ms/step - loss: 0.3787 - binary_accuracy: 0.9187\n",
      "Epoch 58/60\n",
      "126/126 [==============================] - 20s 136ms/step - loss: 0.4246 - binary_accuracy: 0.9275\n",
      "Epoch 59/60\n",
      "126/126 [==============================] - 20s 136ms/step - loss: 0.4084 - binary_accuracy: 0.9304\n",
      "Epoch 60/60\n",
      "126/126 [==============================] - 20s 137ms/step - loss: 0.2804 - binary_accuracy: 0.9307\n"
     ]
    },
    {
     "data": {
      "text/plain": [
       "<keras.callbacks.History at 0x7f4f187ae940>"
      ]
     },
     "execution_count": 1,
     "metadata": {},
     "output_type": "execute_result"
    }
   ],
   "source": [
    "model.compile(\n",
    "    # loss='mse',\n",
    "    # loss = tf.keras.losses.CategoricalCrossentropy(from_logits=True),\n",
    "    loss = tf.keras.losses.BinaryCrossentropy(from_logits=False),\n",
    "    # optimizer=keras.optimizers.RMSprop(),\n",
    "    optimizer='adam',\n",
    "    # metrics=[tf.keras.metrics.MeanSquaredError()],\n",
    "    # metrics=[tf.keras.metrics.CategoricalAccuracy()],\n",
    "    metrics=[tf.keras.metrics.BinaryAccuracy()]\n",
    ")\n",
    "model.fit(decoded, epochs=60)"
   ]
  },
  {
   "cell_type": "code",
   "execution_count": 22,
   "id": "2f24d498",
   "metadata": {
    "execution": {
     "iopub.execute_input": "2022-01-10T09:35:11.146718Z",
     "iopub.status.busy": "2022-01-10T09:35:11.145592Z",
     "iopub.status.idle": "2022-01-10T09:35:16.981552Z",
     "shell.execute_reply": "2022-01-10T09:35:16.981108Z"
    }
   },
   "outputs": [
    {
     "name": "stdout",
     "output_type": "stream",
     "text": [
      "16/16 [==============================] - 6s 47ms/step - loss: 0.5759 - binary_accuracy: 0.8484\n"
     ]
    }
   ],
   "source": [
    "loss, accuracy = model.evaluate(decoded_test)"
   ]
  },
  {
   "cell_type": "code",
   "execution_count": 23,
   "id": "36eff002",
   "metadata": {
    "execution": {
     "iopub.execute_input": "2022-01-10T09:35:16.987447Z",
     "iopub.status.busy": "2022-01-10T09:35:16.986701Z",
     "iopub.status.idle": "2022-01-10T09:35:22.180052Z",
     "shell.execute_reply": "2022-01-10T09:35:22.180981Z"
    }
   },
   "outputs": [
    {
     "name": "stdout",
     "output_type": "stream",
     "text": [
      "tf.Tensor(\n",
      "[[4.97726381e-01 1.21875445e-03 2.07167235e-03 9.59937513e-01\n",
      "  1.32490113e-01 2.38511905e-01 1.15855466e-04 1.65915335e-04\n",
      "  5.05410554e-03 6.43098538e-05 6.38399615e-06 2.69228767e-04]\n",
      " [5.06764627e-04 5.17342146e-03 2.89318468e-05 9.87263858e-01\n",
      "  1.53483544e-03 2.22253698e-06 1.95824236e-01 5.42054586e-05\n",
      "  1.72778130e-01 5.78274857e-03 8.84934515e-03 9.33808333e-04]\n",
      " [6.62317514e-01 3.71079832e-01 2.21020906e-04 9.43283200e-01\n",
      "  2.19055172e-03 5.79968607e-03 1.16320989e-05 1.56160491e-03\n",
      "  1.17782898e-01 1.49487406e-01 2.54071929e-05 2.04449123e-07]\n",
      " [6.52572289e-02 2.35771135e-04 3.29325616e-04 9.83298600e-01\n",
      "  1.57876275e-04 3.40755749e-03 2.72699283e-04 3.92938359e-03\n",
      "  5.44539154e-01 5.34684455e-04 2.49914272e-04 3.41328385e-04]\n",
      " [4.84452830e-05 5.46201691e-03 3.18584216e-06 3.59483883e-02\n",
      "  4.49057552e-06 1.40841154e-03 4.45729792e-02 1.74889863e-01\n",
      "  7.78954327e-01 8.96361545e-02 4.97294066e-04 7.01412916e-01]\n",
      " [6.31697953e-01 9.75189209e-01 1.67351573e-05 3.31540534e-04\n",
      "  1.30664604e-03 2.05587785e-05 1.05156683e-08 7.19985746e-06\n",
      "  9.64915566e-03 3.88438016e-01 3.14980061e-05 4.87871061e-04]\n",
      " [9.46020961e-01 9.55884159e-01 7.64944777e-02 2.06537382e-03\n",
      "  2.76867906e-03 2.22748891e-01 1.36656865e-06 6.30211318e-04\n",
      "  1.42653030e-03 1.03562081e-04 1.54746044e-06 1.51133980e-04]\n",
      " [2.57763488e-04 7.74494290e-01 1.14804800e-06 9.61664021e-01\n",
      "  2.42282840e-06 1.50500027e-05 1.19232145e-05 1.03277569e-04\n",
      "  6.10960349e-02 5.34372637e-04 7.87693821e-03 2.35055792e-04]\n",
      " [3.03536355e-01 9.52966750e-01 3.35611477e-02 2.76259538e-02\n",
      "  5.01037896e-01 5.41369151e-03 1.65705853e-06 2.85960741e-05\n",
      "  5.30430198e-01 1.69382012e-03 2.65695307e-05 2.54649261e-04]\n",
      " [1.67366088e-05 9.28213540e-03 8.26560718e-05 2.95877340e-03\n",
      "  1.96850692e-06 4.81965390e-06 6.13546781e-02 2.85938472e-01\n",
      "  9.39665675e-01 9.30056751e-01 1.61347212e-04 1.16007810e-03]\n",
      " [3.34927230e-03 7.90367927e-03 1.76320082e-05 1.26929209e-01\n",
      "  2.29701996e-04 5.02409674e-02 1.44773058e-03 5.42192196e-04\n",
      "  2.96402890e-02 8.35505128e-03 1.13671204e-05 7.49219162e-03]\n",
      " [7.89733410e-01 7.83643723e-02 3.67812900e-05 6.51038885e-01\n",
      "  2.80202087e-03 3.40270950e-03 1.25899422e-03 8.15394669e-05\n",
      "  6.41997397e-01 1.70199536e-02 1.53982328e-04 8.18424392e-04]\n",
      " [2.20157104e-04 3.84519428e-01 3.35230790e-02 2.53809709e-02\n",
      "  1.28004819e-01 8.59683321e-04 1.75596052e-03 1.16984920e-04\n",
      "  1.72088966e-02 4.84557735e-04 5.55986632e-03 8.42548609e-01]\n",
      " [4.78526689e-02 8.34345818e-04 5.94795938e-06 9.67824280e-01\n",
      "  8.22259608e-06 5.12338057e-02 2.20289617e-03 2.42073773e-04\n",
      "  2.86372267e-02 1.68140826e-03 1.30793369e-05 2.42173110e-06]\n",
      " [9.54433999e-05 4.27189880e-05 3.62706820e-09 9.53785241e-01\n",
      "  2.40226618e-05 1.81754068e-01 1.64111887e-04 9.28533962e-04\n",
      "  7.15539530e-02 6.04283232e-05 1.76176194e-08 2.44926497e-08]\n",
      " [5.23797389e-05 5.42765623e-03 1.47028142e-04 1.67820661e-04\n",
      "  7.22826342e-04 1.61193626e-07 8.65515590e-01 1.49608135e-01\n",
      "  1.50096536e-01 2.71123618e-01 8.69546294e-01 5.71949221e-02]\n",
      " [1.32559255e-01 1.12528447e-02 6.05199195e-04 5.13002910e-02\n",
      "  1.33834127e-03 7.60806739e-01 4.36013145e-03 4.94171798e-01\n",
      "  5.60872972e-01 6.56111091e-02 5.89869487e-05 2.41165771e-03]\n",
      " [3.92714329e-02 6.00379019e-04 5.77744368e-06 9.53920364e-01\n",
      "  1.26451760e-05 4.50477839e-01 1.31669658e-05 1.08175178e-03\n",
      "  2.82497989e-04 2.13919164e-04 1.73633725e-05 5.00970646e-06]\n",
      " [1.60336085e-02 2.94982965e-05 3.32912285e-04 9.92152870e-01\n",
      "  2.26583844e-03 1.76206266e-03 2.75443053e-05 4.52280557e-03\n",
      "  2.62768054e-03 4.75558656e-04 1.15172268e-10 1.13104456e-04]\n",
      " [3.06544030e-06 2.18086857e-02 4.71527310e-05 1.19319044e-01\n",
      "  1.46256400e-06 1.00662257e-03 2.34095869e-03 5.53056998e-06\n",
      "  9.51074238e-04 3.36807198e-03 5.46533335e-03 1.71999633e-02]], shape=(20, 12), dtype=float32)\n"
     ]
    }
   ],
   "source": [
    "for x_batch, y_batch in decoded_test.take(1):\n",
    "    #print(tf.keras.activations.sigmoid(model(x_batch)))\n",
    "    print(model(x_batch))"
   ]
  }
 ],
 "metadata": {
  "kernelspec": {
   "display_name": "Python 3",
   "language": "python",
   "name": "python3"
  },
  "language_info": {
   "codemirror_mode": {
    "name": "ipython",
    "version": 3
   },
   "file_extension": ".py",
   "mimetype": "text/x-python",
   "name": "python",
   "nbconvert_exporter": "python",
   "pygments_lexer": "ipython3",
   "version": "3.8.8"
  }
 },
 "nbformat": 4,
 "nbformat_minor": 5
}
