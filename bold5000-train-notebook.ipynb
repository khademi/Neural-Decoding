{
 "cells": [
  {
   "cell_type": "code",
   "execution_count": 1,
   "id": "77466e95",
   "metadata": {
    "execution": {
     "iopub.execute_input": "2022-01-28T15:43:39.151587Z",
     "iopub.status.busy": "2022-01-28T15:43:39.150920Z",
     "iopub.status.idle": "2022-01-28T15:43:41.564319Z",
     "shell.execute_reply": "2022-01-28T15:43:41.565297Z"
    }
   },
   "outputs": [
    {
     "name": "stderr",
     "output_type": "stream",
     "text": [
      "/localhome/mkhademi/anaconda3/envs/tf/lib/python3.8/site-packages/nilearn/datasets/__init__.py:86: FutureWarning: Fetchers from the nilearn.datasets module will be updated in version 0.9 to return python strings instead of bytes and Pandas dataframes instead of Numpy arrays.\n",
      "  warn(\"Fetchers from the nilearn.datasets module will be \"\n"
     ]
    }
   ],
   "source": [
    "import tensorflow as tf\n",
    "import os\n",
    "import time\n",
    "from tensorflow import keras\n",
    "from tensorflow.keras import layers\n",
    "import tensorflow_datasets as tfds\n",
    "import numpy as np\n",
    "from nilearn import image\n",
    "from nilearn import plotting\n",
    "import nibabel as nib\n",
    "from nilearn.plotting import plot_stat_map, plot_anat, plot_img"
   ]
  },
  {
   "cell_type": "code",
   "execution_count": 2,
   "id": "afbc22e1",
   "metadata": {
    "execution": {
     "iopub.execute_input": "2022-01-28T15:43:42.681563Z",
     "iopub.status.busy": "2022-01-28T15:43:42.680336Z",
     "iopub.status.idle": "2022-01-28T15:43:42.702433Z",
     "shell.execute_reply": "2022-01-28T15:43:42.701401Z"
    }
   },
   "outputs": [],
   "source": [
    "data_dir = '/local-scratch/localhome/mkhademi/BOLD5000_2.0/'\n",
    "batch_size = 20\n",
    "dataset = tf.data.TFRecordDataset(filenames = [data_dir + 'image_data/bold5000_coco.tfrecords']).batch(batch_size)\n",
    "train_ds = dataset.take(1800//batch_size)\n",
    "test_ds = dataset.skip(1800//batch_size)\n",
    "test_ds = test_ds.take(200//batch_size)\n",
    "train_ds = train_ds.shuffle(1800)"
   ]
  },
  {
   "cell_type": "code",
   "execution_count": 3,
   "id": "8fb9e4ab",
   "metadata": {
    "execution": {
     "iopub.execute_input": "2022-01-28T15:43:42.712790Z",
     "iopub.status.busy": "2022-01-28T15:43:42.709745Z",
     "iopub.status.idle": "2022-01-28T15:43:42.800688Z",
     "shell.execute_reply": "2022-01-28T15:43:42.800017Z"
    }
   },
   "outputs": [],
   "source": [
    "def tf_parse(eg):\n",
    "    example = tf.io.parse_example(\n",
    "        eg, {\n",
    "            'x': tf.io.FixedLenFeature(shape=(71, 89, 72, 1), dtype=tf.float32),\n",
    "            'y': tf.io.FixedLenFeature(shape=(1000), dtype=tf.float32),\n",
    "            'y_coco': tf.io.FixedLenFeature(shape=(90), dtype=tf.int64),\n",
    "            'y_imagenet': tf.io.FixedLenFeature(shape=(1000), dtype=tf.int64),\n",
    "            'y_super': tf.io.FixedLenFeature(shape=(12), dtype=tf.int64),\n",
    "            'y_common': tf.io.FixedLenFeature(shape=(90+12), dtype=tf.int64),\n",
    "            'y_face': tf.io.FixedLenFeature(shape=(2), dtype=tf.int64),\n",
    "        })\n",
    "    return example['x'], example['y_face']\n",
    "    \n",
    "decoded = train_ds.map(tf_parse)\n",
    "decoded_test = test_ds.map(tf_parse)"
   ]
  },
  {
   "cell_type": "code",
   "execution_count": 4,
   "id": "74c97c2c",
   "metadata": {
    "execution": {
     "iopub.execute_input": "2022-01-28T15:43:42.805890Z",
     "iopub.status.busy": "2022-01-28T15:43:42.804962Z",
     "iopub.status.idle": "2022-01-28T15:43:46.427698Z",
     "shell.execute_reply": "2022-01-28T15:43:46.428126Z"
    }
   },
   "outputs": [
    {
     "name": "stdout",
     "output_type": "stream",
     "text": [
      "(20, 71, 89, 72, 1)\n",
      "(20, 2)\n",
      "[1 1 1 1 1 1 1 1 1 1 1 1 1 1 1 1 1 1 1 1]\n"
     ]
    }
   ],
   "source": [
    "raw_example = next(iter(test_ds))\n",
    "print(tf_parse(raw_example)[0].numpy().shape)\n",
    "print(tf_parse(raw_example)[1].numpy().shape)\n",
    "print(tf_parse(raw_example)[1].numpy().sum(axis=1))"
   ]
  },
  {
   "cell_type": "code",
   "execution_count": 5,
   "id": "bce647bc",
   "metadata": {
    "execution": {
     "iopub.execute_input": "2022-01-28T15:43:46.431759Z",
     "iopub.status.busy": "2022-01-28T15:43:46.431216Z",
     "iopub.status.idle": "2022-01-28T15:43:48.581055Z",
     "shell.execute_reply": "2022-01-28T15:43:48.582070Z"
    }
   },
   "outputs": [
    {
     "name": "stdout",
     "output_type": "stream",
     "text": [
      "(20, 71, 89, 72, 1) (20, 2)\n"
     ]
    }
   ],
   "source": [
    "for x_batch, y_batch in decoded_test.take(1):\n",
    "    print(x_batch.shape, y_batch.shape)"
   ]
  },
  {
   "cell_type": "code",
   "execution_count": 6,
   "id": "d8547010",
   "metadata": {
    "execution": {
     "iopub.execute_input": "2022-01-28T15:43:48.590660Z",
     "iopub.status.busy": "2022-01-28T15:43:48.589617Z",
     "iopub.status.idle": "2022-01-28T15:43:48.639119Z",
     "shell.execute_reply": "2022-01-28T15:43:48.638193Z"
    }
   },
   "outputs": [
    {
     "name": "stdout",
     "output_type": "stream",
     "text": [
      "Model: \"sequential\"\n",
      "_________________________________________________________________\n",
      "Layer (type)                 Output Shape              Param #   \n",
      "=================================================================\n",
      "conv1 (Conv3D)               (None, 71, 89, 72, 1)     28        \n",
      "_________________________________________________________________\n",
      "conv2 (Conv3D)               (None, 71, 89, 72, 2)     56        \n",
      "_________________________________________________________________\n",
      "max_pooling3d (MaxPooling3D) (None, 35, 44, 36, 2)     0         \n",
      "_________________________________________________________________\n",
      "conv3 (Conv3D)               (None, 35, 44, 36, 4)     220       \n",
      "_________________________________________________________________\n",
      "max_pooling3d_1 (MaxPooling3 (None, 17, 22, 18, 4)     0         \n",
      "_________________________________________________________________\n",
      "flatten (Flatten)            (None, 26928)             0         \n",
      "_________________________________________________________________\n",
      "dropout (Dropout)            (None, 26928)             0         \n",
      "_________________________________________________________________\n",
      "dense (Dense)                (None, 2)                 53858     \n",
      "=================================================================\n",
      "Total params: 54,162\n",
      "Trainable params: 54,162\n",
      "Non-trainable params: 0\n",
      "_________________________________________________________________\n"
     ]
    }
   ],
   "source": [
    "model = tf.keras.Sequential([\n",
    "    tf.keras.Input(shape=(71, 89, 72, 1)),\n",
    "    tf.keras.layers.Conv3D(1, 3, activation='relu', padding='same', name='conv1'),\n",
    "    # tf.keras.layers.MaxPooling3D(pool_size=(2, 2, 2)),\n",
    "    tf.keras.layers.Conv3D(2, 3, activation='relu', padding='same', name='conv2'),\n",
    "    tf.keras.layers.MaxPooling3D(pool_size=(2, 2, 2)),\n",
    "    tf.keras.layers.Conv3D(4, 3, padding='same', name='conv3'),\n",
    "    # tf.keras.layers.Conv3D(2, 3, activation='relu', padding='same', name='conv3'),\n",
    "    tf.keras.layers.MaxPooling3D(pool_size=(2, 2, 2)),\n",
    "    tf.keras.layers.Flatten(),\n",
    "    tf.keras.layers.Dropout(rate=0.5),\n",
    "    # tf.keras.layers.Dense(100, activation='sigmoid'),\n",
    "    tf.keras.layers.Dense(2),\n",
    "    #tf.keras.layers.Softmax()\n",
    "    ])\n",
    "\n",
    "model.summary()"
   ]
  },
  {
   "cell_type": "code",
   "execution_count": 7,
   "id": "2359499b",
   "metadata": {
    "execution": {
     "iopub.execute_input": "2022-01-28T15:43:48.645381Z",
     "iopub.status.busy": "2022-01-28T15:43:48.644221Z",
     "iopub.status.idle": "2022-01-28T15:58:24.326921Z",
     "shell.execute_reply": "2022-01-28T15:58:24.327910Z"
    }
   },
   "outputs": [
    {
     "name": "stdout",
     "output_type": "stream",
     "text": [
      "Epoch 1/60\n",
      "90/90 [==============================] - 17s 133ms/step - loss: 60.0545 - categorical_accuracy: 0.6300\n",
      "Epoch 2/60\n",
      "90/90 [==============================] - 14s 133ms/step - loss: 52.2871 - categorical_accuracy: 0.6261\n",
      "Epoch 3/60\n",
      "90/90 [==============================] - 14s 135ms/step - loss: 41.3345 - categorical_accuracy: 0.6611\n",
      "Epoch 4/60\n",
      "90/90 [==============================] - 15s 135ms/step - loss: 18.7607 - categorical_accuracy: 0.6922\n",
      "Epoch 5/60\n",
      "90/90 [==============================] - 14s 135ms/step - loss: 11.1688 - categorical_accuracy: 0.6961\n",
      "Epoch 6/60\n",
      "90/90 [==============================] - 14s 135ms/step - loss: 12.0497 - categorical_accuracy: 0.7144\n",
      "Epoch 7/60\n",
      "90/90 [==============================] - 15s 138ms/step - loss: 9.4657 - categorical_accuracy: 0.7189\n",
      "Epoch 8/60\n",
      "90/90 [==============================] - 15s 139ms/step - loss: 6.5956 - categorical_accuracy: 0.7256\n",
      "Epoch 9/60\n",
      "90/90 [==============================] - 15s 136ms/step - loss: 6.4119 - categorical_accuracy: 0.7372\n",
      "Epoch 10/60\n",
      "90/90 [==============================] - 15s 137ms/step - loss: 7.4363 - categorical_accuracy: 0.7506\n",
      "Epoch 11/60\n",
      "90/90 [==============================] - 15s 137ms/step - loss: 6.5825 - categorical_accuracy: 0.7617\n",
      "Epoch 12/60\n",
      "90/90 [==============================] - 15s 136ms/step - loss: 4.4421 - categorical_accuracy: 0.7806\n",
      "Epoch 13/60\n",
      "90/90 [==============================] - 15s 137ms/step - loss: 7.8988 - categorical_accuracy: 0.7533\n",
      "Epoch 14/60\n",
      "90/90 [==============================] - 15s 137ms/step - loss: 3.3005 - categorical_accuracy: 0.7539\n",
      "Epoch 15/60\n",
      "90/90 [==============================] - 15s 137ms/step - loss: 2.7192 - categorical_accuracy: 0.7922\n",
      "Epoch 16/60\n",
      "90/90 [==============================] - 15s 137ms/step - loss: 2.3994 - categorical_accuracy: 0.7850\n",
      "Epoch 17/60\n",
      "90/90 [==============================] - 15s 136ms/step - loss: 2.0111 - categorical_accuracy: 0.8011\n",
      "Epoch 18/60\n",
      "90/90 [==============================] - 15s 137ms/step - loss: 2.4569 - categorical_accuracy: 0.7811\n",
      "Epoch 19/60\n",
      "90/90 [==============================] - 15s 136ms/step - loss: 1.5927 - categorical_accuracy: 0.8100\n",
      "Epoch 20/60\n",
      "90/90 [==============================] - 14s 136ms/step - loss: 2.1694 - categorical_accuracy: 0.8133\n",
      "Epoch 21/60\n",
      "90/90 [==============================] - 15s 136ms/step - loss: 2.0673 - categorical_accuracy: 0.8106\n",
      "Epoch 22/60\n",
      "90/90 [==============================] - 15s 136ms/step - loss: 1.5067 - categorical_accuracy: 0.8117\n",
      "Epoch 23/60\n",
      "90/90 [==============================] - 15s 136ms/step - loss: 2.3466 - categorical_accuracy: 0.8094\n",
      "Epoch 24/60\n",
      "90/90 [==============================] - 14s 136ms/step - loss: 1.6388 - categorical_accuracy: 0.8228\n",
      "Epoch 25/60\n",
      "90/90 [==============================] - 14s 135ms/step - loss: 1.4779 - categorical_accuracy: 0.8417\n",
      "Epoch 26/60\n",
      "90/90 [==============================] - 15s 135ms/step - loss: 1.3934 - categorical_accuracy: 0.8306\n",
      "Epoch 27/60\n",
      "90/90 [==============================] - 14s 136ms/step - loss: 1.9613 - categorical_accuracy: 0.8517\n",
      "Epoch 28/60\n",
      "90/90 [==============================] - 14s 135ms/step - loss: 1.1671 - categorical_accuracy: 0.8411\n",
      "Epoch 29/60\n",
      "90/90 [==============================] - 15s 137ms/step - loss: 0.9799 - categorical_accuracy: 0.8467\n",
      "Epoch 30/60\n",
      "90/90 [==============================] - 15s 135ms/step - loss: 0.7000 - categorical_accuracy: 0.8656\n",
      "Epoch 31/60\n",
      "90/90 [==============================] - 14s 135ms/step - loss: 1.1425 - categorical_accuracy: 0.8572\n",
      "Epoch 32/60\n",
      "90/90 [==============================] - 14s 135ms/step - loss: 0.8597 - categorical_accuracy: 0.8567\n",
      "Epoch 33/60\n",
      "90/90 [==============================] - 14s 135ms/step - loss: 0.8488 - categorical_accuracy: 0.8611\n",
      "Epoch 34/60\n",
      "90/90 [==============================] - 14s 135ms/step - loss: 0.7019 - categorical_accuracy: 0.8750\n",
      "Epoch 35/60\n",
      "90/90 [==============================] - 15s 135ms/step - loss: 1.0329 - categorical_accuracy: 0.8717\n",
      "Epoch 36/60\n",
      "90/90 [==============================] - 14s 135ms/step - loss: 0.5605 - categorical_accuracy: 0.8750\n",
      "Epoch 37/60\n",
      "90/90 [==============================] - 14s 135ms/step - loss: 0.6267 - categorical_accuracy: 0.8844\n",
      "Epoch 38/60\n",
      "90/90 [==============================] - 14s 135ms/step - loss: 0.7066 - categorical_accuracy: 0.8983\n",
      "Epoch 39/60\n",
      "90/90 [==============================] - 14s 135ms/step - loss: 0.4631 - categorical_accuracy: 0.8978\n",
      "Epoch 40/60\n",
      "90/90 [==============================] - 15s 135ms/step - loss: 1.0125 - categorical_accuracy: 0.8861\n",
      "Epoch 41/60\n",
      "90/90 [==============================] - 14s 135ms/step - loss: 0.8706 - categorical_accuracy: 0.8606\n",
      "Epoch 42/60\n",
      "90/90 [==============================] - 14s 135ms/step - loss: 0.6784 - categorical_accuracy: 0.9028\n",
      "Epoch 43/60\n",
      "90/90 [==============================] - 14s 136ms/step - loss: 0.6985 - categorical_accuracy: 0.8950\n",
      "Epoch 44/60\n",
      "90/90 [==============================] - 15s 135ms/step - loss: 0.5282 - categorical_accuracy: 0.8961\n",
      "Epoch 45/60\n",
      "90/90 [==============================] - 14s 135ms/step - loss: 0.5920 - categorical_accuracy: 0.8983\n",
      "Epoch 46/60\n",
      "90/90 [==============================] - 15s 135ms/step - loss: 0.3320 - categorical_accuracy: 0.9228\n",
      "Epoch 47/60\n",
      "90/90 [==============================] - 14s 135ms/step - loss: 0.3354 - categorical_accuracy: 0.9144\n",
      "Epoch 48/60\n",
      "90/90 [==============================] - 14s 135ms/step - loss: 0.5372 - categorical_accuracy: 0.8967\n",
      "Epoch 49/60\n",
      "90/90 [==============================] - 14s 135ms/step - loss: 0.4052 - categorical_accuracy: 0.9061\n",
      "Epoch 50/60\n",
      "90/90 [==============================] - 14s 135ms/step - loss: 0.3767 - categorical_accuracy: 0.9106\n",
      "Epoch 51/60\n",
      "90/90 [==============================] - 15s 135ms/step - loss: 0.2629 - categorical_accuracy: 0.9150\n",
      "Epoch 52/60\n",
      "90/90 [==============================] - 14s 135ms/step - loss: 0.2164 - categorical_accuracy: 0.9339\n",
      "Epoch 53/60\n",
      "90/90 [==============================] - 15s 135ms/step - loss: 0.2973 - categorical_accuracy: 0.9222\n",
      "Epoch 54/60\n",
      "90/90 [==============================] - 14s 135ms/step - loss: 0.4902 - categorical_accuracy: 0.9189\n",
      "Epoch 55/60\n",
      "90/90 [==============================] - 15s 135ms/step - loss: 0.2853 - categorical_accuracy: 0.9294\n",
      "Epoch 56/60\n",
      "90/90 [==============================] - 14s 135ms/step - loss: 0.4813 - categorical_accuracy: 0.9172\n",
      "Epoch 57/60\n",
      "90/90 [==============================] - 14s 135ms/step - loss: 0.4138 - categorical_accuracy: 0.9111\n",
      "Epoch 58/60\n",
      "90/90 [==============================] - 14s 135ms/step - loss: 0.3069 - categorical_accuracy: 0.9150\n",
      "Epoch 59/60\n",
      "90/90 [==============================] - 15s 135ms/step - loss: 0.2646 - categorical_accuracy: 0.9361\n",
      "Epoch 60/60\n",
      "90/90 [==============================] - 14s 135ms/step - loss: 0.3684 - categorical_accuracy: 0.9339\n"
     ]
    },
    {
     "data": {
      "text/plain": [
       "<keras.callbacks.History at 0x7f46a83fb250>"
      ]
     },
     "execution_count": 1,
     "metadata": {},
     "output_type": "execute_result"
    }
   ],
   "source": [
    "model.compile(\n",
    "    # loss='mse',\n",
    "    loss = tf.keras.losses.CategoricalCrossentropy(from_logits=True),\n",
    "    # loss = tf.keras.losses.BinaryCrossentropy(from_logits=False),\n",
    "    # optimizer=keras.optimizers.RMSprop(),\n",
    "    optimizer='adam',\n",
    "    # metrics=[tf.keras.metrics.MeanSquaredError()],\n",
    "    \n",
    "    metrics=[tf.keras.metrics.CategoricalAccuracy()]\n",
    ")\n",
    "model.fit(decoded, epochs=60)"
   ]
  },
  {
   "cell_type": "code",
   "execution_count": 8,
   "id": "61d10c3e",
   "metadata": {
    "execution": {
     "iopub.execute_input": "2022-01-28T15:58:24.334591Z",
     "iopub.status.busy": "2022-01-28T15:58:24.333367Z",
     "iopub.status.idle": "2022-01-28T15:58:27.207930Z",
     "shell.execute_reply": "2022-01-28T15:58:27.207009Z"
    }
   },
   "outputs": [],
   "source": [
    "img4d = image.load_img(data_dir + 'CSI1_GLMbetas-TYPED-FITHRF-GLMDENOISE-RR_ses-01.nii.gz');\n",
    "selected_volumes = image.index_img(img4d, slice(200, 201))\n",
    "imgs = [img for img in image.iter_img(selected_volumes)]\n",
    "img = imgs[0]\n",
    "mask = np.zeros(img.shape) * image.get_data(img)\n",
    "# plot_stat_map(img, threshold='auto', display_mode=\"z\", cut_coords=4, bg_img=None)"
   ]
  },
  {
   "cell_type": "code",
   "execution_count": 9,
   "id": "4a3403e8",
   "metadata": {
    "execution": {
     "iopub.execute_input": "2022-01-28T15:58:27.216562Z",
     "iopub.status.busy": "2022-01-28T15:58:27.215432Z",
     "iopub.status.idle": "2022-01-28T15:58:30.407867Z",
     "shell.execute_reply": "2022-01-28T15:58:30.408812Z"
    }
   },
   "outputs": [
    {
     "name": "stdout",
     "output_type": "stream",
     "text": [
      "(20,)\n",
      "(20, 71, 89, 72, 1)\n",
      "-13.55785\n",
      "(20,)\n",
      "(20, 71, 89, 72, 1)\n",
      "23.153414\n",
      "WARNING:tensorflow:Using a while_loop for converting Conv3DBackpropInputV2\n",
      "WARNING:tensorflow:Using a while_loop for converting Conv3DBackpropInputV2\n",
      "WARNING:tensorflow:Using a while_loop for converting Conv3DBackpropInputV2\n",
      "(20, 2, 71, 89, 72, 1)\n",
      "-13.557856\n",
      "23.153416\n"
     ]
    }
   ],
   "source": [
    "for x_batch, y_batch in decoded_test.take(1):\n",
    "    pass\n",
    "x_var = tf.Variable(x_batch, dtype=tf.float32)\n",
    "\n",
    "with tf.GradientTape() as tape0:\n",
    "    preds0 = model(x_var)[:,0]\n",
    "print(preds0.shape)\n",
    "grads0 = tape0.gradient(preds0, x_var)\n",
    "print(grads0.numpy().shape)\n",
    "print(grads0.numpy().sum())\n",
    "\n",
    "with tf.GradientTape() as tape1:\n",
    "    preds1 = model(x_var)[:,1]\n",
    "print(preds1.shape)\n",
    "grads1 = tape1.gradient(preds1, x_var)\n",
    "print(grads1.numpy().shape)\n",
    "print(grads1.numpy().sum())\n",
    "\n",
    "with tf.GradientTape() as tape:\n",
    "    preds = model(x_var)\n",
    "batch_jacobian = tape.batch_jacobian(preds, x_var)\n",
    "print(batch_jacobian.numpy().shape)\n",
    "print(batch_jacobian.numpy()[:,0,:,:,:,:].sum())\n",
    "print(batch_jacobian.numpy()[:,1,:,:,:,:].sum())\n",
    "\n",
    "@tf.function\n",
    "def f(x_batch):\n",
    "    with tf.GradientTape(persistent=True) as tape:\n",
    "            tape.watch(x_batch)\n",
    "            preds = model(x_batch)\n",
    "    batch_jacobian = tape.batch_jacobian(preds, x_batch)\n",
    "    return batch_jacobian"
   ]
  },
  {
   "cell_type": "code",
   "execution_count": 10,
   "id": "a7a1d1c6",
   "metadata": {
    "execution": {
     "iopub.execute_input": "2022-01-28T15:58:30.414330Z",
     "iopub.status.busy": "2022-01-28T15:58:30.413169Z",
     "iopub.status.idle": "2022-01-28T15:58:31.900488Z",
     "shell.execute_reply": "2022-01-28T15:58:31.901396Z"
    }
   },
   "outputs": [
    {
     "name": "stderr",
     "output_type": "stream",
     "text": [
      "/localhome/mkhademi/anaconda3/envs/tf/lib/python3.8/site-packages/nilearn/_utils/niimg.py:61: UserWarning: Non-finite values detected. These values will be replaced with zeros.\n",
      "  warn(\n"
     ]
    },
    {
     "data": {
      "text/plain": [
       "<nilearn.plotting.displays.ZSlicer at 0x7f46a0680130>"
      ]
     },
     "execution_count": 1,
     "metadata": {},
     "output_type": "execute_result"
    },
    {
     "data": {
      "image/png": "[encoded data removed]",
      "text/plain": [
       "<Figure size 684x165.6 with 6 Axes>"
      ]
     },
     "metadata": {},
     "output_type": "display_data"
    }
   ],
   "source": [
    "brain_mask = image.load_img(data_dir + 'CSI1_brainmask.nii.gz');\n",
    "plot_stat_map(img, threshold='auto', display_mode=\"z\", cut_coords=4, bg_img=brain_mask)"
   ]
  },
  {
   "cell_type": "code",
   "execution_count": 11,
   "id": "18e130b0",
   "metadata": {
    "execution": {
     "iopub.execute_input": "2022-01-28T15:58:31.906518Z",
     "iopub.status.busy": "2022-01-28T15:58:31.905425Z",
     "iopub.status.idle": "2022-01-28T15:58:33.281243Z",
     "shell.execute_reply": "2022-01-28T15:58:33.282146Z"
    }
   },
   "outputs": [
    {
     "data": {
      "text/plain": [
       "<nilearn.plotting.displays.OrthoSlicer at 0x7f46a02c5c70>"
      ]
     },
     "execution_count": 1,
     "metadata": {},
     "output_type": "execute_result"
    },
    {
     "data": {
      "image/png": "[encoded data removed]",
      "text/plain": [
       "<Figure size 475.2x187.2 with 4 Axes>"
      ]
     },
     "metadata": {},
     "output_type": "display_data"
    },
    {
     "data": {
      "image/png": "[encoded data removed]",
      "text/plain": [
       "<Figure size 475.2x187.2 with 4 Axes>"
      ]
     },
     "metadata": {},
     "output_type": "display_data"
    }
   ],
   "source": [
    "anat = data_dir + 'CSI1_brainmask.nii.gz'  \n",
    "plot_anat(anat, title='original', display_mode='ortho', dim=-1, draw_cross=False, annotate=False)\n",
    "plot_img(anat)"
   ]
  },
  {
   "cell_type": "code",
   "execution_count": 12,
   "id": "f101b0e0",
   "metadata": {
    "execution": {
     "iopub.execute_input": "2022-01-28T15:58:33.287361Z",
     "iopub.status.busy": "2022-01-28T15:58:33.286235Z",
     "iopub.status.idle": "2022-01-28T15:58:33.290260Z",
     "shell.execute_reply": "2022-01-28T15:58:33.291158Z"
    }
   },
   "outputs": [
    {
     "name": "stdout",
     "output_type": "stream",
     "text": [
      "Datasets are stored in: ['/localhome/mkhademi/nilearn_data']\n"
     ]
    }
   ],
   "source": [
    "from nilearn import datasets\n",
    "print('Datasets are stored in: %r' % datasets.get_data_dirs())\n",
    "motor_images = datasets.fetch_neurovault_motor_task()\n",
    "motor_images.images\n",
    "tmap_filename = motor_images.images[0]\n",
    "# plot_stat_map(tmap_filename)\n",
    "# plot_stat_map(tmap_filename, threshold=3)"
   ]
  },
  {
   "cell_type": "code",
   "execution_count": 13,
   "id": "3240dc09",
   "metadata": {
    "execution": {
     "iopub.execute_input": "2022-01-28T15:58:33.294587Z",
     "iopub.status.busy": "2022-01-28T15:58:33.294126Z",
     "iopub.status.idle": "2022-01-28T15:58:33.297188Z",
     "shell.execute_reply": "2022-01-28T15:58:33.297527Z"
    }
   },
   "outputs": [
    {
     "name": "stdout",
     "output_type": "stream",
     "text": [
      "9611.976\n",
      "-12267.824\n"
     ]
    }
   ],
   "source": [
    "img_data = np.array(img.dataobj)\n",
    "print(np.max(img_data))\n",
    "print(np.min(img_data))"
   ]
  },
  {
   "cell_type": "code",
   "execution_count": 14,
   "id": "5548f26f",
   "metadata": {
    "execution": {
     "iopub.execute_input": "2022-01-28T15:58:33.304566Z",
     "iopub.status.busy": "2022-01-28T15:58:33.304114Z",
     "iopub.status.idle": "2022-01-28T15:58:52.760943Z",
     "shell.execute_reply": "2022-01-28T15:58:52.761833Z"
    }
   },
   "outputs": [
    {
     "name": "stdout",
     "output_type": "stream",
     "text": [
      "(None, 71, 89, 72, 2)\n",
      "470\n",
      "1330\n",
      "301.87857218955423\n",
      "0.0\n"
     ]
    }
   ],
   "source": [
    "vis_output = model.get_layer('conv2').output\n",
    "print(vis_output.shape)\n",
    "vis_model = tf.keras.models.Model(inputs=model.input, outputs=vis_output)\n",
    "vis_face = np.zeros(vis_output.shape[1:4])\n",
    "vis_noface = np.zeros(vis_output.shape[1:4])\n",
    "count_face = 0\n",
    "count_noface = 0\n",
    "for x_batch, y_batch in decoded:\n",
    "    output = vis_model.predict(x_batch)\n",
    "    for i in range(y_batch.shape[0]):\n",
    "        if y_batch[i][0] == 1:\n",
    "            vis_face += output[i][:,:,:,0] \n",
    "            count_face += 1\n",
    "        else:\n",
    "            vis_noface += output[i][:,:,:,0]\n",
    "            count_noface += 1\n",
    "                      \n",
    "print(count_face)\n",
    "print(count_noface)\n",
    "vis_face = vis_face/count_face \n",
    "vis_noface = vis_noface/count_noface \n",
    "# print(vis_face) \n",
    "print(np.max(vis_face))\n",
    "print(np.min(vis_face))"
   ]
  },
  {
   "cell_type": "code",
   "execution_count": 15,
   "id": "057dceb2",
   "metadata": {
    "execution": {
     "iopub.execute_input": "2022-01-28T15:58:52.768242Z",
     "iopub.status.busy": "2022-01-28T15:58:52.767528Z",
     "iopub.status.idle": "2022-01-28T15:58:56.860162Z",
     "shell.execute_reply": "2022-01-28T15:58:56.861092Z"
    }
   },
   "outputs": [
    {
     "data": {
      "text/plain": [
       "<nilearn.plotting.displays.ZSlicer at 0x7f46400d3460>"
      ]
     },
     "execution_count": 1,
     "metadata": {},
     "output_type": "execute_result"
    },
    {
     "data": {
      "image/png": "[encoded data removed]",
      "text/plain": [
       "<Figure size 684x165.6 with 6 Axes>"
      ]
     },
     "metadata": {},
     "output_type": "display_data"
    },
    {
     "data": {
      "image/png": "[encoded data removed]",
      "text/plain": [
       "<Figure size 684x165.6 with 6 Axes>"
      ]
     },
     "metadata": {},
     "output_type": "display_data"
    },
    {
     "data": {
      "image/png": "[encoded data removed]",
      "text/plain": [
       "<Figure size 684x165.6 with 6 Axes>"
      ]
     },
     "metadata": {},
     "output_type": "display_data"
    }
   ],
   "source": [
    "vis_face += mask\n",
    "vis_noface += mask\n",
    "\n",
    "nifti_file = nib.nifti1.Nifti1Image(dataobj=vis_face, affine=img.affine, header=img.header, extra=None, file_map=None)\n",
    "plot_stat_map(nifti_file, threshold=0, display_mode=\"z\", cut_coords=4, bg_img=None)\n",
    "\n",
    "plot_stat_map(nifti_file, threshold='auto', display_mode=\"z\", cut_coords=4, bg_img=brain_mask)\n",
    "plot_stat_map(nifti_file, threshold=0, display_mode=\"z\", cut_coords=4, bg_img=brain_mask)"
   ]
  },
  {
   "cell_type": "code",
   "execution_count": 16,
   "id": "418c6e1a",
   "metadata": {
    "execution": {
     "iopub.execute_input": "2022-01-28T15:58:56.867858Z",
     "iopub.status.busy": "2022-01-28T15:58:56.866733Z",
     "iopub.status.idle": "2022-01-28T15:59:51.301177Z",
     "shell.execute_reply": "2022-01-28T15:59:51.302043Z"
    }
   },
   "outputs": [
    {
     "name": "stdout",
     "output_type": "stream",
     "text": [
      "WARNING:tensorflow:Using a while_loop for converting Conv3DBackpropInputV2\n",
      "WARNING:tensorflow:Using a while_loop for converting Conv3DBackpropInputV2\n",
      "WARNING:tensorflow:Using a while_loop for converting Conv3DBackpropInputV2\n",
      "470\n",
      "1330\n",
      "0.007218004135892384\n",
      "0.0\n"
     ]
    }
   ],
   "source": [
    "vis_face = np.zeros(x_batch.shape[1:4])\n",
    "vis_noface = np.zeros(x_batch.shape[1:4])\n",
    "count_face = 0\n",
    "count_noface = 0\n",
    "for x_batch, y_batch in decoded:\n",
    "    batch_jacobian = f(x_batch) # (20, 2, 71, 89, 72, 1)\n",
    "    for i in range(y_batch.shape[0]):\n",
    "        if y_batch[i][0] == 1:\n",
    "            vis_face += np.absolute(batch_jacobian.numpy()[i,0,:,:,:,0]) \n",
    "            count_face += 1\n",
    "        else:\n",
    "            vis_noface += np.absolute(batch_jacobian.numpy()[i,1,:,:,:,0])\n",
    "            count_noface += 1\n",
    "print(count_face)\n",
    "print(count_noface)\n",
    "vis_face = vis_face/count_face \n",
    "vis_noface = vis_noface/count_noface \n",
    "# print(vis_face) \n",
    "print(np.max(vis_face))\n",
    "print(np.min(vis_face))"
   ]
  },
  {
   "cell_type": "code",
   "execution_count": 17,
   "id": "c13c5588",
   "metadata": {
    "execution": {
     "iopub.execute_input": "2022-01-28T15:59:51.307851Z",
     "iopub.status.busy": "2022-01-28T15:59:51.306789Z",
     "iopub.status.idle": "2022-01-28T15:59:55.554900Z",
     "shell.execute_reply": "2022-01-28T15:59:55.555814Z"
    }
   },
   "outputs": [
    {
     "data": {
      "text/plain": [
       "<nilearn.plotting.displays.ZSlicer at 0x7f4640147400>"
      ]
     },
     "execution_count": 1,
     "metadata": {},
     "output_type": "execute_result"
    },
    {
     "data": {
      "image/png": "[encoded data removed]",
      "text/plain": [
       "<Figure size 684x165.6 with 6 Axes>"
      ]
     },
     "metadata": {},
     "output_type": "display_data"
    },
    {
     "data": {
      "image/png": "[encoded data removed]",
      "text/plain": [
       "<Figure size 684x165.6 with 6 Axes>"
      ]
     },
     "metadata": {},
     "output_type": "display_data"
    },
    {
     "data": {
      "image/png": "[encoded data removed]",
      "text/plain": [
       "<Figure size 684x165.6 with 6 Axes>"
      ]
     },
     "metadata": {},
     "output_type": "display_data"
    }
   ],
   "source": [
    "vis_face += mask\n",
    "vis_noface += mask\n",
    "\n",
    "nifti_file = nib.nifti1.Nifti1Image(dataobj=vis_face, affine=img.affine, header=img.header, extra=None, file_map=None)\n",
    "plot_stat_map(nifti_file, threshold=0, display_mode=\"z\", cut_coords=4, bg_img=None)\n",
    "\n",
    "plot_stat_map(nifti_file, threshold='auto', display_mode=\"z\", cut_coords=4, bg_img=brain_mask)\n",
    "plot_stat_map(nifti_file, threshold=0, display_mode=\"z\", cut_coords=4, bg_img=brain_mask)"
   ]
  },
  {
   "cell_type": "code",
   "execution_count": 18,
   "id": "76ce5b93",
   "metadata": {
    "execution": {
     "iopub.execute_input": "2022-01-28T15:59:55.560629Z",
     "iopub.status.busy": "2022-01-28T15:59:55.559722Z",
     "iopub.status.idle": "2022-01-28T15:59:59.752761Z",
     "shell.execute_reply": "2022-01-28T15:59:59.751837Z"
    }
   },
   "outputs": [
    {
     "name": "stdout",
     "output_type": "stream",
     "text": [
      "10/10 [==============================] - 4s 49ms/step - loss: 0.7950 - categorical_accuracy: 0.7650\n"
     ]
    },
    {
     "data": {
      "text/plain": [
       "[0.7949874997138977, 0.7649999856948853]"
      ]
     },
     "execution_count": 1,
     "metadata": {},
     "output_type": "execute_result"
    }
   ],
   "source": [
    "model.evaluate(decoded_test)"
   ]
  },
  {
   "cell_type": "code",
   "execution_count": 19,
   "id": "6cf02705",
   "metadata": {
    "execution": {
     "iopub.execute_input": "2022-01-28T15:59:59.764210Z",
     "iopub.status.busy": "2022-01-28T15:59:59.760154Z",
     "iopub.status.idle": "2022-01-28T16:00:07.651039Z",
     "shell.execute_reply": "2022-01-28T16:00:07.650045Z"
    }
   },
   "outputs": [
    {
     "name": "stdout",
     "output_type": "stream",
     "text": [
      "Recall: 0.765\n",
      "AUC: 0.8175125\n",
      "50\n",
      "150\n"
     ]
    }
   ],
   "source": [
    "model.add(tf.keras.layers.Softmax())\n",
    "m_recall = tf.keras.metrics.Recall()\n",
    "m_auc = tf.keras.metrics.AUC()\n",
    "for x_batch, y_batch in decoded_test:\n",
    "    yhat = model(x_batch)\n",
    "    m_recall.update_state(y_batch, yhat)\n",
    "    m_auc.update_state(y_batch, yhat)\n",
    "print(\"Recall:\", m_recall.result().numpy())\n",
    "print(\"AUC:\", m_auc.result().numpy())\n",
    "\n",
    "pos = 0\n",
    "neg = 0\n",
    "for x_batch, y_batch in decoded_test:\n",
    "    for i in range(y_batch.shape[0]):\n",
    "        if y_batch[i][0] == 1:\n",
    "            pos += 1\n",
    "        else:\n",
    "            neg += 1\n",
    "print(pos)\n",
    "print(neg)"
   ]
  },
  {
   "cell_type": "code",
   "execution_count": 20,
   "id": "bfac74a5",
   "metadata": {
    "execution": {
     "iopub.execute_input": "2022-01-28T16:00:07.660040Z",
     "iopub.status.busy": "2022-01-28T16:00:07.659288Z",
     "iopub.status.idle": "2022-01-28T16:00:07.667833Z",
     "shell.execute_reply": "2022-01-28T16:00:07.668428Z"
    }
   },
   "outputs": [],
   "source": [
    "batch_size = 20\n",
    "dataset = tf.data.TFRecordDataset(filenames = [data_dir + 'image_data/bold5000_common.tfrecords']).batch(batch_size)\n",
    "train_ds = dataset.take((2135+400)//batch_size)\n",
    "test_ds = dataset.skip((2135+400)//batch_size)\n",
    "test_ds = test_ds.take(329//batch_size)\n",
    "train_ds = train_ds.shuffle(2135+400)"
   ]
  },
  {
   "cell_type": "code",
   "execution_count": 21,
   "id": "fcc9d6fd",
   "metadata": {
    "execution": {
     "iopub.execute_input": "2022-01-28T16:00:07.677065Z",
     "iopub.status.busy": "2022-01-28T16:00:07.674503Z",
     "iopub.status.idle": "2022-01-28T16:00:07.756383Z",
     "shell.execute_reply": "2022-01-28T16:00:07.757280Z"
    }
   },
   "outputs": [],
   "source": [
    "def tf_parse(eg):\n",
    "    example = tf.io.parse_example(\n",
    "        eg, {\n",
    "            'x': tf.io.FixedLenFeature(shape=(71, 89, 72, 1), dtype=tf.float32),\n",
    "            'y': tf.io.FixedLenFeature(shape=(1000), dtype=tf.float32),\n",
    "            'y_coco': tf.io.FixedLenFeature(shape=(90), dtype=tf.int64),\n",
    "            'y_imagenet': tf.io.FixedLenFeature(shape=(1000), dtype=tf.int64),\n",
    "            'y_super': tf.io.FixedLenFeature(shape=(12), dtype=tf.int64),\n",
    "            'y_common': tf.io.FixedLenFeature(shape=(90+12), dtype=tf.int64),\n",
    "            'y_face': tf.io.FixedLenFeature(shape=(2), dtype=tf.int64),\n",
    "        })\n",
    "    return example['x'], example['y_super']\n",
    "    \n",
    "decoded = train_ds.map(tf_parse)\n",
    "decoded_test = test_ds.map(tf_parse)"
   ]
  },
  {
   "cell_type": "code",
   "execution_count": 22,
   "id": "a4a8b5e8",
   "metadata": {
    "execution": {
     "iopub.execute_input": "2022-01-28T16:00:07.762904Z",
     "iopub.status.busy": "2022-01-28T16:00:07.761793Z",
     "iopub.status.idle": "2022-01-28T16:00:12.591256Z",
     "shell.execute_reply": "2022-01-28T16:00:12.591733Z"
    }
   },
   "outputs": [
    {
     "name": "stdout",
     "output_type": "stream",
     "text": [
      "(20, 71, 89, 72, 1)\n",
      "(20, 12)\n",
      "[1 1 3 1 1 1 1 1 1 1 1 1 1 1 1 1 3 1 1 1]\n"
     ]
    }
   ],
   "source": [
    "raw_example = next(iter(test_ds))\n",
    "print(tf_parse(raw_example)[0].numpy().shape)\n",
    "print(tf_parse(raw_example)[1].numpy().shape)\n",
    "print(tf_parse(raw_example)[1].numpy().sum(axis=1))"
   ]
  },
  {
   "cell_type": "code",
   "execution_count": 23,
   "id": "48d87618",
   "metadata": {
    "execution": {
     "iopub.execute_input": "2022-01-28T16:00:12.595571Z",
     "iopub.status.busy": "2022-01-28T16:00:12.594969Z",
     "iopub.status.idle": "2022-01-28T16:00:17.775569Z",
     "shell.execute_reply": "2022-01-28T16:00:17.775050Z"
    }
   },
   "outputs": [
    {
     "name": "stdout",
     "output_type": "stream",
     "text": [
      "(20, 71, 89, 72, 1)\n"
     ]
    }
   ],
   "source": [
    "for x_batch, y_batch in decoded_test.take(1):\n",
    "    print(x_batch.shape)"
   ]
  },
  {
   "cell_type": "code",
   "execution_count": 24,
   "id": "f976896c",
   "metadata": {
    "execution": {
     "iopub.execute_input": "2022-01-28T16:00:17.790159Z",
     "iopub.status.busy": "2022-01-28T16:00:17.789439Z",
     "iopub.status.idle": "2022-01-28T16:00:17.826097Z",
     "shell.execute_reply": "2022-01-28T16:00:17.825311Z"
    }
   },
   "outputs": [
    {
     "name": "stdout",
     "output_type": "stream",
     "text": [
      "Model: \"sequential_1\"\n",
      "_________________________________________________________________\n",
      "Layer (type)                 Output Shape              Param #   \n",
      "=================================================================\n",
      "conv1 (Conv3D)               (None, 71, 89, 72, 1)     28        \n",
      "_________________________________________________________________\n",
      "conv2 (Conv3D)               (None, 71, 89, 72, 2)     56        \n",
      "_________________________________________________________________\n",
      "max_pooling3d_2 (MaxPooling3 (None, 35, 44, 36, 2)     0         \n",
      "_________________________________________________________________\n",
      "conv3 (Conv3D)               (None, 35, 44, 36, 4)     220       \n",
      "_________________________________________________________________\n",
      "max_pooling3d_3 (MaxPooling3 (None, 17, 22, 18, 4)     0         \n",
      "_________________________________________________________________\n",
      "flatten_1 (Flatten)          (None, 26928)             0         \n",
      "_________________________________________________________________\n",
      "dropout_1 (Dropout)          (None, 26928)             0         \n",
      "_________________________________________________________________\n",
      "dense_1 (Dense)              (None, 12)                323148    \n",
      "=================================================================\n",
      "Total params: 323,452\n",
      "Trainable params: 323,452\n",
      "Non-trainable params: 0\n",
      "_________________________________________________________________\n"
     ]
    }
   ],
   "source": [
    "model = tf.keras.Sequential([\n",
    "    tf.keras.Input(shape=(71, 89, 72, 1)),\n",
    "    tf.keras.layers.Conv3D(1, 3, activation='relu', padding='same', name='conv1'),\n",
    "    # tf.keras.layers.MaxPooling3D(pool_size=(2, 2, 2)),\n",
    "    tf.keras.layers.Conv3D(2, 3, padding='same', name='conv2'),\n",
    "    tf.keras.layers.MaxPooling3D(pool_size=(2, 2, 2)),\n",
    "    tf.keras.layers.Conv3D(4, 3, padding='same', name='conv3'),\n",
    "    # tf.keras.layers.Conv3D(2, 3, activation='relu', padding='same', name='conv3'),\n",
    "    tf.keras.layers.MaxPooling3D(pool_size=(2, 2, 2)),\n",
    "    tf.keras.layers.Flatten(),\n",
    "    tf.keras.layers.Dropout(rate=0.5),\n",
    "    tf.keras.layers.Dense(12, activation='sigmoid'),\n",
    "    # tf.keras.layers.Softmax()\n",
    "    ])\n",
    " \n",
    "model.summary()"
   ]
  },
  {
   "cell_type": "code",
   "execution_count": 25,
   "id": "d07385a3",
   "metadata": {
    "execution": {
     "iopub.execute_input": "2022-01-28T16:00:17.834212Z",
     "iopub.status.busy": "2022-01-28T16:00:17.831384Z",
     "iopub.status.idle": "2022-01-28T16:00:17.839651Z",
     "shell.execute_reply": "2022-01-28T16:00:17.839098Z"
    }
   },
   "outputs": [],
   "source": [
    "model.compile(\n",
    "    # loss='mse',\n",
    "    # loss = tf.keras.losses.CategoricalCrossentropy(from_logits=True),\n",
    "    loss = tf.keras.losses.BinaryCrossentropy(from_logits=False),\n",
    "    # optimizer=keras.optimizers.RMSprop(),\n",
    "    optimizer='adam',\n",
    "    # metrics=[tf.keras.metrics.MeanSquaredError()],\n",
    "    # metrics=[tf.keras.metrics.CategoricalAccuracy()],\n",
    "    metrics=[tf.keras.metrics.BinaryAccuracy()]\n",
    ")\n",
    "#model.fit(decoded, epochs=60)"
   ]
  },
  {
   "cell_type": "code",
   "execution_count": 26,
   "id": "2f24d498",
   "metadata": {
    "execution": {
     "iopub.execute_input": "2022-01-28T16:00:17.844429Z",
     "iopub.status.busy": "2022-01-28T16:00:17.843318Z",
     "iopub.status.idle": "2022-01-28T16:00:21.356088Z",
     "shell.execute_reply": "2022-01-28T16:00:21.355180Z"
    }
   },
   "outputs": [
    {
     "name": "stdout",
     "output_type": "stream",
     "text": [
      "16/16 [==============================] - 4s 47ms/step - loss: 13.4523 - binary_accuracy: 0.4589\n"
     ]
    }
   ],
   "source": [
    "loss, accuracy = model.evaluate(decoded_test)"
   ]
  },
  {
   "cell_type": "code",
   "execution_count": 27,
   "id": "36eff002",
   "metadata": {
    "execution": {
     "iopub.execute_input": "2022-01-28T16:00:21.363771Z",
     "iopub.status.busy": "2022-01-28T16:00:21.362703Z",
     "iopub.status.idle": "2022-01-28T16:00:26.592258Z",
     "shell.execute_reply": "2022-01-28T16:00:26.591330Z"
    }
   },
   "outputs": [
    {
     "name": "stdout",
     "output_type": "stream",
     "text": [
      "tf.Tensor(\n",
      "[[5.75550896e-09 4.01439916e-17 9.99022603e-01 9.32953829e-21\n",
      "  9.87631977e-01 9.76930737e-01 5.07380610e-05 1.00000000e+00\n",
      "  8.98910224e-01 1.00000000e+00 9.99976516e-01 9.99998212e-01]\n",
      " [2.58072278e-17 5.10192294e-05 1.00000000e+00 4.44259562e-09\n",
      "  3.14487010e-01 3.90404018e-13 1.00000000e+00 1.13735186e-05\n",
      "  1.00000000e+00 1.00000000e+00 9.99972224e-01 2.07934365e-01]\n",
      " [9.63106474e-26 1.22624556e-06 9.99760687e-01 1.70880331e-15\n",
      "  9.60886665e-03 3.84595508e-17 3.51614737e-08 9.99597847e-01\n",
      "  2.46142008e-04 1.00000000e+00 1.00000000e+00 7.29069650e-01]\n",
      " [1.20237332e-19 1.44174468e-04 9.99999404e-01 5.26858800e-11\n",
      "  4.93123941e-03 2.18005127e-07 1.58416631e-11 1.00000000e+00\n",
      "  2.29008194e-07 1.00000000e+00 1.00000000e+00 1.00000000e+00]\n",
      " [2.52139525e-11 2.08774491e-05 1.00000000e+00 9.17179696e-03\n",
      "  1.00000000e+00 2.71865865e-20 1.62718609e-01 1.00000000e+00\n",
      "  9.98948634e-01 1.00000000e+00 9.99999642e-01 1.00000000e+00]\n",
      " [0.00000000e+00 1.08967178e-15 1.00000000e+00 1.17439676e-16\n",
      "  1.00000000e+00 6.34026598e-36 1.46195423e-19 1.00000000e+00\n",
      "  9.99998450e-01 1.00000000e+00 1.00000000e+00 1.38519338e-08]\n",
      " [3.35447938e-15 1.74080576e-11 9.99026895e-01 4.01429196e-17\n",
      "  1.00000000e+00 3.36523032e-09 3.03760461e-10 1.00000000e+00\n",
      "  9.99999881e-01 9.99999642e-01 1.00000000e+00 1.00000000e+00]\n",
      " [5.99495323e-12 3.02474096e-25 1.00000000e+00 4.06372780e-03\n",
      "  1.00000000e+00 5.66911269e-27 2.17864035e-24 1.53133006e-10\n",
      "  1.00000000e+00 1.00000000e+00 9.99999881e-01 7.03615985e-20]\n",
      " [2.20305163e-17 3.62107647e-03 1.00000000e+00 1.75473192e-09\n",
      "  1.00000000e+00 1.66156865e-24 1.50355856e-12 1.00000000e+00\n",
      "  5.41856661e-02 1.00000000e+00 9.85601366e-01 9.99951243e-01]\n",
      " [5.35935131e-33 1.68521677e-08 1.00000000e+00 4.60453649e-08\n",
      "  1.00000000e+00 3.48455411e-31 9.59556670e-11 9.99233365e-01\n",
      "  9.99594152e-01 1.00000000e+00 1.00000000e+00 6.56092465e-01]\n",
      " [9.99999881e-01 1.24815239e-15 1.00000000e+00 3.40280755e-13\n",
      "  9.99967337e-01 2.51794741e-09 3.88873696e-06 9.99988556e-01\n",
      "  9.99839544e-01 9.42560434e-01 9.99976397e-01 9.99999762e-01]\n",
      " [1.31170465e-12 9.07694059e-13 9.99999881e-01 2.27283036e-11\n",
      "  9.99999881e-01 4.88768492e-09 4.60190404e-06 1.00000000e+00\n",
      "  9.99547899e-01 9.99909282e-01 9.98077273e-01 4.88118708e-01]\n",
      " [1.41511029e-02 3.90945703e-01 9.99954462e-01 2.54478056e-14\n",
      "  5.43344796e-01 3.79816140e-03 9.99914527e-01 9.99999881e-01\n",
      "  9.99279439e-01 1.00000000e+00 9.92958546e-01 9.99990821e-01]\n",
      " [5.94642602e-09 2.02195042e-05 9.99998450e-01 4.71771792e-18\n",
      "  1.02334935e-02 9.26575840e-01 2.56133847e-09 1.00000000e+00\n",
      "  7.21037269e-01 9.99995947e-01 9.99990344e-01 1.00000000e+00]\n",
      " [1.99198708e-15 1.91494308e-07 1.00000000e+00 7.94067808e-15\n",
      "  1.00000000e+00 7.29897531e-11 6.42431617e-01 1.00000000e+00\n",
      "  1.60723984e-01 1.00000000e+00 1.00000000e+00 1.00000000e+00]\n",
      " [4.13676277e-02 7.57311106e-01 9.99685764e-01 7.88916221e-09\n",
      "  9.99999762e-01 8.72610033e-01 9.99999642e-01 9.99996424e-01\n",
      "  6.31809771e-01 1.60461664e-01 3.45185585e-02 9.99575078e-01]\n",
      " [9.99974728e-01 2.71946669e-01 9.99999046e-01 6.19594542e-10\n",
      "  9.21807706e-01 1.47306887e-08 9.53022838e-01 7.78483094e-12\n",
      "  4.03273245e-03 1.07357803e-08 9.99998331e-01 8.09791904e-13]\n",
      " [9.97874022e-01 7.51629949e-01 9.99999762e-01 1.54835780e-11\n",
      "  6.72721711e-04 7.12217047e-12 8.90212536e-01 1.71421105e-13\n",
      "  2.97836120e-08 2.29578956e-09 9.99500632e-01 5.87086973e-18]\n",
      " [4.18006003e-01 9.73966718e-01 4.24615502e-01 8.53266104e-16\n",
      "  6.26858249e-02 9.79666226e-03 9.99999523e-01 1.22275292e-08\n",
      "  9.81095374e-01 5.59240347e-04 2.65530407e-01 1.45351091e-14]\n",
      " [7.18179822e-01 9.87813115e-01 8.99117231e-01 1.61996944e-10\n",
      "  5.34960449e-01 9.99612987e-01 9.86849070e-01 9.99954939e-01\n",
      "  8.06778908e-01 9.99864221e-01 6.33208752e-01 9.98362482e-01]], shape=(20, 12), dtype=float32)\n"
     ]
    }
   ],
   "source": [
    "for x_batch, y_batch in decoded_test.take(1):\n",
    "    #print(tf.keras.activations.sigmoid(model(x_batch)))\n",
    "    print(model(x_batch))"
   ]
  }
 ],
 "metadata": {
  "kernelspec": {
   "display_name": "Python 3",
   "language": "python",
   "name": "python3"
  },
  "language_info": {
   "codemirror_mode": {
    "name": "ipython",
    "version": 3
   },
   "file_extension": ".py",
   "mimetype": "text/x-python",
   "name": "python",
   "nbconvert_exporter": "python",
   "pygments_lexer": "ipython3",
   "version": "3.8.8"
  }
 },
 "nbformat": 4,
 "nbformat_minor": 5
}
