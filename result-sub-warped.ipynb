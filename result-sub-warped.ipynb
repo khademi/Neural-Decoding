{
 "cells": [
  {
   "cell_type": "code",
   "execution_count": 6,
   "id": "e205b869",
   "metadata": {},
   "outputs": [],
   "source": [
    "import matplotlib.pyplot as plt\n",
    "import numpy as np\n",
    "from scipy import stats\n",
    "from statsmodels.sandbox.stats.multicomp import multipletests"
   ]
  },
  {
   "cell_type": "code",
   "execution_count": 7,
   "id": "5544b4e8",
   "metadata": {},
   "outputs": [],
   "source": [
    "def process(categories, categories_rand, names):\n",
    "    CTEs = [np.mean(c) for c in categories]\n",
    "    CTEs_rand = [np.mean(c) for c in categories_rand]\n",
    "    error = [np.std(c) for c in categories]\n",
    "    error_rand = [np.std(c) for c in categories_rand]\n",
    "    x_pos = np.arange(len(categories))*5\n",
    "    return CTEs, CTEs_rand, error, error_rand, x_pos"
   ]
  },
  {
   "cell_type": "code",
   "execution_count": 15,
   "id": "67737807",
   "metadata": {},
   "outputs": [],
   "source": [
    "# Build the plot\n",
    "def build_plot(CTEs, CTEs_rand, error, error_rand, x_pos, names, pvals_corrected, title, leg_loc):\n",
    "    plt.rc('font', size=12)\n",
    "    fig, ax = plt.subplots()\n",
    "    fig.set_size_inches(14, 6)\n",
    "    plt.yticks(np.arange(0, 1, 0.1))\n",
    "    ax.bar(x_pos, CTEs, yerr=error, align='center', color='white', alpha=1, ecolor='blue', capsize=12, width=2, edgecolor='blue')\n",
    "    ax.bar(x_pos+2, CTEs_rand, yerr=error_rand, align='center', color='white',alpha=1, ecolor='red', capsize=12, width=2, edgecolor='red')\n",
    "    ax.set_ylabel('AUC')\n",
    "    ax.set_xticks(x_pos+1)\n",
    "    ax.set_xticklabels(names)\n",
    "    ax.set_title(title)\n",
    "    #ax.yaxis.grid(True)\n",
    "    ax.legend(['Model', 'Random'], loc=leg_loc)\n",
    "    ax.patches\n",
    "    i = 0\n",
    "    for p, pval in zip(ax.patches, pvals_corrected):\n",
    "        if pval < 0.001:\n",
    "            ax.text(p.get_x() + p.get_width() / 2., p.get_height() + error[i], '***', ha='center')\n",
    "            #ax.axvline(p.get_x() + p.get_width() / 2., lw=0.5)\n",
    "            i += 1\n",
    "            continue\n",
    "        if pval < 0.01:\n",
    "            ax.text(p.get_x() + p.get_width() / 2., p.get_height() + error[i], '**', ha='center')\n",
    "            #ax.axvline(p.get_x() + p.get_width() / 2., lw=0.5)\n",
    "            i += 1\n",
    "            continue\n",
    "        if pval < 0.05:\n",
    "            ax.text(p.get_x() + p.get_width() / 2., p.get_height() + error[i], '*', ha='center')\n",
    "            #ax.axvline(p.get_x() + p.get_width() / 2., lw=0.5)\n",
    "            i += 1\n",
    "            continue\n",
    "        # ax.text(p.get_x() + p.get_width() / 2., p.get_height(), 'n.s.', ha='center')\n",
    "        i += 1\n",
    "    # Save the figure and show\n",
    "    # plt.tight_layout()\n",
    "    # plt.savefig('bar_plot_with_error_bars.png')\n",
    "    plt.show()\n",
    "    return"
   ]
  },
  {
   "cell_type": "code",
   "execution_count": 16,
   "id": "a45dcfd9",
   "metadata": {},
   "outputs": [],
   "source": [
    "def ttest(names, categories, categories_rand):\n",
    "    pvals = []\n",
    "    for r, u, v in zip(names, categories, categories_rand):\n",
    "        print(r,':')\n",
    "        t_stat = stats.ttest_ind(u, v).statistic\n",
    "        pval = stats.ttest_ind(u, v).pvalue / 2\n",
    "        print('t-statistic:', t_stat, 'p-value:', pval)\n",
    "        pvals.append(pval)\n",
    "    # Create a list of the adjusted p-values\n",
    "    reject, pvals_corrected, alphacSidak, alphacBonf = multipletests(pvals, alpha=0.05, method='bonferroni') \n",
    "    print(\"Bonferroni:\\n\")\n",
    "    print(\"Reject:\", reject)\n",
    "    print(\"pvals corrected:\", pvals_corrected)\n",
    "    reject, pvals_corrected, alphacSidak, alphacBonf = multipletests(pvals, alpha=0.05, method='fdr_bh') # Benjamini/Hochberg\n",
    "    print(\"Benjamini/Hochberg:\\n\")\n",
    "    print(\"Reject:\", reject)\n",
    "    print(\"pvals corrected:\", pvals_corrected)\n",
    "    return pvals_corrected"
   ]
  },
  {
   "cell_type": "code",
   "execution_count": 17,
   "id": "55b282a7",
   "metadata": {},
   "outputs": [
    {
     "name": "stdout",
     "output_type": "stream",
     "text": [
      "face :\n",
      "t-statistic: 10.028371159161704 p-value: 5.732402812566959e-10\n",
      "animal :\n",
      "t-statistic: 8.921591234706371 p-value: 4.612597260081845e-09\n",
      "person :\n",
      "t-statistic: 6.494452564337467 p-value: 7.803918059785429e-07\n",
      "furniture :\n",
      "t-statistic: 3.8996021017180524 p-value: 0.00038509835649154164\n",
      "vehicle :\n",
      "t-statistic: 10.659535558551434 p-value: 1.8648505818073506e-10\n",
      "sport :\n",
      "t-statistic: 7.226711687858799 p-value: 1.528745716068599e-07\n",
      "food :\n",
      "t-statistic: 2.3202456232686326 p-value: 0.014997261750562313\n",
      "outdoor :\n",
      "t-statistic: 1.8701541562482715 p-value: 0.03741388294467839\n",
      "Bonferroni:\n",
      "\n",
      "Reject: [ True  True  True  True  True  True False False]\n",
      "pvals corrected: [4.58592225e-09 3.69007781e-08 6.24313445e-06 3.08078685e-03\n",
      " 1.49188047e-09 1.22299657e-06 1.19978094e-01 2.99311064e-01]\n",
      "Benjamini/Hochberg:\n",
      "\n",
      "Reject: [ True  True  True  True  True  True  True  True]\n",
      "pvals corrected: [2.29296113e-09 1.23002594e-08 1.24862689e-06 5.13464475e-04\n",
      " 1.49188047e-09 3.05749143e-07 1.71397277e-02 3.74138829e-02]\n",
      "p-value: 5.732402812566959e-10\n"
     ]
    },
    {
     "data": {
      "image/png": "[encoded data removed]",
      "text/plain": [
       "<Figure size 1008x432 with 1 Axes>"
      ]
     },
     "metadata": {
      "needs_background": "light"
     },
     "output_type": "display_data"
    }
   ],
   "source": [
    "'''\n",
    "person = [0.62, 0.61, 0.58] + [0.58, 0.61, 0.57] + [0.55, 0.58, 0.54] + [0.61, 0.59, 0.6]\n",
    "person_rand = [0.49, 0.49, 0.49] + [0.5, 0.5, 0.5] + [0.51, 0.5, 0.5] + [0.52, 0.5, 0.51]\n",
    "face = [0.62, 0.62, 0.67] + [0.59, 0.61, 0.56] + [0.58, 0.68, 0.56] + [0.53, 0.53, 0.53]\n",
    "face_rand = [0.51, 0.5, 0.5] + [0.5, 0.5, 0.5] + [0.5, 0.5, 0.5] + [0.52, 0.52, 0.54]\n",
    "vehicle = [0.53, 0.54, 0.56] + [0.53, 0.57, 0.54] + [0.55, 0.55, 0.54] + [0.52, 0.5, 0.49]\n",
    "vehicle_rand = [0.5, 0.5, 0.52] + [0.51, 0.5, 0.49] + [0.51, 0.47, 0.49] + [0.48, 0.5, 0.51]\n",
    "outdoor = [0.57, 0.57, 0.61] + [0.55, 0.56, 0.48] + [0.52, 0.52, 0.51] + [0.53, 0.52, 0.53]\n",
    "outdoor_rand = [0.48, 0.48, 0.54] + [0.5, 0.5, 0.5] + [0.49, 0.5, 0.49] + [0.47, 0.5, 0.47]\n",
    "animal = [0.55, 0.6, 0.55] + [0.55, 0.55, 0.56] + [0.61, 0.57, 0.55] + [0.53, 0.5, 0.51]\n",
    "animal_rand = [0.5, 0.5, 0.5] + [0.51, 0.49, 0.49] + [0.5, 0.48, 0.51] + [0.52, 0.5, 0.51]\n",
    "sport = [0.54, 0.55, 0.57] + [0.56, 0.57, 0.58] + [0.55, 0.56, 0.57] + [0.54, 0.53, 0.54]\n",
    "sport_rand = [0.5, 0.51, 0.5] + [0.5, 0.5, 0.49] + [0.49, 0.49, 0.5] + [0.48, 0.51, 0.51]\n",
    "food = [0.55, 0.56, 0.53] + [0.56, 0.52, 0.56] + [0.53, 0.51, 0.52] + [0.51, 0.52, 0.5]\n",
    "food_rand = [0.51, 0.5, 0.48] + [0.48, 0.51, 0.52] + [0.48, 0.48, 0.49] + [0.53, 0.51, 0.52]\n",
    "furniture = [0.53, 0.57, 0.57] + [0.54, 0.57, 0.51] + [0.5, 0.5, 0.49] + [0.57, 0.52, 0.53]\n",
    "furniture_rand = [0.5, 0.48, 0.51] + [0.46, 0.49, 0.49] + [0.51, 0.5, 0.49] + [0.5, 0.51, 0.5]\n",
    "tool = [0.52, 0.52, 0.49] + [0.53, 0.51, 0.49] + [0.49, 0.5, 0.54] + [0.52, 0.51, 0.5]\n",
    "tool_rand = [0.52, 0.49, 0.53] + [0.5, 0.49, 0.49] + [0.49, 0.5, 0.48] + [0.51, 0.49, 0.5]\n",
    "'''\n",
    "person = [0.59, 0.62, 0.55] + [0.52, 0.58, 0.55] + [0.62, 0.56, 0.55] + [0.53, 0.53, 0.55]\n",
    "person_rand = [0.5, 0.5, 0.5] + [0.5, 0.5, 0.5] + [0.5, 0.5, 0.5] + [0.5, 0.5, 0.5]\n",
    "face = [0.67, 0.58, 0.62] + [0.55, 0.67, 0.58] + [0.64, 0.61, 0.65] + [0.59, 0.59, 0.59]\n",
    "face_rand = [0.5, 0.5, 0.5] + [0.5, 0.5, 0.5] + [0.5, 0.5, 0.5] + [0.5, 0.5, 0.5]\n",
    "vehicle = [0.54, 0.53, 0.53] +  [0.54, 0.54, 0.53] + [0.53, 0.52, 0.53] + [0.55, 0.56, 0.53]\n",
    "vehicle_rand = [0.5, 0.5, 0.5] + [0.5, 0.5, 0.5] + [0.5, 0.5, 0.5] + [0.49, 0.51, 0.5]\n",
    "outdoor = [0.52, 0.54, 0.55] + [0.51, 0.51, 0.53] + [0.54, 0.5, 0.46] + [0.49, 0.52, 0.5]\n",
    "outdoor_rand = [0.47, 0.51, 0.47] + [0.49, 0.49, 0.5] + [0.51, 0.5, 0.5] + [0.47, 0.51, 0.54]\n",
    "animal = [0.62, 0.61, 0.62] + [0.62, 0.59, 0.58] + [0.57, 0.55, 0.55] + [0.58, 0.54, 0.54]\n",
    "animal_rand = [0.5, 0.5, 0.5] + [0.48, 0.49, 0.51] + [0.5, 0.5, 0.5] + [0.49, 0.5, 0.5]\n",
    "sport = [0.59, 0.63, 0.58] + [0.56, 0.57, 0.55] + [0.55, 0.61, 0.56] + [0.53, 0.51, 0.56]\n",
    "sport_rand = [0.5, 0.5, 0.5] + [0.5, 0.5, 0.5] + [0.49, 0.5, 0.5] + [0.49, 0.49, 0.5]\n",
    "food = [0.57, 0.56, 0.6] + [0.54, 0.58, 0.5] + [0.5, 0.5, 0.49] + [0.47, 0.52, 0.54]\n",
    "food_rand = [0.5, 0.5, 0.5] + [0.49, 0.5, 0.5] + [0.5, 0.53, 0.5] + [0.47, 0.5, 0.53]\n",
    "furniture = [0.53, 0.52, 0.52] + [0.53, 0.54, 0.5] + [0.51, 0.53, 0.5] + [0.52, 0.51, 0.51]\n",
    "furniture_rand = [0.5, 0.5, 0.5] + [0.5, 0.5, 0.5] + [0.52, 0.5, 0.51] + [0.48, 0.5, 0.5]\n",
    "#tool = [0.52, 0.49, 0.51] + [0.51, 0.51, 0.51] + [0.47, 0.52, 0.52] + [0.48, 0.51, 0.48]\n",
    "#tool_rand = [0.5, 0.5, 0.5] + [0.5, 0.5, 0.5] + [0.5, 0.5, 0.5] + [0.49, 0.49, 0.49]\n",
    "\n",
    "names =['face', 'animal', 'person', 'furniture', 'vehicle', 'sport', 'food', 'outdoor'] \n",
    "sub = [face, animal, person, furniture, vehicle, sport, food, outdoor]\n",
    "sub_rand = [face_rand, animal_rand, person_rand, furniture_rand, vehicle_rand, sport_rand, food_rand,outdoor_rand]\n",
    "\n",
    "categories, categories_rand = sub, sub_rand\n",
    "#categories, categories_rand = np.transpose(categories), np.transpose(categories_rand)\n",
    "CTEs, CTEs_rand, error, error_rand, x_pos = process(categories, categories_rand, names)\n",
    "pvals_corrected = ttest(names, categories, categories_rand)\n",
    "t_stat = stats.ttest_ind(sub[0], sub_rand[0]).statistic\n",
    "pval = stats.ttest_ind(sub[0], sub_rand[0]).pvalue / 2\n",
    "print(\"p-value:\", pval)\n",
    "build_plot(CTEs, CTEs_rand, error, error_rand, x_pos, names, pvals_corrected,\n",
    "           'Generalization Across Subjects', 'upper right')\n"
   ]
  },
  {
   "cell_type": "code",
   "execution_count": 18,
   "id": "72a22a69",
   "metadata": {},
   "outputs": [],
   "source": [
    "def build_subplot(categories, categories_rand, x_pos, names, title, leg_loc):\n",
    "    plt.rc('font', size=16)\n",
    "    fig, ax = plt.subplots(4,3)\n",
    "    fig.set_size_inches(40, 30)\n",
    "    for i in range(4):\n",
    "        for j in range(3):\n",
    "            k = i*3+j\n",
    "            CTEs, CTEs_rand, error, error_rand, x_pos = process(categories[:,k:k+1], categories_rand[:,k:k+1], names)\n",
    "            plt.yticks(np.arange(0, 1, 0.1))\n",
    "            ax[i,j].bar(x_pos, CTEs, align='center', color='blue', alpha=0.8, ecolor='black', capsize=2, width=2)\n",
    "            ax[i,j].bar(x_pos+2, CTEs_rand, align='center', color='red', alpha=0.8, ecolor='black', capsize=2, width=2)\n",
    "            ax[i,j].set_ylabel('AUC')\n",
    "            ax[i,j].set_xticks(x_pos+1)\n",
    "            ax[i,j].set_xticklabels(names)\n",
    "            #ax[i,j].set_title(title)  \n",
    "            ax[i,j].yaxis.grid(True)\n",
    "            #ax[i,j].legend(['Model', 'Random'], loc=leg_loc)\n",
    "            ax[i,j].patches\n",
    "    plt.show()\n",
    "    return"
   ]
  },
  {
   "cell_type": "code",
   "execution_count": null,
   "id": "0e4a5791",
   "metadata": {},
   "outputs": [],
   "source": [
    "categories, categories_rand = np.array(sub), np.array(sub_rand)\n",
    "#categories, categories_rand = np.transpose(categories), np.transpose(categories_rand)\n",
    "build_subplot(categories, categories_rand, x_pos, names,\n",
    "           'Generalization Across Subjects', 'upper right')"
   ]
  },
  {
   "cell_type": "code",
   "execution_count": null,
   "id": "f81adc7a",
   "metadata": {},
   "outputs": [],
   "source": []
  },
  {
   "cell_type": "code",
   "execution_count": null,
   "id": "86360a3a",
   "metadata": {},
   "outputs": [],
   "source": []
  },
  {
   "cell_type": "code",
   "execution_count": null,
   "id": "dae2fb93",
   "metadata": {},
   "outputs": [],
   "source": []
  },
  {
   "cell_type": "code",
   "execution_count": null,
   "id": "9f770988",
   "metadata": {},
   "outputs": [],
   "source": []
  }
 ],
 "metadata": {
  "kernelspec": {
   "display_name": "Python 3 (ipykernel)",
   "language": "python",
   "name": "python3"
  },
  "language_info": {
   "codemirror_mode": {
    "name": "ipython",
    "version": 3
   },
   "file_extension": ".py",
   "mimetype": "text/x-python",
   "name": "python",
   "nbconvert_exporter": "python",
   "pygments_lexer": "ipython3",
   "version": "3.9.12"
  }
 },
 "nbformat": 4,
 "nbformat_minor": 5
}
