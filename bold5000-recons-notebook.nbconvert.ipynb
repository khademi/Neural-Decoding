{
 "cells": [
  {
   "cell_type": "code",
   "execution_count": 1,
   "id": "9d10efc8",
   "metadata": {
    "execution": {
     "iopub.execute_input": "2022-05-06T14:07:04.283189Z",
     "iopub.status.busy": "2022-05-06T14:07:04.282954Z",
     "iopub.status.idle": "2022-05-06T14:07:11.792156Z",
     "shell.execute_reply": "2022-05-06T14:07:11.791617Z"
    }
   },
   "outputs": [],
   "source": [
    "import tensorflow as tf\n",
    "import numpy as np\n",
    "import pandas as pd\n",
    "import json, pickle\n",
    "import os\n",
    "from tensorflow.keras import layers"
   ]
  },
  {
   "cell_type": "code",
   "execution_count": 2,
   "id": "3d9b3c4f",
   "metadata": {
    "execution": {
     "iopub.execute_input": "2022-05-06T14:07:11.795183Z",
     "iopub.status.busy": "2022-05-06T14:07:11.794948Z",
     "iopub.status.idle": "2022-05-06T14:07:28.393788Z",
     "shell.execute_reply": "2022-05-06T14:07:28.392893Z"
    }
   },
   "outputs": [
    {
     "name": "stderr",
     "output_type": "stream",
     "text": [
      "2022-05-06 07:07:12.389575: I tensorflow/stream_executor/platform/default/dso_loader.cc:44] Successfully opened dynamic library libcuda.so.1\n",
      "2022-05-06 07:07:12.434409: I tensorflow/core/common_runtime/gpu/gpu_device.cc:1618] Found device 0 with properties: \n",
      "name: Tesla V100-SXM2-16GB major: 7 minor: 0 memoryClockRate(GHz): 1.53\n",
      "pciBusID: 0000:1a:00.0\n",
      "2022-05-06 07:07:12.437446: I tensorflow/stream_executor/platform/default/dso_loader.cc:44] Successfully opened dynamic library libcudart.so.10.0\n",
      "2022-05-06 07:07:12.441485: I tensorflow/stream_executor/platform/default/dso_loader.cc:44] Successfully opened dynamic library libcublas.so.10.0\n",
      "2022-05-06 07:07:12.445180: I tensorflow/stream_executor/platform/default/dso_loader.cc:44] Successfully opened dynamic library libcufft.so.10.0\n",
      "2022-05-06 07:07:12.447547: I tensorflow/stream_executor/platform/default/dso_loader.cc:44] Successfully opened dynamic library libcurand.so.10.0\n",
      "2022-05-06 07:07:12.451893: I tensorflow/stream_executor/platform/default/dso_loader.cc:44] Successfully opened dynamic library libcusolver.so.10.0\n",
      "2022-05-06 07:07:12.455785: I tensorflow/stream_executor/platform/default/dso_loader.cc:44] Successfully opened dynamic library libcusparse.so.10.0\n",
      "2022-05-06 07:07:12.462794: I tensorflow/stream_executor/platform/default/dso_loader.cc:44] Successfully opened dynamic library libcudnn.so.7\n",
      "2022-05-06 07:07:12.464565: I tensorflow/core/common_runtime/gpu/gpu_device.cc:1746] Adding visible gpu devices: 0\n",
      "2022-05-06 07:07:12.465205: I tensorflow/core/platform/cpu_feature_guard.cc:142] Your CPU supports instructions that this TensorFlow binary was not compiled to use: SSE4.1 SSE4.2 AVX AVX2 AVX512F FMA\n",
      "2022-05-06 07:07:12.473623: I tensorflow/core/platform/profile_utils/cpu_utils.cc:94] CPU Frequency: 2100000000 Hz\n",
      "2022-05-06 07:07:12.474023: I tensorflow/compiler/xla/service/service.cc:168] XLA service 0x555559a77300 executing computations on platform Host. Devices:\n",
      "2022-05-06 07:07:12.474043: I tensorflow/compiler/xla/service/service.cc:175]   StreamExecutor device (0): Host, Default Version\n",
      "2022-05-06 07:07:12.475091: I tensorflow/core/common_runtime/gpu/gpu_device.cc:1618] Found device 0 with properties: \n",
      "name: Tesla V100-SXM2-16GB major: 7 minor: 0 memoryClockRate(GHz): 1.53\n",
      "pciBusID: 0000:1a:00.0\n",
      "2022-05-06 07:07:12.475123: I tensorflow/stream_executor/platform/default/dso_loader.cc:44] Successfully opened dynamic library libcudart.so.10.0\n",
      "2022-05-06 07:07:12.475135: I tensorflow/stream_executor/platform/default/dso_loader.cc:44] Successfully opened dynamic library libcublas.so.10.0\n",
      "2022-05-06 07:07:12.475145: I tensorflow/stream_executor/platform/default/dso_loader.cc:44] Successfully opened dynamic library libcufft.so.10.0\n",
      "2022-05-06 07:07:12.475156: I tensorflow/stream_executor/platform/default/dso_loader.cc:44] Successfully opened dynamic library libcurand.so.10.0\n",
      "2022-05-06 07:07:12.475166: I tensorflow/stream_executor/platform/default/dso_loader.cc:44] Successfully opened dynamic library libcusolver.so.10.0\n",
      "2022-05-06 07:07:12.475176: I tensorflow/stream_executor/platform/default/dso_loader.cc:44] Successfully opened dynamic library libcusparse.so.10.0\n",
      "2022-05-06 07:07:12.475187: I tensorflow/stream_executor/platform/default/dso_loader.cc:44] Successfully opened dynamic library libcudnn.so.7\n",
      "2022-05-06 07:07:12.476894: I tensorflow/core/common_runtime/gpu/gpu_device.cc:1746] Adding visible gpu devices: 0\n",
      "2022-05-06 07:07:12.476921: I tensorflow/stream_executor/platform/default/dso_loader.cc:44] Successfully opened dynamic library libcudart.so.10.0\n",
      "2022-05-06 07:07:12.614606: I tensorflow/core/common_runtime/gpu/gpu_device.cc:1159] Device interconnect StreamExecutor with strength 1 edge matrix:\n",
      "2022-05-06 07:07:12.614638: I tensorflow/core/common_runtime/gpu/gpu_device.cc:1165]      0 \n",
      "2022-05-06 07:07:12.614649: I tensorflow/core/common_runtime/gpu/gpu_device.cc:1178] 0:   N \n",
      "2022-05-06 07:07:12.617360: I tensorflow/core/common_runtime/gpu/gpu_device.cc:1304] Created TensorFlow device (/job:localhost/replica:0/task:0/device:GPU:0 with 15061 MB memory) -> physical GPU (device: 0, name: Tesla V100-SXM2-16GB, pci bus id: 0000:1a:00.0, compute capability: 7.0)\n",
      "2022-05-06 07:07:12.619527: I tensorflow/compiler/xla/service/service.cc:168] XLA service 0x55555a30ed60 executing computations on platform CUDA. Devices:\n",
      "2022-05-06 07:07:12.619546: I tensorflow/compiler/xla/service/service.cc:175]   StreamExecutor device (0): Tesla V100-SXM2-16GB, Compute Capability 7.0\n"
     ]
    },
    {
     "name": "stdout",
     "output_type": "stream",
     "text": [
      "WARNING:tensorflow:No training configuration found in save file: the model was *not* compiled. Compile it manually.\n"
     ]
    }
   ],
   "source": [
    "nasnet = tf.keras.models.load_model('/scratch/st-ipor-1/mkhademi/image_data/NASNetlarge.h5')\n",
    "img_rows, img_cols, channels = 56, 56, 3\n",
    "data_dir = '/arc/project/st-ipor-1/mkhademi/BOLD5000_2.0/'\n",
    "output_dir = '/scratch/st-ipor-1/mkhademi/'\n",
    "subjs = ['CSI1', 'CSI2', 'CSI3', 'CSI4']\n",
    "sub = subjs[0]  \n",
    "bold_imgnames = []\n",
    "f = open(data_dir + sub + '_imgnames.txt', 'r')\n",
    "for imgname in f:\n",
    "    bold_imgnames.append(imgname[:-1])\n",
    "f.close()"
   ]
  },
  {
   "cell_type": "code",
   "execution_count": 3,
   "id": "cf5d467c",
   "metadata": {
    "execution": {
     "iopub.execute_input": "2022-05-06T14:07:28.397224Z",
     "iopub.status.busy": "2022-05-06T14:07:28.396959Z",
     "iopub.status.idle": "2022-05-06T14:08:52.879120Z",
     "shell.execute_reply": "2022-05-06T14:08:52.878503Z"
    }
   },
   "outputs": [
    {
     "name": "stdout",
     "output_type": "stream",
     "text": [
      "Model: \"sequential\"\n",
      "_________________________________________________________________\n",
      "Layer (type)                 Output Shape              Param #   \n",
      "=================================================================\n",
      "conv1 (Conv3D)               (None, 71, 89, 72, 1)     28        \n",
      "_________________________________________________________________\n",
      "conv2 (Conv3D)               (None, 71, 89, 72, 2)     56        \n",
      "_________________________________________________________________\n",
      "max_pooling3d (MaxPooling3D) (None, 35, 44, 36, 2)     0         \n",
      "_________________________________________________________________\n",
      "conv3 (Conv3D)               (None, 35, 44, 36, 4)     220       \n",
      "_________________________________________________________________\n",
      "max_pooling3d_1 (MaxPooling3 (None, 17, 22, 18, 4)     0         \n",
      "_________________________________________________________________\n",
      "flatten (Flatten)            (None, 26928)             0         \n",
      "_________________________________________________________________\n",
      "dropout (Dropout)            (None, 26928)             0         \n",
      "_________________________________________________________________\n",
      "dense (Dense)                (None, 1000)              26929000  \n",
      "_________________________________________________________________\n",
      "softmax (Softmax)            (None, 1000)              0         \n",
      "=================================================================\n",
      "Total params: 26,929,304\n",
      "Trainable params: 26,929,304\n",
      "Non-trainable params: 0\n",
      "_________________________________________________________________\n",
      "Epoch 1/10\n"
     ]
    },
    {
     "name": "stderr",
     "output_type": "stream",
     "text": [
      "2022-05-06 07:07:29.503117: I tensorflow/stream_executor/platform/default/dso_loader.cc:44] Successfully opened dynamic library libcublas.so.10.0\n",
      "2022-05-06 07:07:29.896221: I tensorflow/stream_executor/platform/default/dso_loader.cc:44] Successfully opened dynamic library libcudnn.so.7\n"
     ]
    },
    {
     "name": "stdout",
     "output_type": "stream",
     "text": [
      "214/214 [==============================] - 12s 58ms/step - loss: 0.0015 - mean_squared_error: 0.0015\n",
      "Epoch 2/10\n",
      "  1/214 [..............................] - ETA: 11s - loss: 0.0014 - mean_squared_error: 0.0014"
     ]
    },
    {
     "name": "stderr",
     "output_type": "stream",
     "text": [
      "2022-05-06 07:07:41.309478: W tensorflow/core/common_runtime/base_collective_executor.cc:216] BaseCollectiveExecutor::StartAbort Out of range: End of sequence\n",
      "\t [[{{node IteratorGetNext}}]]\n",
      "\t [[IteratorGetNext/_2]]\n",
      "2022-05-06 07:07:41.309585: W tensorflow/core/common_runtime/base_collective_executor.cc:216] BaseCollectiveExecutor::StartAbort Out of range: End of sequence\n",
      "\t [[{{node IteratorGetNext}}]]\n"
     ]
    },
    {
     "name": "stdout",
     "output_type": "stream",
     "text": [
      "214/214 [==============================] - 8s 38ms/step - loss: 0.0015 - mean_squared_error: 0.0015\n",
      "Epoch 3/10\n",
      "  3/214 [..............................] - ETA: 8s - loss: 0.0015 - mean_squared_error: 0.0015 "
     ]
    },
    {
     "name": "stderr",
     "output_type": "stream",
     "text": [
      "2022-05-06 07:07:49.471368: W tensorflow/core/common_runtime/base_collective_executor.cc:216] BaseCollectiveExecutor::StartAbort Out of range: End of sequence\n",
      "\t [[{{node IteratorGetNext}}]]\n",
      "2022-05-06 07:07:49.471402: W tensorflow/core/common_runtime/base_collective_executor.cc:216] BaseCollectiveExecutor::StartAbort Out of range: End of sequence\n",
      "\t [[{{node IteratorGetNext}}]]\n",
      "\t [[IteratorGetNext/_2]]\n"
     ]
    },
    {
     "name": "stdout",
     "output_type": "stream",
     "text": [
      "214/214 [==============================] - 8s 37ms/step - loss: 0.0015 - mean_squared_error: 0.0015\n",
      "Epoch 4/10\n",
      "  3/214 [..............................] - ETA: 9s - loss: 0.0015 - mean_squared_error: 0.0015 "
     ]
    },
    {
     "name": "stderr",
     "output_type": "stream",
     "text": [
      "2022-05-06 07:07:57.404475: W tensorflow/core/common_runtime/base_collective_executor.cc:216] BaseCollectiveExecutor::StartAbort Out of range: End of sequence\n",
      "\t [[{{node IteratorGetNext}}]]\n",
      "2022-05-06 07:07:57.404495: W tensorflow/core/common_runtime/base_collective_executor.cc:216] BaseCollectiveExecutor::StartAbort Out of range: End of sequence\n",
      "\t [[{{node IteratorGetNext}}]]\n",
      "\t [[IteratorGetNext/_2]]\n"
     ]
    },
    {
     "name": "stdout",
     "output_type": "stream",
     "text": [
      "214/214 [==============================] - 8s 37ms/step - loss: 0.0015 - mean_squared_error: 0.0015\n",
      "Epoch 5/10\n",
      "  3/214 [..............................] - ETA: 8s - loss: 0.0015 - mean_squared_error: 0.0015 "
     ]
    },
    {
     "name": "stderr",
     "output_type": "stream",
     "text": [
      "2022-05-06 07:08:05.355709: W tensorflow/core/common_runtime/base_collective_executor.cc:216] BaseCollectiveExecutor::StartAbort Out of range: End of sequence\n",
      "\t [[{{node IteratorGetNext}}]]\n",
      "\t [[IteratorGetNext/_2]]\n",
      "2022-05-06 07:08:05.355758: W tensorflow/core/common_runtime/base_collective_executor.cc:216] BaseCollectiveExecutor::StartAbort Out of range: End of sequence\n",
      "\t [[{{node IteratorGetNext}}]]\n"
     ]
    },
    {
     "name": "stdout",
     "output_type": "stream",
     "text": [
      "214/214 [==============================] - 8s 37ms/step - loss: 0.0015 - mean_squared_error: 0.0015\n",
      "Epoch 6/10\n",
      "  3/214 [..............................] - ETA: 9s - loss: 0.0015 - mean_squared_error: 0.0015 "
     ]
    },
    {
     "name": "stderr",
     "output_type": "stream",
     "text": [
      "2022-05-06 07:08:13.269147: W tensorflow/core/common_runtime/base_collective_executor.cc:216] BaseCollectiveExecutor::StartAbort Out of range: End of sequence\n",
      "\t [[{{node IteratorGetNext}}]]\n",
      "\t [[IteratorGetNext/_2]]\n",
      "2022-05-06 07:08:13.269194: W tensorflow/core/common_runtime/base_collective_executor.cc:216] BaseCollectiveExecutor::StartAbort Out of range: End of sequence\n",
      "\t [[{{node IteratorGetNext}}]]\n"
     ]
    },
    {
     "name": "stdout",
     "output_type": "stream",
     "text": [
      "214/214 [==============================] - 8s 37ms/step - loss: 0.0015 - mean_squared_error: 0.0015\n",
      "Epoch 7/10\n",
      "  3/214 [..............................] - ETA: 8s - loss: 0.0015 - mean_squared_error: 0.0015 "
     ]
    },
    {
     "name": "stderr",
     "output_type": "stream",
     "text": [
      "2022-05-06 07:08:21.193101: W tensorflow/core/common_runtime/base_collective_executor.cc:216] BaseCollectiveExecutor::StartAbort Out of range: End of sequence\n",
      "\t [[{{node IteratorGetNext}}]]\n",
      "2022-05-06 07:08:21.193128: W tensorflow/core/common_runtime/base_collective_executor.cc:216] BaseCollectiveExecutor::StartAbort Out of range: End of sequence\n",
      "\t [[{{node IteratorGetNext}}]]\n",
      "\t [[IteratorGetNext/_2]]\n"
     ]
    },
    {
     "name": "stdout",
     "output_type": "stream",
     "text": [
      "214/214 [==============================] - 8s 37ms/step - loss: 0.0015 - mean_squared_error: 0.0015\n",
      "Epoch 8/10\n",
      "  3/214 [..............................] - ETA: 8s - loss: 0.0015 - mean_squared_error: 0.0015 "
     ]
    },
    {
     "name": "stderr",
     "output_type": "stream",
     "text": [
      "2022-05-06 07:08:29.112669: W tensorflow/core/common_runtime/base_collective_executor.cc:216] BaseCollectiveExecutor::StartAbort Out of range: End of sequence\n",
      "\t [[{{node IteratorGetNext}}]]\n",
      "2022-05-06 07:08:29.112716: W tensorflow/core/common_runtime/base_collective_executor.cc:216] BaseCollectiveExecutor::StartAbort Out of range: End of sequence\n",
      "\t [[{{node IteratorGetNext}}]]\n",
      "\t [[IteratorGetNext/_2]]\n"
     ]
    },
    {
     "name": "stdout",
     "output_type": "stream",
     "text": [
      "214/214 [==============================] - 8s 37ms/step - loss: 0.0015 - mean_squared_error: 0.0015\n",
      "Epoch 9/10\n",
      "  3/214 [..............................] - ETA: 9s - loss: 0.0015 - mean_squared_error: 0.0015 "
     ]
    },
    {
     "name": "stderr",
     "output_type": "stream",
     "text": [
      "2022-05-06 07:08:37.017578: W tensorflow/core/common_runtime/base_collective_executor.cc:216] BaseCollectiveExecutor::StartAbort Out of range: End of sequence\n",
      "\t [[{{node IteratorGetNext}}]]\n",
      "\t [[IteratorGetNext/_2]]\n",
      "2022-05-06 07:08:37.017653: W tensorflow/core/common_runtime/base_collective_executor.cc:216] BaseCollectiveExecutor::StartAbort Out of range: End of sequence\n",
      "\t [[{{node IteratorGetNext}}]]\n"
     ]
    },
    {
     "name": "stdout",
     "output_type": "stream",
     "text": [
      "214/214 [==============================] - 8s 37ms/step - loss: 0.0015 - mean_squared_error: 0.0015\n",
      "Epoch 10/10\n",
      "  3/214 [..............................] - ETA: 8s - loss: 0.0015 - mean_squared_error: 0.0015 "
     ]
    },
    {
     "name": "stderr",
     "output_type": "stream",
     "text": [
      "2022-05-06 07:08:44.938721: W tensorflow/core/common_runtime/base_collective_executor.cc:216] BaseCollectiveExecutor::StartAbort Out of range: End of sequence\n",
      "\t [[{{node IteratorGetNext}}]]\n",
      "2022-05-06 07:08:44.938754: W tensorflow/core/common_runtime/base_collective_executor.cc:216] BaseCollectiveExecutor::StartAbort Out of range: End of sequence\n",
      "\t [[{{node IteratorGetNext}}]]\n",
      "\t [[IteratorGetNext/_2]]\n"
     ]
    },
    {
     "name": "stdout",
     "output_type": "stream",
     "text": [
      "214/214 [==============================] - 8s 37ms/step - loss: 0.0015 - mean_squared_error: 0.0015\n"
     ]
    },
    {
     "name": "stderr",
     "output_type": "stream",
     "text": [
      "2022-05-06 07:08:52.858821: W tensorflow/core/common_runtime/base_collective_executor.cc:216] BaseCollectiveExecutor::StartAbort Out of range: End of sequence\n",
      "\t [[{{node IteratorGetNext}}]]\n",
      "2022-05-06 07:08:52.858847: W tensorflow/core/common_runtime/base_collective_executor.cc:216] BaseCollectiveExecutor::StartAbort Out of range: End of sequence\n",
      "\t [[{{node IteratorGetNext}}]]\n",
      "\t [[IteratorGetNext/_2]]\n"
     ]
    },
    {
     "data": {
      "text/plain": [
       "<tensorflow.python.keras.callbacks.History at 0x2aab3a939c10>"
      ]
     },
     "execution_count": 3,
     "metadata": {},
     "output_type": "execute_result"
    }
   ],
   "source": [
    "batch_size = 10\n",
    "pre_dataset = tf.data.TFRecordDataset(\n",
    "    filenames = [output_dir + 'image_data/' + sub + 'bold5000_coco.tfrecords']).batch(batch_size)\n",
    "def pre_tf_parse(eg):\n",
    "    example = tf.io.parse_example(\n",
    "        eg, {\n",
    "            'x': tf.io.FixedLenFeature(shape=(71, 89, 72, 1), dtype=tf.float32),\n",
    "            'yhat': tf.io.FixedLenFeature(shape=(1000), dtype=tf.float32),\n",
    "        })\n",
    "    return example['x'], example['yhat']\n",
    "pre_dataset = pre_dataset.map(pre_tf_parse)\n",
    "pre_model = tf.keras.Sequential([\n",
    "    tf.keras.Input(shape=(71, 89, 72, 1)),\n",
    "    tf.keras.layers.Conv3D(1, 3, activation='relu', padding='same', name='conv1'),\n",
    "    #tf.keras.layers.MaxPooling3D(pool_size=(2, 2, 2)),\n",
    "    tf.keras.layers.Conv3D(2, 3, activation='relu', padding='same', name='conv2'),\n",
    "    tf.keras.layers.MaxPooling3D(pool_size=(2, 2, 2)),\n",
    "    tf.keras.layers.Conv3D(4, 3, padding='same', name='conv3'),\n",
    "    tf.keras.layers.MaxPooling3D(pool_size=(2, 2, 2)),\n",
    "    tf.keras.layers.Flatten(),\n",
    "    tf.keras.layers.Dropout(rate=0.4),\n",
    "    # tf.keras.layers.Dense(100, activation='sigmoid'),\n",
    "    tf.keras.layers.Dense(1000),\n",
    "    tf.keras.layers.Softmax()\n",
    "    ])\n",
    "pre_model.summary()\n",
    "pre_model.compile(\n",
    "    loss='mse',\n",
    "    optimizer='adam',\n",
    "    metrics=[tf.keras.metrics.MeanSquaredError()],\n",
    ")\n",
    "pre_model.fit(pre_dataset, epochs=10)"
   ]
  },
  {
   "cell_type": "code",
   "execution_count": 4,
   "id": "60d838e7",
   "metadata": {
    "execution": {
     "iopub.execute_input": "2022-05-06T14:08:52.883392Z",
     "iopub.status.busy": "2022-05-06T14:08:52.883135Z",
     "iopub.status.idle": "2022-05-06T14:14:31.802571Z",
     "shell.execute_reply": "2022-05-06T14:14:31.801924Z"
    }
   },
   "outputs": [],
   "source": [
    "img_path = data_dir + '/image_data/ILSVRC/Data/CLS-LOC/train/'\n",
    "filename = output_dir + 'image_data/' + sub + 'bold_recons.tfrecords'\n",
    "writer_recons = tf.io.TFRecordWriter(filename)\n",
    "categories = os.listdir(img_path)\n",
    "for cat in categories[:2]:\n",
    "    tmp = img_path + '/' + cat + '/'\n",
    "    names = os.listdir(tmp)\n",
    "    for name in names:\n",
    "        image = tf.keras.preprocessing.image.load_img(tmp + name, target_size=(331, 331))\n",
    "        image = tf.keras.preprocessing.image.img_to_array(image)\n",
    "        x = tf.reshape(tf.cast(tf.image.resize(image, (int(img_rows), int(img_cols))),\n",
    "                              tf.float32) / 127.5 - 1, (1, img_rows, img_cols, channels))\n",
    "        image = image.reshape((1, image.shape[0], image.shape[1], image.shape[2]))\n",
    "        image = tf.keras.applications.nasnet.preprocess_input(image)  \n",
    "        yhat = nasnet.predict(image)\n",
    "        example = tf.train.Example(features=tf.train.Features(feature={\n",
    "                'x': tf.train.Feature(float_list=tf.train.FloatList(value=yhat[0])),\n",
    "                'y': tf.train.Feature(float_list=tf.train.FloatList(value=np.reshape(x, (-1))))\n",
    "                }))\n",
    "        writer_recons.write(example.SerializeToString())\n",
    "writer_recons.close()"
   ]
  },
  {
   "cell_type": "code",
   "execution_count": 5,
   "id": "2595eca9",
   "metadata": {
    "execution": {
     "iopub.execute_input": "2022-05-06T14:14:31.805796Z",
     "iopub.status.busy": "2022-05-06T14:14:31.805550Z",
     "iopub.status.idle": "2022-05-06T14:14:31.900973Z",
     "shell.execute_reply": "2022-05-06T14:14:31.900474Z"
    }
   },
   "outputs": [],
   "source": [
    "batch_size = 10\n",
    "dataset = tf.data.TFRecordDataset(\n",
    "    filenames = [output_dir + 'image_data/' + sub + 'bold_recons.tfrecords']).batch(batch_size)\n",
    "batch_size = 10\n",
    "def tf_parse(eg):\n",
    "    example = tf.io.parse_example(\n",
    "        eg, {\n",
    "            'x': tf.io.FixedLenFeature(shape=(1000), dtype=tf.float32),\n",
    "            'y': tf.io.FixedLenFeature(shape=(img_rows, img_cols, channels), dtype=tf.float32)\n",
    "        })\n",
    "    return example['x'], example['y']\n",
    "dataset = dataset.map(tf_parse)"
   ]
  },
  {
   "cell_type": "code",
   "execution_count": 6,
   "id": "8500e854",
   "metadata": {
    "execution": {
     "iopub.execute_input": "2022-05-06T14:14:31.903997Z",
     "iopub.status.busy": "2022-05-06T14:14:31.903789Z",
     "iopub.status.idle": "2022-05-06T14:14:32.352229Z",
     "shell.execute_reply": "2022-05-06T14:14:32.351695Z"
    }
   },
   "outputs": [
    {
     "name": "stdout",
     "output_type": "stream",
     "text": [
      "Model: \"sequential_1\"\n",
      "_________________________________________________________________\n",
      "Layer (type)                 Output Shape              Param #   \n",
      "=================================================================\n",
      "dense_1 (Dense)              (None, 12544)             12544000  \n",
      "_________________________________________________________________\n",
      "batch_normalization (BatchNo (None, 12544)             50176     \n",
      "_________________________________________________________________\n",
      "leaky_re_lu (LeakyReLU)      (None, 12544)             0         \n",
      "_________________________________________________________________\n",
      "reshape (Reshape)            (None, 7, 7, 256)         0         \n",
      "_________________________________________________________________\n",
      "conv2d_transpose (Conv2DTran (None, 7, 7, 256)         1638400   \n",
      "_________________________________________________________________\n",
      "batch_normalization_1 (Batch (None, 7, 7, 256)         1024      \n",
      "_________________________________________________________________\n",
      "leaky_re_lu_1 (LeakyReLU)    (None, 7, 7, 256)         0         \n",
      "_________________________________________________________________\n",
      "conv2d_transpose_1 (Conv2DTr (None, 14, 14, 128)       819200    \n",
      "_________________________________________________________________\n",
      "batch_normalization_2 (Batch (None, 14, 14, 128)       512       \n",
      "_________________________________________________________________\n",
      "leaky_re_lu_2 (LeakyReLU)    (None, 14, 14, 128)       0         \n",
      "_________________________________________________________________\n",
      "conv2d_transpose_2 (Conv2DTr (None, 28, 28, 64)        204800    \n",
      "_________________________________________________________________\n",
      "batch_normalization_3 (Batch (None, 28, 28, 64)        256       \n",
      "_________________________________________________________________\n",
      "leaky_re_lu_3 (LeakyReLU)    (None, 28, 28, 64)        0         \n",
      "_________________________________________________________________\n",
      "conv2d_transpose_3 (Conv2DTr (None, 56, 56, 3)         4800      \n",
      "=================================================================\n",
      "Total params: 15,263,168\n",
      "Trainable params: 15,237,184\n",
      "Non-trainable params: 25,984\n",
      "_________________________________________________________________\n",
      "WARNING:tensorflow:Layer dense_1 is casting an input tensor from dtype float64 to the layer's dtype of float32, which is new behavior in TensorFlow 2.  The layer has dtype float32 because it's dtype defaults to floatx.\n",
      "\n",
      "If you intended to run this layer in float32, you can safely ignore this warning. If in doubt, this warning is likely only an issue if you are porting a TensorFlow 1.X model to TensorFlow 2.\n",
      "\n",
      "To change all layers to have dtype float64 by default, call `tf.keras.backend.set_floatx('float64')`. To change just this layer, pass dtype='float64' to the layer constructor. If you are the author of this layer, you can disable autocasting by passing autocast=False to the base Layer constructor.\n",
      "\n",
      "(1, 56, 56, 3)\n"
     ]
    }
   ],
   "source": [
    "def make_generator_model():\n",
    "    model = tf.keras.Sequential()\n",
    "    model.add(layers.Dense(7*7*256, use_bias=False, input_shape=(1000,)))\n",
    "    model.add(layers.BatchNormalization())\n",
    "    model.add(layers.LeakyReLU())\n",
    "    model.add(layers.Reshape((7, 7, 256)))\n",
    "    assert model.output_shape == (None, 7, 7, 256)  # Note: None is the batch size\n",
    "    model.add(layers.Conv2DTranspose(256, (5, 5), strides=(1, 1), padding='same', use_bias=False))\n",
    "    assert model.output_shape == (None, 7, 7, 256)\n",
    "    model.add(layers.BatchNormalization())\n",
    "    model.add(layers.LeakyReLU())\n",
    "    model.add(layers.Conv2DTranspose(128, (5, 5), strides=(2, 2), padding='same', use_bias=False))\n",
    "    assert model.output_shape == (None, 14, 14, 128)\n",
    "    model.add(layers.BatchNormalization())\n",
    "    model.add(layers.LeakyReLU())\n",
    "    model.add(layers.Conv2DTranspose(64, (5, 5), strides=(2, 2), padding='same', use_bias=False))\n",
    "    assert model.output_shape == (None, 28, 28, 64)\n",
    "    model.add(layers.BatchNormalization())\n",
    "    model.add(layers.LeakyReLU())\n",
    "    model.add(layers.Conv2DTranspose(3, (5, 5), strides=(2, 2), padding='same', use_bias=False, \n",
    "                                     activation='tanh'))\n",
    "    assert model.output_shape == (None, 56, 56, 3)\n",
    "    return model\n",
    "\n",
    "model = make_generator_model()\n",
    "model.summary()\n",
    "r = model(np.random.rand(1,1000))\n",
    "print(r.shape)"
   ]
  },
  {
   "cell_type": "code",
   "execution_count": 7,
   "id": "60b6322f",
   "metadata": {
    "execution": {
     "iopub.execute_input": "2022-05-06T14:14:32.355187Z",
     "iopub.status.busy": "2022-05-06T14:14:32.354929Z",
     "iopub.status.idle": "2022-05-06T14:14:39.417893Z",
     "shell.execute_reply": "2022-05-06T14:14:39.417349Z"
    }
   },
   "outputs": [
    {
     "name": "stdout",
     "output_type": "stream",
     "text": [
      "Epoch 1/4\n",
      "260/260 [==============================] - 3s 10ms/step - loss: 0.3299 - mean_squared_error: 0.3299\n",
      "Epoch 2/4\n",
      " 28/260 [==>...........................] - ETA: 1s - loss: 0.3436 - mean_squared_error: 0.3436"
     ]
    },
    {
     "name": "stderr",
     "output_type": "stream",
     "text": [
      "2022-05-06 07:14:34.985327: W tensorflow/core/common_runtime/base_collective_executor.cc:216] BaseCollectiveExecutor::StartAbort Out of range: End of sequence\n",
      "\t [[{{node IteratorGetNext}}]]\n",
      "\t [[IteratorGetNext/_4]]\n",
      "2022-05-06 07:14:34.985407: W tensorflow/core/common_runtime/base_collective_executor.cc:216] BaseCollectiveExecutor::StartAbort Out of range: End of sequence\n",
      "\t [[{{node IteratorGetNext}}]]\n"
     ]
    },
    {
     "name": "stdout",
     "output_type": "stream",
     "text": [
      "260/260 [==============================] - 1s 6ms/step - loss: 0.3225 - mean_squared_error: 0.3224\n",
      "Epoch 3/4\n",
      " 30/260 [==>...........................] - ETA: 1s - loss: 0.3370 - mean_squared_error: 0.3370"
     ]
    },
    {
     "name": "stderr",
     "output_type": "stream",
     "text": [
      "2022-05-06 07:14:36.473607: W tensorflow/core/common_runtime/base_collective_executor.cc:216] BaseCollectiveExecutor::StartAbort Out of range: End of sequence\n",
      "\t [[{{node IteratorGetNext}}]]\n",
      "\t [[IteratorGetNext/_4]]\n",
      "2022-05-06 07:14:36.473689: W tensorflow/core/common_runtime/base_collective_executor.cc:216] BaseCollectiveExecutor::StartAbort Out of range: End of sequence\n",
      "\t [[{{node IteratorGetNext}}]]\n"
     ]
    },
    {
     "name": "stdout",
     "output_type": "stream",
     "text": [
      "260/260 [==============================] - 1s 6ms/step - loss: 0.3191 - mean_squared_error: 0.3190\n",
      "Epoch 4/4\n",
      " 29/260 [==>...........................] - ETA: 1s - loss: 0.3355 - mean_squared_error: 0.3355"
     ]
    },
    {
     "name": "stderr",
     "output_type": "stream",
     "text": [
      "2022-05-06 07:14:37.940270: W tensorflow/core/common_runtime/base_collective_executor.cc:216] BaseCollectiveExecutor::StartAbort Out of range: End of sequence\n",
      "\t [[{{node IteratorGetNext}}]]\n",
      "\t [[IteratorGetNext/_4]]\n",
      "2022-05-06 07:14:37.940345: W tensorflow/core/common_runtime/base_collective_executor.cc:216] BaseCollectiveExecutor::StartAbort Out of range: End of sequence\n",
      "\t [[{{node IteratorGetNext}}]]\n"
     ]
    },
    {
     "name": "stdout",
     "output_type": "stream",
     "text": [
      "260/260 [==============================] - 1s 6ms/step - loss: 0.3158 - mean_squared_error: 0.3157\n"
     ]
    },
    {
     "name": "stderr",
     "output_type": "stream",
     "text": [
      "2022-05-06 07:14:39.406791: W tensorflow/core/common_runtime/base_collective_executor.cc:216] BaseCollectiveExecutor::StartAbort Out of range: End of sequence\n",
      "\t [[{{node IteratorGetNext}}]]\n",
      "\t [[IteratorGetNext/_4]]\n",
      "2022-05-06 07:14:39.406873: W tensorflow/core/common_runtime/base_collective_executor.cc:216] BaseCollectiveExecutor::StartAbort Out of range: End of sequence\n",
      "\t [[{{node IteratorGetNext}}]]\n"
     ]
    },
    {
     "data": {
      "text/plain": [
       "<tensorflow.python.keras.callbacks.History at 0x2ab003dc0590>"
      ]
     },
     "execution_count": 7,
     "metadata": {},
     "output_type": "execute_result"
    }
   ],
   "source": [
    "model.compile(\n",
    "    loss='mse',\n",
    "    optimizer='adam',\n",
    "    metrics=[tf.keras.metrics.MeanSquaredError()],\n",
    ")\n",
    "model.fit(dataset, epochs=4)"
   ]
  }
 ],
 "metadata": {
  "kernelspec": {
   "display_name": "Python 3 (ipykernel)",
   "language": "python",
   "name": "python3"
  },
  "language_info": {
   "codemirror_mode": {
    "name": "ipython",
    "version": 3
   },
   "file_extension": ".py",
   "mimetype": "text/x-python",
   "name": "python",
   "nbconvert_exporter": "python",
   "pygments_lexer": "ipython3",
   "version": "3.7.11"
  }
 },
 "nbformat": 4,
 "nbformat_minor": 5
}
